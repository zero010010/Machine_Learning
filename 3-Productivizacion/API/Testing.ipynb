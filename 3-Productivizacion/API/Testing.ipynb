{
 "cells": [
  {
   "cell_type": "markdown",
   "metadata": {},
   "source": [
    "SPLITTING TRAIN TEST FUNCTION "
   ]
  },
  {
   "cell_type": "code",
   "execution_count": 6,
   "metadata": {},
   "outputs": [],
   "source": [
    "from fastapi import FastAPI \n",
    "import pandas as pd \n",
    "from sklearn.model_selection import train_test_split\n",
    "\n",
    "def split_data(csv_file, test_size=0.2):\n",
    "  csv_file= ('/Users/miguelopez/Desktop/API/data/processed/df_final.csv')\n",
    "  df = pd.read_csv(csv_file)\n",
    "  \n",
    "  X = df.drop('CarbonEmission', axis=1) \n",
    "  y = df['CarbonEmission']\n",
    "  \n",
    "  X_train, X_test, y_train, y_test = train_test_split(X, y, test_size=test_size)\n",
    "  \n",
    "  X_train.to_csv('X_train.csv', index=False)\n",
    "  X_test.to_csv('X_test.csv', index=False)\n",
    "  y_train.to_csv('y_train.csv', index=False) \n",
    "  y_test.to_csv('y_test.csv', index=False)\n",
    "\n",
    "  print(f\"Split data into train and test with {test_size*100}% in test set\")\n"
   ]
  },
  {
   "cell_type": "code",
   "execution_count": 2,
   "metadata": {},
   "outputs": [
    {
     "name": "stdout",
     "output_type": "stream",
     "text": [
      "Split data into train and test with 20.0% in test set\n"
     ]
    }
   ],
   "source": [
    "split_data (\"data.csv\") "
   ]
  },
  {
   "cell_type": "markdown",
   "metadata": {},
   "source": [
    "RETURN PREDICTION "
   ]
  },
  {
   "cell_type": "code",
   "execution_count": 3,
   "metadata": {},
   "outputs": [],
   "source": [
    "# @app.get(\"/v1/train\")\n",
    "def train_api():\n",
    "\n",
    "  # Load data\n",
    "  df = pd.read_csv(\"data.csv\")  \n",
    "  X = df.drop('target', axis=1)\n",
    "  y = df['target']\n",
    "\n",
    "  # Split data\n",
    "  X_train, X_test, y_train, y_test = train_test_split(X, y, test_size=0.2)\n",
    "\n",
    "  # Train model\n",
    "  model = LogisticRegression()\n",
    "  model.fit(X_train, y_train)\n",
    "\n",
    "  # Make predictions\n",
    "  y_pred = model.predict(X_test)\n",
    "\n",
    "  # Add predictions to test DataFrame\n",
    "  X_test['predictions'] = y_pred\n",
    "\n",
    "  return X_test.to_dict()\n"
   ]
  },
  {
   "cell_type": "markdown",
   "metadata": {},
   "source": [
    "all in function "
   ]
  },
  {
   "cell_type": "code",
   "execution_count": 4,
   "metadata": {},
   "outputs": [],
   "source": [
    "# @app.get(\"/v1/train_and_predict\")\n",
    "def train_and_predict():\n",
    "\n",
    "  # Load data\n",
    "  df = pd.read_csv(\"/Users/miguelopez/Desktop/API/data/processed/df_encoded.csv\")\n",
    "\n",
    "  # Split data and save CSV files\n",
    "  X = df.drop('target', axis=1)\n",
    "  y = df['target']\n",
    "\n",
    "  X_train, X_test, y_train, y_test = train_test_split(X, y, test_size=0.2)\n",
    "  \n",
    "  X_train.to_csv('X_train.csv', index=False)\n",
    "  X_test.to_csv('X_test.csv', index=False)\n",
    "  y_train.to_csv('y_train.csv', index=False)\n",
    "  y_test.to_csv('y_test.csv', index=False)\n",
    "\n",
    "  # Train model\n",
    "  model = LogisticRegression()\n",
    "  model.fit(X_train, y_train)  \n",
    "\n",
    "  # Make predictions\n",
    "  y_pred = model.predict(X_test)\n",
    "\n",
    "  # Add predictions to test DataFrame\n",
    "  X_test['predictions'] = y_pred\n",
    "\n",
    "  return X_test.to_dict()\n"
   ]
  },
  {
   "cell_type": "code",
   "execution_count": 14,
   "metadata": {},
   "outputs": [],
   "source": [
    "# @app.get(\"/v1/train_and_predict\")\n",
    "def train_and_predict():\n",
    "\n",
    "  # Load data\n",
    "  df = pd.read_csv(\"/Users/miguelopez/Desktop/API/data/processed/df_final.csv\")\n",
    "\n",
    "  # Split data and save CSV files\n",
    "  X = df.drop('CarbonEmission', axis=1)\n",
    "  y = df['CarbonEmission']\n",
    "\n",
    "  X_train, X_test, y_train, y_test = train_test_split(X, y, test_size=0.2)\n",
    "  \n",
    "  X_train.to_csv('X_train.csv', index=False)\n",
    "  X_test.to_csv('X_test.csv', index=False)\n",
    "  y_train.to_csv('y_train.csv', index=False)\n",
    "  y_test.to_csv('y_test.csv', index=False)\n",
    "\n",
    "  # Train model\n",
    "  model = DecisionTreeRegressor()               \n",
    "  model.fit(X_train, y_train)  \n",
    "\n",
    "  # Save model\n",
    "  # model_path = '/Users/miguelopez/Desktop/API/model/model.pkl' \n",
    "  with open(model.pkl, 'wb') as f:\n",
    "    pickle.dump(model, f)\n",
    "  \n",
    "\n",
    "  # Make predictions\n",
    "  y_pred = model.predict(X_test)\n",
    "\n",
    "  # Add predictions to test DataFrame\n",
    "  X_test['predictions'] = y_pred\n",
    "\n",
    "  return X_test.to_dict()\n"
   ]
  },
  {
   "cell_type": "markdown",
   "metadata": {},
   "source": [
    "metrics "
   ]
  },
  {
   "cell_type": "code",
   "execution_count": 18,
   "metadata": {},
   "outputs": [],
   "source": [
    "import json\n",
    "from sklearn.metrics import accuracy_score, precision_score, recall_score, f1_score, roc_auc_score\n",
    "\n",
    "# @app.get(\"/v2/metrics\")\n",
    "def metrics_api():\n",
    "\n",
    "  # Load model\n",
    "  with open('model.pkl', 'rb') as f:\n",
    "    model = pickle.load(f)  \n",
    "\n",
    "  # Load test data\n",
    "  X_test = pd.read_csv('/Users/miguelopez/Desktop/API/X_test.csv')\n",
    "  y_test = pd.read_csv('//Users/miguelopez/Desktop/API/y_test.csv')\n",
    "\n",
    "  # Make predictions\n",
    "  y_pred = model.predict(X_test)\n",
    "  \n",
    "  # Calculate metrics\n",
    "  accuracy = accuracy_score(y_test, y_pred)\n",
    "  precision = precision_score(y_test, y_pred)\n",
    "  recall = recall_score(y_test, y_pred)\n",
    "  f1 = f1_score(y_test, y_pred)\n",
    "  auc = roc_auc_score(y_test, y_pred)\n",
    "\n",
    "  metrics = {\n",
    "    \"accuracy\": accuracy,\n",
    "    \"precision\": precision, \n",
    "    \"recall\": recall,\n",
    "    \"f1\": f1,\n",
    "    \"auc\": auc\n",
    "  }\n",
    "\n",
    "  return json.dumps(metrics)\n"
   ]
  },
  {
   "cell_type": "markdown",
   "metadata": {},
   "source": [
    "Metrics cont"
   ]
  },
  {
   "cell_type": "code",
   "execution_count": null,
   "metadata": {},
   "outputs": [],
   "source": [
    "def metrics():\n",
    "    model = pickle.load(open(\"model.pkl\", \"rb\"))\n",
    "    \n",
    "    X_test = pd.read_csv(\"/Users/miguelopez/Desktop/API/data/processed/X_test.csv\")\n",
    "    y_test = pd.read_csv(\"/Users/miguelopez/Desktop/API/data/processed/y_test.csv\")  \n",
    "    \n",
    "    y_pred = model.predict(X_test)\n",
    "    R2 = r2_score(y_test, y_pred)\n",
    "    MSE = mean_squared_error(y_test, y_pred)    \n",
    "    MAE = mean_absolute_error(y_test, y_pred)   \n",
    "    \n",
    "    metrics = {\"R2_Score\": R2, \n",
    "               \"MSE\": MSE,\n",
    "               \"MAE\": MAE,}\n",
    "    \n",
    "    return metrics\n",
    "\n",
    "\n"
   ]
  },
  {
   "cell_type": "markdown",
   "metadata": {},
   "source": [
    "Docker notes \n"
   ]
  },
  {
   "cell_type": "code",
   "execution_count": null,
   "metadata": {},
   "outputs": [],
   "source": [
    "# Use an official Python runtime as the base image\n",
    "FROM python:3.11.4\n",
    "\n",
    "# Set the working directory in the container\n",
    "WORKDIR /app\n",
    "\n",
    "# Copy the requirements file to the container\n",
    "COPY requirements.txt .\n",
    "\n",
    "# Install dependencies\n",
    "RUN pip install --no-cache-dir -r requirements.txt\n",
    "\n",
    "# Copy the application code to the container\n",
    "COPY . .\n",
    "\n",
    "# Expose port for the API\n",
    "EXPOSE 8000 \n",
    "\n",
    "# Define environment variable for API\n",
    "ENV API_PORT=8000\n",
    "\n",
    "# Run the API when the container launches\n",
    "CMD [\"uvicorn\", \"main:app\", \"--host\", \"0.0.0.0\", \"--port\", \"$API_PORT\"]\n"
   ]
  },
  {
   "cell_type": "code",
   "execution_count": null,
   "metadata": {},
   "outputs": [],
   "source": [
    "#  build into an image \n",
    "docker build -t myapi .\n",
    "#  run container /access http://localhost:8000.\n",
    "docker run -p 8000:8000 myapi\n"
   ]
  }
 ],
 "metadata": {
  "kernelspec": {
   "display_name": "Python 3",
   "language": "python",
   "name": "python3"
  },
  "language_info": {
   "codemirror_mode": {
    "name": "ipython",
    "version": 3
   },
   "file_extension": ".py",
   "mimetype": "text/x-python",
   "name": "python",
   "nbconvert_exporter": "python",
   "pygments_lexer": "ipython3",
   "version": "3.11.4"
  }
 },
 "nbformat": 4,
 "nbformat_minor": 2
}
