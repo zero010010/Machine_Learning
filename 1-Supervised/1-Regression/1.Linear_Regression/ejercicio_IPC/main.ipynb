{
 "cells": [
  {
   "cell_type": "code",
   "execution_count": 9,
   "metadata": {},
   "outputs": [],
   "source": [
    "\n",
    "# importing librarires\n",
    "import numpy as np # linear algebra\n",
    "import pandas as pd # data processing, CSV file I/O (e.g. pd.read_csv)\n",
    "import matplotlib.pyplot as plt # data visualization\n",
    "import seaborn as sns # statistical data visualization\n",
    "sns.set_style('whitegrid')\n",
    "import matplotlib.pyplot as plt "
   ]
  },
  {
   "attachments": {},
   "cell_type": "markdown",
   "metadata": {},
   "source": [
    "# Dataset 1: Precio medio por metro cuadrado de toda España.\n",
    "\n",
    "Extraido de idealista.com por Adrian \n",
    "\n",
    "Coste 5€"
   ]
  },
  {
   "cell_type": "code",
   "execution_count": 10,
   "metadata": {},
   "outputs": [
    {
     "data": {
      "text/html": [
       "<div>\n",
       "<style scoped>\n",
       "    .dataframe tbody tr th:only-of-type {\n",
       "        vertical-align: middle;\n",
       "    }\n",
       "\n",
       "    .dataframe tbody tr th {\n",
       "        vertical-align: top;\n",
       "    }\n",
       "\n",
       "    .dataframe thead th {\n",
       "        text-align: right;\n",
       "    }\n",
       "</style>\n",
       "<table border=\"1\" class=\"dataframe\">\n",
       "  <thead>\n",
       "    <tr style=\"text-align: right;\">\n",
       "      <th></th>\n",
       "      <th>Mes</th>\n",
       "      <th>Precio m2</th>\n",
       "    </tr>\n",
       "  </thead>\n",
       "  <tbody>\n",
       "    <tr>\n",
       "      <th>0</th>\n",
       "      <td>Diciembre 2022</td>\n",
       "      <td>1.921 €/m2</td>\n",
       "    </tr>\n",
       "    <tr>\n",
       "      <th>1</th>\n",
       "      <td>Noviembre 2022</td>\n",
       "      <td>1.929 €/m2</td>\n",
       "    </tr>\n",
       "    <tr>\n",
       "      <th>2</th>\n",
       "      <td>Octubre 2022</td>\n",
       "      <td>1.910 €/m2</td>\n",
       "    </tr>\n",
       "    <tr>\n",
       "      <th>3</th>\n",
       "      <td>Septiembre 2022</td>\n",
       "      <td>1.893 €/m2</td>\n",
       "    </tr>\n",
       "    <tr>\n",
       "      <th>4</th>\n",
       "      <td>Agosto 2022</td>\n",
       "      <td>1.896 €/m2</td>\n",
       "    </tr>\n",
       "  </tbody>\n",
       "</table>\n",
       "</div>"
      ],
      "text/plain": [
       "               Mes   Precio m2\n",
       "0   Diciembre 2022  1.921 €/m2\n",
       "1   Noviembre 2022  1.929 €/m2\n",
       "2     Octubre 2022  1.910 €/m2\n",
       "3  Septiembre 2022  1.893 €/m2\n",
       "4      Agosto 2022  1.896 €/m2"
      ]
     },
     "execution_count": 10,
     "metadata": {},
     "output_type": "execute_result"
    }
   ],
   "source": [
    "df_pm = pd.read_csv(\"Historico_precios.csv\",sep=\"\\t\")\n",
    "\n",
    "df_pm = df_pm.drop(['Variación mensual','Variación trimestral','Variación anual'],axis=1)\n",
    "\n",
    "df_pm.head()"
   ]
  },
  {
   "cell_type": "code",
   "execution_count": 11,
   "metadata": {},
   "outputs": [
    {
     "data": {
      "text/plain": [
       "(204, 2)"
      ]
     },
     "execution_count": 11,
     "metadata": {},
     "output_type": "execute_result"
    }
   ],
   "source": [
    "df_pm.shape"
   ]
  },
  {
   "cell_type": "markdown",
   "metadata": {},
   "source": [
    "brew tap homebrew/core\n",
    "brew install homebrew/core/libomp\n",
    "pip install lightgbm --install-option=\"--openmp-include-dir=/path/to/libomp/include\" \n",
    "pip install lightgbm --install-option=\"--openmp-include-dir=/path/to/libomp/include\" \n",
    "ln -s /path/to/libomp/lib/libomp.dylib /usr/local/opt/libomp/lib/libomp.dylib\n"
   ]
  },
  {
   "attachments": {},
   "cell_type": "markdown",
   "metadata": {},
   "source": [
    "# Dataset 2: Histórico del IPC\n",
    "\n",
    "Extraido desde https://www.ine.es/consul/serie.do?d=true&s=IPC251852&c=2&"
   ]
  },
  {
   "cell_type": "code",
   "execution_count": 12,
   "metadata": {},
   "outputs": [
    {
     "data": {
      "text/html": [
       "<div>\n",
       "<style scoped>\n",
       "    .dataframe tbody tr th:only-of-type {\n",
       "        vertical-align: middle;\n",
       "    }\n",
       "\n",
       "    .dataframe tbody tr th {\n",
       "        vertical-align: top;\n",
       "    }\n",
       "\n",
       "    .dataframe thead th {\n",
       "        text-align: right;\n",
       "    }\n",
       "</style>\n",
       "<table border=\"1\" class=\"dataframe\">\n",
       "  <thead>\n",
       "    <tr style=\"text-align: right;\">\n",
       "      <th></th>\n",
       "      <th>VALOR</th>\n",
       "    </tr>\n",
       "  </thead>\n",
       "  <tbody>\n",
       "    <tr>\n",
       "      <th>2022M12</th>\n",
       "      <td>899</td>\n",
       "    </tr>\n",
       "    <tr>\n",
       "      <th>2022M11</th>\n",
       "      <td>734</td>\n",
       "    </tr>\n",
       "    <tr>\n",
       "      <th>2022M10</th>\n",
       "      <td>866</td>\n",
       "    </tr>\n",
       "    <tr>\n",
       "      <th>2022M09</th>\n",
       "      <td>498</td>\n",
       "    </tr>\n",
       "    <tr>\n",
       "      <th>2022M08</th>\n",
       "      <td>265</td>\n",
       "    </tr>\n",
       "  </tbody>\n",
       "</table>\n",
       "</div>"
      ],
      "text/plain": [
       "         VALOR\n",
       "2022M12    899\n",
       "2022M11    734\n",
       "2022M10    866\n",
       "2022M09    498\n",
       "2022M08    265"
      ]
     },
     "execution_count": 12,
     "metadata": {},
     "output_type": "execute_result"
    }
   ],
   "source": [
    "df_ipc = pd.read_csv(\"series324445766c.csv\")\n",
    "\n",
    "df_ipc = df_ipc.drop(['PERIODO','TIPO DATO','NOTA'],axis=1)\n",
    "\n",
    "df_ipc.head()"
   ]
  },
  {
   "cell_type": "code",
   "execution_count": null,
   "metadata": {},
   "outputs": [],
   "source": []
  },
  {
   "attachments": {},
   "cell_type": "markdown",
   "metadata": {},
   "source": [
    "# Objetivo: Crear un modelo de Regresión Lineal para precedir el precio medio en base al IPC\n"
   ]
  },
  {
   "cell_type": "code",
   "execution_count": null,
   "metadata": {},
   "outputs": [],
   "source": []
  },
  {
   "cell_type": "markdown",
   "metadata": {},
   "source": [
    "Tarea 1: Arreglar los datos"
   ]
  },
  {
   "cell_type": "code",
   "execution_count": 13,
   "metadata": {},
   "outputs": [],
   "source": [
    "diccionario_meses = {\n",
    "    '01':'Enero',\n",
    "    '02':'Febrero',\n",
    "    '03':'Marzo',\n",
    "    '04':'Abril',\n",
    "    '05':'Mayo',\n",
    "    '06':'Junio',\n",
    "    '07':'Julio',\n",
    "    '08':'Agosto',\n",
    "    '09':'Septiembre',\n",
    "    '10':'Octubre',\n",
    "    '11':'Noviembre',\n",
    "    '12':'Diciembre'    \n",
    "}"
   ]
  },
  {
   "cell_type": "code",
   "execution_count": 14,
   "metadata": {},
   "outputs": [],
   "source": [
    "df_ipc = df_ipc.reset_index().rename({'index':'Fecha'},axis=1) #renombrar columna   "
   ]
  },
  {
   "cell_type": "code",
   "execution_count": null,
   "metadata": {},
   "outputs": [],
   "source": []
  },
  {
   "cell_type": "code",
   "execution_count": 15,
   "metadata": {},
   "outputs": [],
   "source": [
    "fecha_ejemplo = '2022M11' # Noviembre 2022"
   ]
  },
  {
   "cell_type": "code",
   "execution_count": 16,
   "metadata": {},
   "outputs": [
    {
     "data": {
      "text/plain": [
       "['2022', '11']"
      ]
     },
     "execution_count": 16,
     "metadata": {},
     "output_type": "execute_result"
    }
   ],
   "source": [
    "fecha_ejemplo.split(\"M\") # M es el separador    "
   ]
  },
  {
   "cell_type": "markdown",
   "metadata": {},
   "source": [
    "* ***The transforma_fechas() function*** takes in a date string as input and outputs a reformatted version of that date string. Its purpose is to transform a date that is in a numeric month/year format into a more readable string with the month spelled out.\n",
    "\n",
    "* It takes a single input parameter called fecha, which is expected to be a string containing the month as a numeric value followed by the 4-digit year. For example \"32020\" for March 2020.\n",
    "\n",
    "1. first splits the input string on the \"M\" character to separate the numeric month and year into two variables called mes_numerico and anio.\n",
    "\n",
    "2. looks up the string name of the month using a dictionary called diccionario_meses that maps numeric months to their spelled out names.\n",
    "\n",
    "3. The spelled out month name and year are concatenated together with a space in between to create the final output string fecha_n.\n",
    "\n",
    "So in summary, this function takes a numeric date string as input, converts the numeric month to its name, and returns a more readable date string with the month spelled out. It uses string splitting, dictionary lookups, and concatenation to transform the input into a different string output.\n",
    "\n",
    "\n",
    "\n",
    " "
   ]
  },
  {
   "cell_type": "code",
   "execution_count": 17,
   "metadata": {},
   "outputs": [],
   "source": [
    "# Transforms a date in MM/YYYY format to Month YYYY format\n",
    "\n",
    "\n",
    "def transforma_fechas(fecha):\n",
    "\n",
    "    fecha_n = None \n",
    "\n",
    "    anio = fecha.split(\"M\")[0] \n",
    "    mes_numerico = fecha.split(\"M\")[1]\n",
    "    anio,mes_numerico = fecha.split(\"M\")[0],fecha.split(\"M\")[1]\n",
    "\n",
    "    mes_string = diccionario_meses[mes_numerico]\n",
    "    fecha_n = mes_string+\" \"+anio\n",
    "    return fecha_n"
   ]
  },
  {
   "cell_type": "code",
   "execution_count": 18,
   "metadata": {},
   "outputs": [],
   "source": [
    "df_ipc['Mes'] = df_ipc.Fecha.apply(transforma_fechas)\n",
    "\n",
    "# Applies the function to the Fecha column of df_ipc \n",
    "# to extract just the month into a new Mes column\n"
   ]
  },
  {
   "cell_type": "code",
   "execution_count": 19,
   "metadata": {},
   "outputs": [],
   "source": [
    "df_ipc.drop('Fecha',axis=1,inplace=True)# Drops the 'Fecha' column from the df_ipc DataFrame in place.\n"
   ]
  },
  {
   "cell_type": "code",
   "execution_count": 20,
   "metadata": {},
   "outputs": [
    {
     "data": {
      "text/html": [
       "<div>\n",
       "<style scoped>\n",
       "    .dataframe tbody tr th:only-of-type {\n",
       "        vertical-align: middle;\n",
       "    }\n",
       "\n",
       "    .dataframe tbody tr th {\n",
       "        vertical-align: top;\n",
       "    }\n",
       "\n",
       "    .dataframe thead th {\n",
       "        text-align: right;\n",
       "    }\n",
       "</style>\n",
       "<table border=\"1\" class=\"dataframe\">\n",
       "  <thead>\n",
       "    <tr style=\"text-align: right;\">\n",
       "      <th></th>\n",
       "      <th>VALOR</th>\n",
       "      <th>Mes</th>\n",
       "    </tr>\n",
       "  </thead>\n",
       "  <tbody>\n",
       "    <tr>\n",
       "      <th>0</th>\n",
       "      <td>899</td>\n",
       "      <td>Diciembre 2022</td>\n",
       "    </tr>\n",
       "    <tr>\n",
       "      <th>1</th>\n",
       "      <td>734</td>\n",
       "      <td>Noviembre 2022</td>\n",
       "    </tr>\n",
       "    <tr>\n",
       "      <th>2</th>\n",
       "      <td>866</td>\n",
       "      <td>Octubre 2022</td>\n",
       "    </tr>\n",
       "    <tr>\n",
       "      <th>3</th>\n",
       "      <td>498</td>\n",
       "      <td>Septiembre 2022</td>\n",
       "    </tr>\n",
       "    <tr>\n",
       "      <th>4</th>\n",
       "      <td>265</td>\n",
       "      <td>Agosto 2022</td>\n",
       "    </tr>\n",
       "    <tr>\n",
       "      <th>...</th>\n",
       "      <td>...</td>\n",
       "      <td>...</td>\n",
       "    </tr>\n",
       "    <tr>\n",
       "      <th>247</th>\n",
       "      <td>374</td>\n",
       "      <td>Mayo 2002</td>\n",
       "    </tr>\n",
       "    <tr>\n",
       "      <th>248</th>\n",
       "      <td>118</td>\n",
       "      <td>Abril 2002</td>\n",
       "    </tr>\n",
       "    <tr>\n",
       "      <th>249</th>\n",
       "      <td>165</td>\n",
       "      <td>Marzo 2002</td>\n",
       "    </tr>\n",
       "    <tr>\n",
       "      <th>250</th>\n",
       "      <td>590</td>\n",
       "      <td>Febrero 2002</td>\n",
       "    </tr>\n",
       "    <tr>\n",
       "      <th>251</th>\n",
       "      <td>530</td>\n",
       "      <td>Enero 2002</td>\n",
       "    </tr>\n",
       "  </tbody>\n",
       "</table>\n",
       "<p>252 rows × 2 columns</p>\n",
       "</div>"
      ],
      "text/plain": [
       "     VALOR              Mes\n",
       "0      899   Diciembre 2022\n",
       "1      734   Noviembre 2022\n",
       "2      866     Octubre 2022\n",
       "3      498  Septiembre 2022\n",
       "4      265      Agosto 2022\n",
       "..     ...              ...\n",
       "247    374        Mayo 2002\n",
       "248    118       Abril 2002\n",
       "249    165       Marzo 2002\n",
       "250    590     Febrero 2002\n",
       "251    530       Enero 2002\n",
       "\n",
       "[252 rows x 2 columns]"
      ]
     },
     "execution_count": 20,
     "metadata": {},
     "output_type": "execute_result"
    }
   ],
   "source": [
    "df_ipc"
   ]
  },
  {
   "attachments": {},
   "cell_type": "markdown",
   "metadata": {},
   "source": [
    "Tarea 2: Juntar los dataframes"
   ]
  },
  {
   "cell_type": "code",
   "execution_count": 21,
   "metadata": {},
   "outputs": [],
   "source": [
    "df = pd.merge(df_ipc,df_pm,on='Mes',how='inner')# Merges df_ipc and df_pm DataFrames on 'Mes' column \n",
    "# using inner join, storing result in df\n"
   ]
  },
  {
   "cell_type": "code",
   "execution_count": 22,
   "metadata": {},
   "outputs": [
    {
     "data": {
      "text/html": [
       "<div>\n",
       "<style scoped>\n",
       "    .dataframe tbody tr th:only-of-type {\n",
       "        vertical-align: middle;\n",
       "    }\n",
       "\n",
       "    .dataframe tbody tr th {\n",
       "        vertical-align: top;\n",
       "    }\n",
       "\n",
       "    .dataframe thead th {\n",
       "        text-align: right;\n",
       "    }\n",
       "</style>\n",
       "<table border=\"1\" class=\"dataframe\">\n",
       "  <thead>\n",
       "    <tr style=\"text-align: right;\">\n",
       "      <th></th>\n",
       "      <th>VALOR</th>\n",
       "      <th>Mes</th>\n",
       "      <th>Precio m2</th>\n",
       "    </tr>\n",
       "  </thead>\n",
       "  <tbody>\n",
       "    <tr>\n",
       "      <th>0</th>\n",
       "      <td>899</td>\n",
       "      <td>Diciembre 2022</td>\n",
       "      <td>1.921 €/m2</td>\n",
       "    </tr>\n",
       "    <tr>\n",
       "      <th>1</th>\n",
       "      <td>734</td>\n",
       "      <td>Noviembre 2022</td>\n",
       "      <td>1.929 €/m2</td>\n",
       "    </tr>\n",
       "    <tr>\n",
       "      <th>2</th>\n",
       "      <td>866</td>\n",
       "      <td>Octubre 2022</td>\n",
       "      <td>1.910 €/m2</td>\n",
       "    </tr>\n",
       "    <tr>\n",
       "      <th>3</th>\n",
       "      <td>498</td>\n",
       "      <td>Septiembre 2022</td>\n",
       "      <td>1.893 €/m2</td>\n",
       "    </tr>\n",
       "    <tr>\n",
       "      <th>4</th>\n",
       "      <td>265</td>\n",
       "      <td>Agosto 2022</td>\n",
       "      <td>1.896 €/m2</td>\n",
       "    </tr>\n",
       "    <tr>\n",
       "      <th>...</th>\n",
       "      <td>...</td>\n",
       "      <td>...</td>\n",
       "      <td>...</td>\n",
       "    </tr>\n",
       "    <tr>\n",
       "      <th>199</th>\n",
       "      <td>251</td>\n",
       "      <td>Mayo 2006</td>\n",
       "      <td>1.937 €/m2</td>\n",
       "    </tr>\n",
       "    <tr>\n",
       "      <th>200</th>\n",
       "      <td>959</td>\n",
       "      <td>Abril 2006</td>\n",
       "      <td>1.934 €/m2</td>\n",
       "    </tr>\n",
       "    <tr>\n",
       "      <th>201</th>\n",
       "      <td>833</td>\n",
       "      <td>Marzo 2006</td>\n",
       "      <td>1.951 €/m2</td>\n",
       "    </tr>\n",
       "    <tr>\n",
       "      <th>202</th>\n",
       "      <td>272</td>\n",
       "      <td>Febrero 2006</td>\n",
       "      <td>1.972 €/m2</td>\n",
       "    </tr>\n",
       "    <tr>\n",
       "      <th>203</th>\n",
       "      <td>234</td>\n",
       "      <td>Enero 2006</td>\n",
       "      <td>1.975 €/m2</td>\n",
       "    </tr>\n",
       "  </tbody>\n",
       "</table>\n",
       "<p>204 rows × 3 columns</p>\n",
       "</div>"
      ],
      "text/plain": [
       "     VALOR              Mes   Precio m2\n",
       "0      899   Diciembre 2022  1.921 €/m2\n",
       "1      734   Noviembre 2022  1.929 €/m2\n",
       "2      866     Octubre 2022  1.910 €/m2\n",
       "3      498  Septiembre 2022  1.893 €/m2\n",
       "4      265      Agosto 2022  1.896 €/m2\n",
       "..     ...              ...         ...\n",
       "199    251        Mayo 2006  1.937 €/m2\n",
       "200    959       Abril 2006  1.934 €/m2\n",
       "201    833       Marzo 2006  1.951 €/m2\n",
       "202    272     Febrero 2006  1.972 €/m2\n",
       "203    234       Enero 2006  1.975 €/m2\n",
       "\n",
       "[204 rows x 3 columns]"
      ]
     },
     "execution_count": 22,
     "metadata": {},
     "output_type": "execute_result"
    }
   ],
   "source": [
    "df"
   ]
  },
  {
   "attachments": {},
   "cell_type": "markdown",
   "metadata": {},
   "source": [
    "Tarea 3: Arreglar las columnas para que sean numéricas "
   ]
  },
  {
   "cell_type": "code",
   "execution_count": 23,
   "metadata": {},
   "outputs": [
    {
     "name": "stdout",
     "output_type": "stream",
     "text": [
      "<class 'pandas.core.frame.DataFrame'>\n",
      "Int64Index: 204 entries, 0 to 203\n",
      "Data columns (total 3 columns):\n",
      " #   Column     Non-Null Count  Dtype \n",
      "---  ------     --------------  ----- \n",
      " 0   VALOR      204 non-null    int64 \n",
      " 1   Mes        204 non-null    object\n",
      " 2   Precio m2  204 non-null    object\n",
      "dtypes: int64(1), object(2)\n",
      "memory usage: 6.4+ KB\n"
     ]
    }
   ],
   "source": [
    "df.info()"
   ]
  },
  {
   "cell_type": "code",
   "execution_count": 24,
   "metadata": {},
   "outputs": [
    {
     "data": {
      "text/plain": [
       "0      1.921\n",
       "1      1.929\n",
       "2      1.910\n",
       "3      1.893\n",
       "4      1.896\n",
       "       ...  \n",
       "199    1.937\n",
       "200    1.934\n",
       "201    1.951\n",
       "202    1.972\n",
       "203    1.975\n",
       "Name: Precio m2, Length: 204, dtype: object"
      ]
     },
     "execution_count": 24,
     "metadata": {},
     "output_type": "execute_result"
    }
   ],
   "source": [
    "# Solucion Adrian\n",
    "df['Precio m2'].str.replace(\" €/m2\",\"\")# Replaces \" €/m2\" with empty string in the 'Precio m2' column of df dataframe. \n",
    "# Removes the \"€/m2\" text from the price per square meter values.\n",
    "\n",
    "\n",
    "# Solución Irene con ayuda de Carlos\n",
    "df['Precio m2'].apply(lambda x: x.split(\" \")[0])# Applies a lambda function to the 'Precio m2' column of df \n",
    "# that splits each value on whitespace and takes the first element.\n",
    "# This removes the \"€/m2\" text from the price per square meter values.\n",
    "\n",
    "df['Precio m2'].str.split(' ').apply(lambda x: x[0])# Splits the 'Precio m2' column on whitespace and applies a lambda function \n",
    "# that takes the first element of the split list. This removes the \"€/m2\" text,\n",
    "# leaving just the numeric price per square meter value.\n",
    "\n",
    "\n",
    "# Escoge la que más te guste :)"
   ]
  },
  {
   "cell_type": "code",
   "execution_count": 25,
   "metadata": {},
   "outputs": [
    {
     "data": {
      "text/plain": [
       "\"Replace the euro symbol and m2 text in the 'Precio m2' \\ncolumn values, converting them to numeric values\""
      ]
     },
     "execution_count": 25,
     "metadata": {},
     "output_type": "execute_result"
    }
   ],
   "source": [
    "df['Precio m2'] = df['Precio m2'].str.replace(\" €/m2\",\"\")\n",
    "\n",
    "'''Replace the euro symbol and m2 text in the 'Precio m2' \n",
    "column values, converting them to numeric values'''\n"
   ]
  },
  {
   "cell_type": "code",
   "execution_count": 26,
   "metadata": {},
   "outputs": [
    {
     "name": "stderr",
     "output_type": "stream",
     "text": [
      "/var/folders/m8/hp9mxxbj6dv9x3px18fy22_r0000gn/T/ipykernel_26845/1562383982.py:1: FutureWarning: The default value of regex will change from True to False in a future version. In addition, single character regular expressions will *not* be treated as literal strings when regex=True.\n",
      "  df['Precio m2'] = df['Precio m2'].str.replace(\".\",\"\").astype(float)# Converts the 'Precio m2' column values from strings to floats\n"
     ]
    }
   ],
   "source": [
    "df['Precio m2'] = df['Precio m2'].str.replace(\".\",\"\").astype(float)# Converts the 'Precio m2' column values from strings to floats \n",
    "# by removing the '.' character and casting to float\n"
   ]
  },
  {
   "cell_type": "code",
   "execution_count": 27,
   "metadata": {},
   "outputs": [
    {
     "data": {
      "text/html": [
       "<div>\n",
       "<style scoped>\n",
       "    .dataframe tbody tr th:only-of-type {\n",
       "        vertical-align: middle;\n",
       "    }\n",
       "\n",
       "    .dataframe tbody tr th {\n",
       "        vertical-align: top;\n",
       "    }\n",
       "\n",
       "    .dataframe thead th {\n",
       "        text-align: right;\n",
       "    }\n",
       "</style>\n",
       "<table border=\"1\" class=\"dataframe\">\n",
       "  <thead>\n",
       "    <tr style=\"text-align: right;\">\n",
       "      <th></th>\n",
       "      <th>VALOR</th>\n",
       "      <th>Mes</th>\n",
       "      <th>Precio m2</th>\n",
       "    </tr>\n",
       "  </thead>\n",
       "  <tbody>\n",
       "    <tr>\n",
       "      <th>0</th>\n",
       "      <td>899</td>\n",
       "      <td>Diciembre 2022</td>\n",
       "      <td>1921.0</td>\n",
       "    </tr>\n",
       "    <tr>\n",
       "      <th>1</th>\n",
       "      <td>734</td>\n",
       "      <td>Noviembre 2022</td>\n",
       "      <td>1929.0</td>\n",
       "    </tr>\n",
       "    <tr>\n",
       "      <th>2</th>\n",
       "      <td>866</td>\n",
       "      <td>Octubre 2022</td>\n",
       "      <td>1910.0</td>\n",
       "    </tr>\n",
       "    <tr>\n",
       "      <th>3</th>\n",
       "      <td>498</td>\n",
       "      <td>Septiembre 2022</td>\n",
       "      <td>1893.0</td>\n",
       "    </tr>\n",
       "    <tr>\n",
       "      <th>4</th>\n",
       "      <td>265</td>\n",
       "      <td>Agosto 2022</td>\n",
       "      <td>1896.0</td>\n",
       "    </tr>\n",
       "  </tbody>\n",
       "</table>\n",
       "</div>"
      ],
      "text/plain": [
       "   VALOR              Mes  Precio m2\n",
       "0    899   Diciembre 2022     1921.0\n",
       "1    734   Noviembre 2022     1929.0\n",
       "2    866     Octubre 2022     1910.0\n",
       "3    498  Septiembre 2022     1893.0\n",
       "4    265      Agosto 2022     1896.0"
      ]
     },
     "execution_count": 27,
     "metadata": {},
     "output_type": "execute_result"
    }
   ],
   "source": [
    "df.head()"
   ]
  },
  {
   "cell_type": "code",
   "execution_count": null,
   "metadata": {},
   "outputs": [],
   "source": []
  },
  {
   "attachments": {},
   "cell_type": "markdown",
   "metadata": {},
   "source": [
    "Paso 4: E D A "
   ]
  },
  {
   "cell_type": "code",
   "execution_count": 28,
   "metadata": {},
   "outputs": [],
   "source": [
    "df.rename({'VALOR':'IPC'},axis=1,inplace=True)# Renames the 'VALOR' column to 'IPC'\n"
   ]
  },
  {
   "cell_type": "code",
   "execution_count": 29,
   "metadata": {},
   "outputs": [
    {
     "data": {
      "text/html": [
       "<div>\n",
       "<style scoped>\n",
       "    .dataframe tbody tr th:only-of-type {\n",
       "        vertical-align: middle;\n",
       "    }\n",
       "\n",
       "    .dataframe tbody tr th {\n",
       "        vertical-align: top;\n",
       "    }\n",
       "\n",
       "    .dataframe thead th {\n",
       "        text-align: right;\n",
       "    }\n",
       "</style>\n",
       "<table border=\"1\" class=\"dataframe\">\n",
       "  <thead>\n",
       "    <tr style=\"text-align: right;\">\n",
       "      <th></th>\n",
       "      <th>IPC</th>\n",
       "      <th>Precio m2</th>\n",
       "    </tr>\n",
       "  </thead>\n",
       "  <tbody>\n",
       "    <tr>\n",
       "      <th>count</th>\n",
       "      <td>204.000000</td>\n",
       "      <td>204.000000</td>\n",
       "    </tr>\n",
       "    <tr>\n",
       "      <th>mean</th>\n",
       "      <td>481.009804</td>\n",
       "      <td>1772.803922</td>\n",
       "    </tr>\n",
       "    <tr>\n",
       "      <th>std</th>\n",
       "      <td>288.168824</td>\n",
       "      <td>171.460779</td>\n",
       "    </tr>\n",
       "    <tr>\n",
       "      <th>min</th>\n",
       "      <td>1.000000</td>\n",
       "      <td>1496.000000</td>\n",
       "    </tr>\n",
       "    <tr>\n",
       "      <th>25%</th>\n",
       "      <td>229.000000</td>\n",
       "      <td>1606.750000</td>\n",
       "    </tr>\n",
       "    <tr>\n",
       "      <th>50%</th>\n",
       "      <td>478.000000</td>\n",
       "      <td>1781.500000</td>\n",
       "    </tr>\n",
       "    <tr>\n",
       "      <th>75%</th>\n",
       "      <td>734.500000</td>\n",
       "      <td>1927.500000</td>\n",
       "    </tr>\n",
       "    <tr>\n",
       "      <th>max</th>\n",
       "      <td>999.000000</td>\n",
       "      <td>2053.000000</td>\n",
       "    </tr>\n",
       "  </tbody>\n",
       "</table>\n",
       "</div>"
      ],
      "text/plain": [
       "              IPC    Precio m2\n",
       "count  204.000000   204.000000\n",
       "mean   481.009804  1772.803922\n",
       "std    288.168824   171.460779\n",
       "min      1.000000  1496.000000\n",
       "25%    229.000000  1606.750000\n",
       "50%    478.000000  1781.500000\n",
       "75%    734.500000  1927.500000\n",
       "max    999.000000  2053.000000"
      ]
     },
     "execution_count": 29,
     "metadata": {},
     "output_type": "execute_result"
    }
   ],
   "source": [
    "df.describe()"
   ]
  },
  {
   "cell_type": "code",
   "execution_count": null,
   "metadata": {},
   "outputs": [],
   "source": []
  },
  {
   "cell_type": "code",
   "execution_count": 30,
   "metadata": {},
   "outputs": [],
   "source": [
    "df['año'] = df.Mes.apply(lambda x: x.split(\" \")[1])\n",
    "\n",
    "# Extracts the year from the Mes column by splitting on whitespace and taking the second element\n"
   ]
  },
  {
   "cell_type": "code",
   "execution_count": 31,
   "metadata": {},
   "outputs": [
    {
     "data": {
      "text/html": [
       "<div>\n",
       "<style scoped>\n",
       "    .dataframe tbody tr th:only-of-type {\n",
       "        vertical-align: middle;\n",
       "    }\n",
       "\n",
       "    .dataframe tbody tr th {\n",
       "        vertical-align: top;\n",
       "    }\n",
       "\n",
       "    .dataframe thead th {\n",
       "        text-align: right;\n",
       "    }\n",
       "</style>\n",
       "<table border=\"1\" class=\"dataframe\">\n",
       "  <thead>\n",
       "    <tr style=\"text-align: right;\">\n",
       "      <th></th>\n",
       "      <th>IPC</th>\n",
       "      <th>Mes</th>\n",
       "      <th>Precio m2</th>\n",
       "      <th>año</th>\n",
       "    </tr>\n",
       "  </thead>\n",
       "  <tbody>\n",
       "    <tr>\n",
       "      <th>0</th>\n",
       "      <td>899</td>\n",
       "      <td>Diciembre 2022</td>\n",
       "      <td>1921.0</td>\n",
       "      <td>2022</td>\n",
       "    </tr>\n",
       "    <tr>\n",
       "      <th>1</th>\n",
       "      <td>734</td>\n",
       "      <td>Noviembre 2022</td>\n",
       "      <td>1929.0</td>\n",
       "      <td>2022</td>\n",
       "    </tr>\n",
       "    <tr>\n",
       "      <th>2</th>\n",
       "      <td>866</td>\n",
       "      <td>Octubre 2022</td>\n",
       "      <td>1910.0</td>\n",
       "      <td>2022</td>\n",
       "    </tr>\n",
       "    <tr>\n",
       "      <th>3</th>\n",
       "      <td>498</td>\n",
       "      <td>Septiembre 2022</td>\n",
       "      <td>1893.0</td>\n",
       "      <td>2022</td>\n",
       "    </tr>\n",
       "    <tr>\n",
       "      <th>4</th>\n",
       "      <td>265</td>\n",
       "      <td>Agosto 2022</td>\n",
       "      <td>1896.0</td>\n",
       "      <td>2022</td>\n",
       "    </tr>\n",
       "    <tr>\n",
       "      <th>5</th>\n",
       "      <td>986</td>\n",
       "      <td>Julio 2022</td>\n",
       "      <td>1888.0</td>\n",
       "      <td>2022</td>\n",
       "    </tr>\n",
       "    <tr>\n",
       "      <th>6</th>\n",
       "      <td>267</td>\n",
       "      <td>Junio 2022</td>\n",
       "      <td>1876.0</td>\n",
       "      <td>2022</td>\n",
       "    </tr>\n",
       "    <tr>\n",
       "      <th>7</th>\n",
       "      <td>262</td>\n",
       "      <td>Mayo 2022</td>\n",
       "      <td>1869.0</td>\n",
       "      <td>2022</td>\n",
       "    </tr>\n",
       "    <tr>\n",
       "      <th>8</th>\n",
       "      <td>375</td>\n",
       "      <td>Abril 2022</td>\n",
       "      <td>1853.0</td>\n",
       "      <td>2022</td>\n",
       "    </tr>\n",
       "    <tr>\n",
       "      <th>9</th>\n",
       "      <td>566</td>\n",
       "      <td>Marzo 2022</td>\n",
       "      <td>1825.0</td>\n",
       "      <td>2022</td>\n",
       "    </tr>\n",
       "    <tr>\n",
       "      <th>10</th>\n",
       "      <td>403</td>\n",
       "      <td>Febrero 2022</td>\n",
       "      <td>1814.0</td>\n",
       "      <td>2022</td>\n",
       "    </tr>\n",
       "    <tr>\n",
       "      <th>11</th>\n",
       "      <td>567</td>\n",
       "      <td>Enero 2022</td>\n",
       "      <td>1824.0</td>\n",
       "      <td>2022</td>\n",
       "    </tr>\n",
       "  </tbody>\n",
       "</table>\n",
       "</div>"
      ],
      "text/plain": [
       "    IPC              Mes  Precio m2   año\n",
       "0   899   Diciembre 2022     1921.0  2022\n",
       "1   734   Noviembre 2022     1929.0  2022\n",
       "2   866     Octubre 2022     1910.0  2022\n",
       "3   498  Septiembre 2022     1893.0  2022\n",
       "4   265      Agosto 2022     1896.0  2022\n",
       "5   986       Julio 2022     1888.0  2022\n",
       "6   267       Junio 2022     1876.0  2022\n",
       "7   262        Mayo 2022     1869.0  2022\n",
       "8   375       Abril 2022     1853.0  2022\n",
       "9   566       Marzo 2022     1825.0  2022\n",
       "10  403     Febrero 2022     1814.0  2022\n",
       "11  567       Enero 2022     1824.0  2022"
      ]
     },
     "execution_count": 31,
     "metadata": {},
     "output_type": "execute_result"
    }
   ],
   "source": [
    "df[df.año==\"2022\"]# Returns a DataFrame filtered to only rows where the 'año' column equals 2022\n"
   ]
  },
  {
   "cell_type": "code",
   "execution_count": 32,
   "metadata": {},
   "outputs": [],
   "source": [
    "df_2022 = df[df.año==\"2022\"]"
   ]
  },
  {
   "cell_type": "code",
   "execution_count": 33,
   "metadata": {},
   "outputs": [
    {
     "data": {
      "text/html": [
       "<div>\n",
       "<style scoped>\n",
       "    .dataframe tbody tr th:only-of-type {\n",
       "        vertical-align: middle;\n",
       "    }\n",
       "\n",
       "    .dataframe tbody tr th {\n",
       "        vertical-align: top;\n",
       "    }\n",
       "\n",
       "    .dataframe thead th {\n",
       "        text-align: right;\n",
       "    }\n",
       "</style>\n",
       "<table border=\"1\" class=\"dataframe\">\n",
       "  <thead>\n",
       "    <tr style=\"text-align: right;\">\n",
       "      <th></th>\n",
       "      <th>IPC</th>\n",
       "      <th>Mes</th>\n",
       "      <th>Precio m2</th>\n",
       "      <th>año</th>\n",
       "    </tr>\n",
       "  </thead>\n",
       "  <tbody>\n",
       "    <tr>\n",
       "      <th>0</th>\n",
       "      <td>899</td>\n",
       "      <td>Diciembre 2022</td>\n",
       "      <td>1921.0</td>\n",
       "      <td>2022</td>\n",
       "    </tr>\n",
       "    <tr>\n",
       "      <th>1</th>\n",
       "      <td>734</td>\n",
       "      <td>Noviembre 2022</td>\n",
       "      <td>1929.0</td>\n",
       "      <td>2022</td>\n",
       "    </tr>\n",
       "    <tr>\n",
       "      <th>2</th>\n",
       "      <td>866</td>\n",
       "      <td>Octubre 2022</td>\n",
       "      <td>1910.0</td>\n",
       "      <td>2022</td>\n",
       "    </tr>\n",
       "    <tr>\n",
       "      <th>3</th>\n",
       "      <td>498</td>\n",
       "      <td>Septiembre 2022</td>\n",
       "      <td>1893.0</td>\n",
       "      <td>2022</td>\n",
       "    </tr>\n",
       "    <tr>\n",
       "      <th>4</th>\n",
       "      <td>265</td>\n",
       "      <td>Agosto 2022</td>\n",
       "      <td>1896.0</td>\n",
       "      <td>2022</td>\n",
       "    </tr>\n",
       "    <tr>\n",
       "      <th>5</th>\n",
       "      <td>986</td>\n",
       "      <td>Julio 2022</td>\n",
       "      <td>1888.0</td>\n",
       "      <td>2022</td>\n",
       "    </tr>\n",
       "    <tr>\n",
       "      <th>6</th>\n",
       "      <td>267</td>\n",
       "      <td>Junio 2022</td>\n",
       "      <td>1876.0</td>\n",
       "      <td>2022</td>\n",
       "    </tr>\n",
       "    <tr>\n",
       "      <th>7</th>\n",
       "      <td>262</td>\n",
       "      <td>Mayo 2022</td>\n",
       "      <td>1869.0</td>\n",
       "      <td>2022</td>\n",
       "    </tr>\n",
       "    <tr>\n",
       "      <th>8</th>\n",
       "      <td>375</td>\n",
       "      <td>Abril 2022</td>\n",
       "      <td>1853.0</td>\n",
       "      <td>2022</td>\n",
       "    </tr>\n",
       "    <tr>\n",
       "      <th>9</th>\n",
       "      <td>566</td>\n",
       "      <td>Marzo 2022</td>\n",
       "      <td>1825.0</td>\n",
       "      <td>2022</td>\n",
       "    </tr>\n",
       "    <tr>\n",
       "      <th>10</th>\n",
       "      <td>403</td>\n",
       "      <td>Febrero 2022</td>\n",
       "      <td>1814.0</td>\n",
       "      <td>2022</td>\n",
       "    </tr>\n",
       "    <tr>\n",
       "      <th>11</th>\n",
       "      <td>567</td>\n",
       "      <td>Enero 2022</td>\n",
       "      <td>1824.0</td>\n",
       "      <td>2022</td>\n",
       "    </tr>\n",
       "  </tbody>\n",
       "</table>\n",
       "</div>"
      ],
      "text/plain": [
       "    IPC              Mes  Precio m2   año\n",
       "0   899   Diciembre 2022     1921.0  2022\n",
       "1   734   Noviembre 2022     1929.0  2022\n",
       "2   866     Octubre 2022     1910.0  2022\n",
       "3   498  Septiembre 2022     1893.0  2022\n",
       "4   265      Agosto 2022     1896.0  2022\n",
       "5   986       Julio 2022     1888.0  2022\n",
       "6   267       Junio 2022     1876.0  2022\n",
       "7   262        Mayo 2022     1869.0  2022\n",
       "8   375       Abril 2022     1853.0  2022\n",
       "9   566       Marzo 2022     1825.0  2022\n",
       "10  403     Febrero 2022     1814.0  2022\n",
       "11  567       Enero 2022     1824.0  2022"
      ]
     },
     "execution_count": 33,
     "metadata": {},
     "output_type": "execute_result"
    }
   ],
   "source": [
    "df_2022"
   ]
  },
  {
   "cell_type": "code",
   "execution_count": 34,
   "metadata": {},
   "outputs": [
    {
     "data": {
      "text/html": [
       "<div>\n",
       "<style scoped>\n",
       "    .dataframe tbody tr th:only-of-type {\n",
       "        vertical-align: middle;\n",
       "    }\n",
       "\n",
       "    .dataframe tbody tr th {\n",
       "        vertical-align: top;\n",
       "    }\n",
       "\n",
       "    .dataframe thead th {\n",
       "        text-align: right;\n",
       "    }\n",
       "</style>\n",
       "<table border=\"1\" class=\"dataframe\">\n",
       "  <thead>\n",
       "    <tr style=\"text-align: right;\">\n",
       "      <th></th>\n",
       "      <th>IPC</th>\n",
       "      <th>Precio m2</th>\n",
       "    </tr>\n",
       "  </thead>\n",
       "  <tbody>\n",
       "    <tr>\n",
       "      <th>count</th>\n",
       "      <td>12.000000</td>\n",
       "      <td>12.000000</td>\n",
       "    </tr>\n",
       "    <tr>\n",
       "      <th>mean</th>\n",
       "      <td>557.333333</td>\n",
       "      <td>1874.833333</td>\n",
       "    </tr>\n",
       "    <tr>\n",
       "      <th>std</th>\n",
       "      <td>260.193052</td>\n",
       "      <td>38.769326</td>\n",
       "    </tr>\n",
       "    <tr>\n",
       "      <th>min</th>\n",
       "      <td>262.000000</td>\n",
       "      <td>1814.000000</td>\n",
       "    </tr>\n",
       "    <tr>\n",
       "      <th>25%</th>\n",
       "      <td>348.000000</td>\n",
       "      <td>1846.000000</td>\n",
       "    </tr>\n",
       "    <tr>\n",
       "      <th>50%</th>\n",
       "      <td>532.000000</td>\n",
       "      <td>1882.000000</td>\n",
       "    </tr>\n",
       "    <tr>\n",
       "      <th>75%</th>\n",
       "      <td>767.000000</td>\n",
       "      <td>1899.500000</td>\n",
       "    </tr>\n",
       "    <tr>\n",
       "      <th>max</th>\n",
       "      <td>986.000000</td>\n",
       "      <td>1929.000000</td>\n",
       "    </tr>\n",
       "  </tbody>\n",
       "</table>\n",
       "</div>"
      ],
      "text/plain": [
       "              IPC    Precio m2\n",
       "count   12.000000    12.000000\n",
       "mean   557.333333  1874.833333\n",
       "std    260.193052    38.769326\n",
       "min    262.000000  1814.000000\n",
       "25%    348.000000  1846.000000\n",
       "50%    532.000000  1882.000000\n",
       "75%    767.000000  1899.500000\n",
       "max    986.000000  1929.000000"
      ]
     },
     "execution_count": 34,
     "metadata": {},
     "output_type": "execute_result"
    }
   ],
   "source": [
    "df_2022.describe()"
   ]
  },
  {
   "cell_type": "code",
   "execution_count": 35,
   "metadata": {},
   "outputs": [],
   "source": [
    "import matplotlib.pyplot as plt"
   ]
  },
  {
   "cell_type": "code",
   "execution_count": 60,
   "metadata": {},
   "outputs": [
    {
     "name": "stderr",
     "output_type": "stream",
     "text": [
      "/var/folders/m8/hp9mxxbj6dv9x3px18fy22_r0000gn/T/ipykernel_26845/1767233101.py:5: FutureWarning: The default value of numeric_only in DataFrame.corr is deprecated. In a future version, it will default to False. Select only valid columns or specify the value of numeric_only to silence this warning.\n",
      "  df_2022.corr(method='spearman')\n"
     ]
    },
    {
     "data": {
      "text/html": [
       "<div>\n",
       "<style scoped>\n",
       "    .dataframe tbody tr th:only-of-type {\n",
       "        vertical-align: middle;\n",
       "    }\n",
       "\n",
       "    .dataframe tbody tr th {\n",
       "        vertical-align: top;\n",
       "    }\n",
       "\n",
       "    .dataframe thead th {\n",
       "        text-align: right;\n",
       "    }\n",
       "</style>\n",
       "<table border=\"1\" class=\"dataframe\">\n",
       "  <thead>\n",
       "    <tr style=\"text-align: right;\">\n",
       "      <th></th>\n",
       "      <th>IPC</th>\n",
       "      <th>Precio m2</th>\n",
       "      <th>precio_escalado</th>\n",
       "    </tr>\n",
       "  </thead>\n",
       "  <tbody>\n",
       "    <tr>\n",
       "      <th>IPC</th>\n",
       "      <td>1.000000</td>\n",
       "      <td>0.370629</td>\n",
       "      <td>0.370629</td>\n",
       "    </tr>\n",
       "    <tr>\n",
       "      <th>Precio m2</th>\n",
       "      <td>0.370629</td>\n",
       "      <td>1.000000</td>\n",
       "      <td>1.000000</td>\n",
       "    </tr>\n",
       "    <tr>\n",
       "      <th>precio_escalado</th>\n",
       "      <td>0.370629</td>\n",
       "      <td>1.000000</td>\n",
       "      <td>1.000000</td>\n",
       "    </tr>\n",
       "  </tbody>\n",
       "</table>\n",
       "</div>"
      ],
      "text/plain": [
       "                      IPC  Precio m2  precio_escalado\n",
       "IPC              1.000000   0.370629         0.370629\n",
       "Precio m2        0.370629   1.000000         1.000000\n",
       "precio_escalado  0.370629   1.000000         1.000000"
      ]
     },
     "execution_count": 60,
     "metadata": {},
     "output_type": "execute_result"
    }
   ],
   "source": [
    "# df_2022.corr()\n",
    "\n",
    "# Returns a correlation matrix of the DataFrame showing the correlation coefficients between each pair of columns.\n",
    "\n",
    "df_2022.corr(method='spearman')\n"
   ]
  },
  {
   "cell_type": "code",
   "execution_count": null,
   "metadata": {},
   "outputs": [],
   "source": []
  },
  {
   "cell_type": "code",
   "execution_count": 61,
   "metadata": {},
   "outputs": [
    {
     "data": {
      "text/plain": [
       "<AxesSubplot: >"
      ]
     },
     "execution_count": 61,
     "metadata": {},
     "output_type": "execute_result"
    },
    {
     "data": {
      "image/png": "[encoded data removed]",
      "text/plain": [
       "<Figure size 640x480 with 1 Axes>"
      ]
     },
     "metadata": {},
     "output_type": "display_data"
    }
   ],
   "source": [
    "df_2022['Precio m2'].hist()"
   ]
  },
  {
   "cell_type": "code",
   "execution_count": 38,
   "metadata": {},
   "outputs": [
    {
     "data": {
      "text/plain": [
       "12"
      ]
     },
     "execution_count": 38,
     "metadata": {},
     "output_type": "execute_result"
    }
   ],
   "source": [
    "df_2022['Precio m2'].count() "
   ]
  },
  {
   "attachments": {},
   "cell_type": "markdown",
   "metadata": {},
   "source": [
    "Normalizamos el target"
   ]
  },
  {
   "cell_type": "code",
   "execution_count": 62,
   "metadata": {},
   "outputs": [],
   "source": [
    "from sklearn.preprocessing import StandardScaler"
   ]
  },
  {
   "cell_type": "code",
   "execution_count": 63,
   "metadata": {},
   "outputs": [
    {
     "name": "stderr",
     "output_type": "stream",
     "text": [
      "/var/folders/m8/hp9mxxbj6dv9x3px18fy22_r0000gn/T/ipykernel_26845/3807717616.py:5: SettingWithCopyWarning: \n",
      "A value is trying to be set on a copy of a slice from a DataFrame.\n",
      "Try using .loc[row_indexer,col_indexer] = value instead\n",
      "\n",
      "See the caveats in the documentation: https://pandas.pydata.org/pandas-docs/stable/user_guide/indexing.html#returning-a-view-versus-a-copy\n",
      "  df_2022['precio_escalado'] = scaler.transform(df_2022['Precio m2'].values.reshape(-1,1))\n"
     ]
    }
   ],
   "source": [
    "scaler = StandardScaler()\n",
    "\n",
    "scaler.fit(df_2022['Precio m2'].values.reshape(-1,1))\n",
    "\n",
    "df_2022['precio_escalado'] = scaler.transform(df_2022['Precio m2'].values.reshape(-1,1))"
   ]
  },
  {
   "cell_type": "code",
   "execution_count": 64,
   "metadata": {},
   "outputs": [
    {
     "data": {
      "text/plain": [
       "<AxesSubplot: >"
      ]
     },
     "execution_count": 64,
     "metadata": {},
     "output_type": "execute_result"
    },
    {
     "data": {
      "image/png": "[encoded data removed]",
      "text/plain": [
       "<Figure size 640x480 with 1 Axes>"
      ]
     },
     "metadata": {},
     "output_type": "display_data"
    }
   ],
   "source": [
    "df_2022['precio_escalado'].hist()"
   ]
  },
  {
   "cell_type": "markdown",
   "metadata": {},
   "source": [
    "\n",
    "\n",
    "***Distribution shape:***\n",
    " * The distribution appears relatively normal/***bell-shaped***, though ***slightly right-skewed***. This suggests ***most values are centered around the mean***, with fewer high outliers.\n",
    "\n",
    "* ***Central tendency:*** The distribution is centered around the ***mean of about 4.5***. This gives us a sense of the \"average\" home price.\n",
    "\n",
    "* ***Spread:*** The ***prices seem to range from around 2.5 to 6.5***, with only a few outliers above or below. This gives us a sense of how dispersed the prices are.\n",
    "\n",
    "* ***Outliers***: There are a few potential outliers with very low (below 2.5) or very high (above 6.5) values. These could be valid rare values or could need further investigation for data errors.\n",
    "\n",
    "***Modality:*** The distribution appears ***unimodal - there is only one peak.*** This suggests there are not distinct subgroups of prices.\n",
    "\n",
    "***Bin size:*** The bins could be made smaller to see more detailed distribution shape.\n",
    "\n",
    "***Skewness:*** The distribution appears ***slightly right-skewed***. This suggests that there are more values above the mean.\n",
    "\n",
    "***Gaps in the distribution.Around -1.0*** it could indicate:\n",
    "\n",
    "* ***Missing data*** - There are no or very few data points that have that value (-1.0), so it shows up as a gap. This could be due to data collection issues or filtering of the data.\n",
    "\n",
    "* ***Data processing artifact*** - Sometimes gaps can be introduced when binning continuous data into histograms. ***The specific bin edges chosen can create visual gaps where there aren't necessarily missing values.***\n",
    "\n",
    "* ***Natural gap in the data*** - It may just be that for some reason, there are no or very few homes with that particular price after scaling. So it reflects an actual gap in the underlying data.\n",
    "\n",
    "* To investigate, the raw, unbinned data to see if there are indeed no or very few values around -1.0. I would also try changing the bin sizes / edges to see if the gap persists or is a visual artifact.\n",
    "\n",
    "* If it's a real gap, further analysis could help uncover why - ***is it driven by market conditions, data issues, or other factors?*** The gap is an interesting feature to note as it deviates from the otherwise relatively smooth distribution. Follow up analysis and checking the raw data can shed more light on the reason for it.\n",
    "\n",
    "***So in summary, the histogram shows us the prices are relatively normally distributed, centered around the mean, with a few high outliers but otherwise fairly continuous within a defined range. We'd need to inspect the data further to understand the causes and validity of the outliers.***\n",
    "\n",
    "\n",
    "\n",
    "\n"
   ]
  },
  {
   "cell_type": "code",
   "execution_count": 42,
   "metadata": {},
   "outputs": [
    {
     "data": {
      "text/plain": [
       "1874.8333333333333"
      ]
     },
     "execution_count": 42,
     "metadata": {},
     "output_type": "execute_result"
    }
   ],
   "source": [
    "df_2022['Precio m2'].mean()# Returns the mean price per square meter for the 2022 data\n"
   ]
  },
  {
   "cell_type": "code",
   "execution_count": 43,
   "metadata": {},
   "outputs": [
    {
     "data": {
      "text/plain": [
       "0"
      ]
     },
     "execution_count": 43,
     "metadata": {},
     "output_type": "execute_result"
    }
   ],
   "source": [
    "round(df_2022['precio_escalado'].mean())# Returns the mean of the 'precio_escalado' column in df_2022, rounded to the nearest integer.\n"
   ]
  },
  {
   "cell_type": "code",
   "execution_count": 44,
   "metadata": {},
   "outputs": [
    {
     "data": {
      "text/plain": [
       "38.76932558170965"
      ]
     },
     "execution_count": 44,
     "metadata": {},
     "output_type": "execute_result"
    }
   ],
   "source": [
    "df_2022['Precio m2'].std()# Returns the standard deviation of the 'Precio m2' column in df_2022\n"
   ]
  },
  {
   "cell_type": "markdown",
   "metadata": {},
   "source": [
    "std() the standard deviation of the scaled price column in df_2022, rounded to the nearest integer.\n",
    "\n",
    "* The standard deviation measures the amount of variation or dispersion from the average.\n",
    "\n",
    "\n",
    "* ***A low standard deviation indicates that the data points tend to be close to the mean, while a high standard deviation indicates that the data points are spread out over a wider range of values.***\n"
   ]
  },
  {
   "cell_type": "code",
   "execution_count": 65,
   "metadata": {},
   "outputs": [
    {
     "data": {
      "text/plain": [
       "1"
      ]
     },
     "execution_count": 65,
     "metadata": {},
     "output_type": "execute_result"
    }
   ],
   "source": [
    "round(df_2022['precio_escalado'].std())\n",
    "# Returns the standard deviation of the scaled prices in the 2022 dataframe, rounded to the nearest integer.\n"
   ]
  },
  {
   "cell_type": "markdown",
   "metadata": {},
   "source": [
    "***The standard deviation of a data set is a measure of how spread out or dispersed the data is from the mean.*** \n",
    "\n",
    "* A low standard deviation indicates that the data points tend to be close to the mean, while a high standard deviation indicates that the data points are more spread out from the mean.\n",
    "\n",
    "***A standard deviation of 1 meaning:***\n",
    "\n",
    "* It indicates that the data points are spread out from the mean by about 1 unit on average.\n",
    "\n",
    "* For a normal distribution, about 68% of the data points will lie within +/- 1 standard deviation of the mean.\n",
    "\n",
    "* So a standard deviation of 1 indicates a relatively tight, narrow distribution of data around the mean.\n",
    "\n",
    "* It suggests there is not a lot of variability or dispersion in the data.\n",
    "\n",
    "* The data points are clustered fairly close to the mean value.\n",
    "\n",
    "***So in summary, a standard deviation of 1 indicates the data distribution is relatively narrow, with most values close to the mean and little dispersion. It suggests a high degree of consistency in the data set. A low standard deviation like this is considered desirable in many cases.***"
   ]
  },
  {
   "cell_type": "markdown",
   "metadata": {},
   "source": []
  },
  {
   "cell_type": "code",
   "execution_count": 67,
   "metadata": {},
   "outputs": [],
   "source": [
    "from scipy.stats import shapiro"
   ]
  },
  {
   "cell_type": "code",
   "execution_count": 47,
   "metadata": {},
   "outputs": [
    {
     "data": {
      "text/plain": [
       "ShapiroResult(statistic=0.9384642243385315, pvalue=0.4784366190433502)"
      ]
     },
     "execution_count": 47,
     "metadata": {},
     "output_type": "execute_result"
    }
   ],
   "source": [
    "shapiro(df_2022['precio_escalado'])\n",
    "\n",
    "# Tests the normality of a data column using the Shapiro-Wilk test.\n",
    "# Returns the test statistic and p-value.\n"
   ]
  },
  {
   "cell_type": "markdown",
   "metadata": {},
   "source": [
    "***p-value of 0.478*** from the Shapiro-Wilk test for normality, we can conclude that:\n",
    "\n",
    "* ***The data does not allow us to reject the null hypothesis that the data is normally distributed***. ***Typically a p-value below 0.05 is used as the threshold for rejecting normality***.\n",
    "\n",
    "* Since the p-value is greater than 0.05, we fail to reject the null hypothesis and ***can assume the data is approximately normally distributed***.\n",
    "\n",
    "*  This suggests that using methods and models which assume normality (like linear regression) may be appropriate for this data.\n",
    "\n",
    "***However, with a p-value close to 0.05, we cannot strongly conclude normality.*** Further visual inspection of the data may be prudent to check the distribution.\n",
    "\n",
    "So in summary, the relatively high Shapiro-Wilk p-value suggests the data could be treated as roughly normal, but does not definitively prove normality. We can proceed with using models suited for normal data, but should verify with visualizations. we need to check the test statistic \n",
    "\n",
    "\n",
    "\n"
   ]
  },
  {
   "cell_type": "code",
   "execution_count": 48,
   "metadata": {},
   "outputs": [
    {
     "data": {
      "text/plain": [
       "ShapiroResult(statistic=0.9384642243385315, pvalue=0.4784366190433502)"
      ]
     },
     "execution_count": 48,
     "metadata": {},
     "output_type": "execute_result"
    }
   ],
   "source": [
    "shapiro(df_2022['Precio m2'])\n",
    "\n",
    "# Tests the normality of a data column using the Shapiro-Wilk test.\n",
    "# Returns the test statistic and p-value.\n"
   ]
  },
  {
   "cell_type": "markdown",
   "metadata": {},
   "source": [
    "* The Shapiro-Wilk test statistic measures ***how closely the data matches a normal distribution***.  test statistic value of 0.9384:\n",
    "\n",
    "* The statistic can ***range from 0 to 1, with 1 indicating perfect normality***. A value of 0.9384 is reasonably close to 1.\n",
    "\n",
    "* ***Values above 0.90 are generally considered to show reasonable normality***. So 0.9384 suggests potential normality.\n",
    "\n",
    "* However, ***values below 0.95*** start to raise some questions about departures from normality.\n",
    "\n",
    "* With a statistic below 0.95, we can't conclusively say the data is perfectly normal based on this test alone.\n",
    "\n",
    "* In summary:\n",
    "\n",
    "* A Shapiro-Wilk statistic of 0.9384 indicates ***potential normality but not definitively.***\n",
    "\n",
    "* It is in the ambiguous range between 0.90 and 0.95 where normality is suggested but not confirmed.\n",
    "\n",
    "* The p-value and visual inspection of data should be used together with the statistic to fully assess normality.\n",
    "\n",
    "* The statistic alone is not enough evidence to prove the data is perfectly normal. Further checks would be prudent.\n",
    "\n",
    "* So in practice, a statistic of 0.9384 means normality is possible but not certain based on this Shapiro-Wilk test.\n",
    "\n",
    " ***The p-value and visualization should supplement the statistic.*** for the following reasons:\n",
    "\n",
    " 1. ***The p-value lacks context without knowing the effect size measured by the statistic***. A small p-value could correspond to a trivial deviation.\n",
    "\n",
    "2. ***The statistic lacks thresholding for significance without the p-value***. It does not directly say if the deviation is statistically significant.\n",
    "\n",
    "3. Together they provide more insight:\n",
    "***The statistic gives the size of the effect. The p-value thresholds whether that effect is significant***.\n",
    "\n",
    "4. The p-value gains meaning with the context of the statistic's magnitude.\n",
    "\n",
    "\n",
    "\n",
    "\n",
    "\n"
   ]
  },
  {
   "cell_type": "code",
   "execution_count": null,
   "metadata": {},
   "outputs": [],
   "source": []
  },
  {
   "cell_type": "code",
   "execution_count": 49,
   "metadata": {},
   "outputs": [],
   "source": [
    "import matplotlib.pyplot as plt"
   ]
  },
  {
   "cell_type": "code",
   "execution_count": 50,
   "metadata": {},
   "outputs": [
    {
     "data": {
      "text/plain": [
       "<matplotlib.collections.PathCollection at 0x1275da1d0>"
      ]
     },
     "execution_count": 50,
     "metadata": {},
     "output_type": "execute_result"
    },
    {
     "data": {
      "image/png": "[encoded data removed]",
      "text/plain": [
       "<Figure size 640x480 with 1 Axes>"
      ]
     },
     "metadata": {},
     "output_type": "display_data"
    }
   ],
   "source": [
    "plt.scatter(df_2022['IPC'],df_2022['Precio m2'])\n",
    "\n",
    "# Plots a scatter plot of IPC vs Price per square meter using the 2022 dataframe \n"
   ]
  },
  {
   "cell_type": "markdown",
   "metadata": {},
   "source": [
    "***Scatter plot of 'IPC' (x-axis) vs 'Precio m2' (y-axis) :***\n",
    "\n",
    "* There appears to be a positive correlation between IPC and Precio m2. ***As IPC increases, Precio m2 also tends to increase***. This suggests inflation (as measured by IPC) and housing prices per square meter are positively related.\n",
    "\n",
    "* The relationship appears relatively linear. The points scatter roughly around a straight line going from bottom left to top right. So there ***appears to be a linear relationship between the variables***.\n",
    "\n",
    "* There is some variability in Precio m2 at each level of IPC. ***For a given IPC, there is a range of Precio m2 values***. ***So IPC alone does not completely determine housing prices***. There are likely other factors involved.\n",
    "\n",
    "* The strength of the correlation appears moderate to strong. ***The points are not perfectly aligned, but there is a clear positive trend***. So ***inflation*** seems to have a ***notable, but not absolute, relationship with housing prices***.\n",
    "\n",
    "* There may be ***outliers*** in the data. Some points are further from the main cluster, which could represent ***anomalous or outlier data points***. Additional investigation of these could be warranted.\n",
    "\n",
    "* The nature of the ***connection between IPC and Precio m2 is still unclear***. This scatter plot ***shows correlation but not causation***. More analysis would be needed to determine the causal relationship, if any.\n",
    "\n",
    "***So in summary, the main conclusion is that there appears to be a moderately strong positive correlation between inflation and the housing prices per square meter in this data set. But the scatter plot alone cannot determine a definitive causal relationship.***\n",
    "\n",
    "\n",
    "\n"
   ]
  },
  {
   "cell_type": "code",
   "execution_count": 51,
   "metadata": {},
   "outputs": [],
   "source": [
    "from sklearn.linear_model import LinearRegression"
   ]
  },
  {
   "cell_type": "code",
   "execution_count": 52,
   "metadata": {},
   "outputs": [],
   "source": [
    "model = LinearRegression()"
   ]
  },
  {
   "cell_type": "code",
   "execution_count": 53,
   "metadata": {},
   "outputs": [
    {
     "data": {
      "text/html": [
       "<style>#sk-container-id-1 {color: black;background-color: white;}#sk-container-id-1 pre{padding: 0;}#sk-container-id-1 div.sk-toggleable {background-color: white;}#sk-container-id-1 label.sk-toggleable__label {cursor: pointer;display: block;width: 100%;margin-bottom: 0;padding: 0.3em;box-sizing: border-box;text-align: center;}#sk-container-id-1 label.sk-toggleable__label-arrow:before {content: \"▸\";float: left;margin-right: 0.25em;color: #696969;}#sk-container-id-1 label.sk-toggleable__label-arrow:hover:before {color: black;}#sk-container-id-1 div.sk-estimator:hover label.sk-toggleable__label-arrow:before {color: black;}#sk-container-id-1 div.sk-toggleable__content {max-height: 0;max-width: 0;overflow: hidden;text-align: left;background-color: #f0f8ff;}#sk-container-id-1 div.sk-toggleable__content pre {margin: 0.2em;color: black;border-radius: 0.25em;background-color: #f0f8ff;}#sk-container-id-1 input.sk-toggleable__control:checked~div.sk-toggleable__content {max-height: 200px;max-width: 100%;overflow: auto;}#sk-container-id-1 input.sk-toggleable__control:checked~label.sk-toggleable__label-arrow:before {content: \"▾\";}#sk-container-id-1 div.sk-estimator input.sk-toggleable__control:checked~label.sk-toggleable__label {background-color: #d4ebff;}#sk-container-id-1 div.sk-label input.sk-toggleable__control:checked~label.sk-toggleable__label {background-color: #d4ebff;}#sk-container-id-1 input.sk-hidden--visually {border: 0;clip: rect(1px 1px 1px 1px);clip: rect(1px, 1px, 1px, 1px);height: 1px;margin: -1px;overflow: hidden;padding: 0;position: absolute;width: 1px;}#sk-container-id-1 div.sk-estimator {font-family: monospace;background-color: #f0f8ff;border: 1px dotted black;border-radius: 0.25em;box-sizing: border-box;margin-bottom: 0.5em;}#sk-container-id-1 div.sk-estimator:hover {background-color: #d4ebff;}#sk-container-id-1 div.sk-parallel-item::after {content: \"\";width: 100%;border-bottom: 1px solid gray;flex-grow: 1;}#sk-container-id-1 div.sk-label:hover label.sk-toggleable__label {background-color: #d4ebff;}#sk-container-id-1 div.sk-serial::before {content: \"\";position: absolute;border-left: 1px solid gray;box-sizing: border-box;top: 0;bottom: 0;left: 50%;z-index: 0;}#sk-container-id-1 div.sk-serial {display: flex;flex-direction: column;align-items: center;background-color: white;padding-right: 0.2em;padding-left: 0.2em;position: relative;}#sk-container-id-1 div.sk-item {position: relative;z-index: 1;}#sk-container-id-1 div.sk-parallel {display: flex;align-items: stretch;justify-content: center;background-color: white;position: relative;}#sk-container-id-1 div.sk-item::before, #sk-container-id-1 div.sk-parallel-item::before {content: \"\";position: absolute;border-left: 1px solid gray;box-sizing: border-box;top: 0;bottom: 0;left: 50%;z-index: -1;}#sk-container-id-1 div.sk-parallel-item {display: flex;flex-direction: column;z-index: 1;position: relative;background-color: white;}#sk-container-id-1 div.sk-parallel-item:first-child::after {align-self: flex-end;width: 50%;}#sk-container-id-1 div.sk-parallel-item:last-child::after {align-self: flex-start;width: 50%;}#sk-container-id-1 div.sk-parallel-item:only-child::after {width: 0;}#sk-container-id-1 div.sk-dashed-wrapped {border: 1px dashed gray;margin: 0 0.4em 0.5em 0.4em;box-sizing: border-box;padding-bottom: 0.4em;background-color: white;}#sk-container-id-1 div.sk-label label {font-family: monospace;font-weight: bold;display: inline-block;line-height: 1.2em;}#sk-container-id-1 div.sk-label-container {text-align: center;}#sk-container-id-1 div.sk-container {/* jupyter's `normalize.less` sets `[hidden] { display: none; }` but bootstrap.min.css set `[hidden] { display: none !important; }` so we also need the `!important` here to be able to override the default hidden behavior on the sphinx rendered scikit-learn.org. See: https://github.com/scikit-learn/scikit-learn/issues/21755 */display: inline-block !important;position: relative;}#sk-container-id-1 div.sk-text-repr-fallback {display: none;}</style><div id=\"sk-container-id-1\" class=\"sk-top-container\"><div class=\"sk-text-repr-fallback\"><pre>LinearRegression()</pre><b>In a Jupyter environment, please rerun this cell to show the HTML representation or trust the notebook. <br />On GitHub, the HTML representation is unable to render, please try loading this page with nbviewer.org.</b></div><div class=\"sk-container\" hidden><div class=\"sk-item\"><div class=\"sk-estimator sk-toggleable\"><input class=\"sk-toggleable__control sk-hidden--visually\" id=\"sk-estimator-id-1\" type=\"checkbox\" checked><label for=\"sk-estimator-id-1\" class=\"sk-toggleable__label sk-toggleable__label-arrow\">LinearRegression</label><div class=\"sk-toggleable__content\"><pre>LinearRegression()</pre></div></div></div></div></div>"
      ],
      "text/plain": [
       "LinearRegression()"
      ]
     },
     "execution_count": 53,
     "metadata": {},
     "output_type": "execute_result"
    }
   ],
   "source": [
    "\n",
    "model.fit(df_2022['IPC'].values.reshape(-1,1),\n",
    "# Fits the linear regression model on the IPC and Price per m2 columns from the 2022 dataframe. \n",
    "# The .values converts the Series to numpy arrays and .reshape reshapes them to (-1, 1) for single input.\n",
    "# This allows the model to be fit on the two input columns.\n",
    "df_2022['Precio m2'].values.reshape(-1,1))"
   ]
  },
  {
   "cell_type": "code",
   "execution_count": 54,
   "metadata": {},
   "outputs": [
    {
     "data": {
      "text/plain": [
       "array([1838.60602055])"
      ]
     },
     "execution_count": 54,
     "metadata": {},
     "output_type": "execute_result"
    }
   ],
   "source": [
    "''' The intercept_ attribute of a linear regression model \n",
    "contains the intercept of the model. The intercept is\n",
    "the expected value of the target variable when all \n",
    "predictor variables are 0.\n",
    "'''\n",
    "\n",
    "model.intercept_\n",
    "\n"
   ]
  },
  {
   "cell_type": "markdown",
   "metadata": {},
   "source": [
    "*** The intercept represents the expected value of the response (y) when the predictor (x) is 0.***\n",
    "\n",
    "* An intercept of 1838.60602055 indicates that when the predictor variable is 0, the model predicts the response to be 1838.60602055.\n",
    "\n",
    "* This suggests that even if the predictor is absent, there is still a baseline value of the response variable that is greater than 0.\n",
    "\n",
    "* ***A positive intercept indicates there are likely other variables and factors***, besides the predictor in the model, that influence the response variable.\n",
    "\n",
    "* The model predicts the response to start at 1838.60602055 when the predictor is 0, and then increase or decrease from there as the predictor changes.\n",
    "\n",
    "* The magnitude of the intercept (1838.60602055) is quite large relative to the data, which suggests the model may be missing key predictor variables that explain the baseline value of the response.\n",
    "\n",
    "* There may be inherent factors uncaptured in the model that lead to a high baseline predicted value for the response variable.\n",
    "\n",
    "* Overall, the large positive intercept indicates the model is likely missing key variables that account for the response, leading to a high predicted baseline value even when the included predictor variable is 0.\n",
    "\n",
    "* The large positive intercept suggests the model is incomplete and lacks important predictor variables that explain the full range of variation in the response variable. Additional predictors likely need to be added to better model the data.\n",
    "\n",
    "\n",
    "\n",
    "***"
   ]
  },
  {
   "cell_type": "code",
   "execution_count": 55,
   "metadata": {},
   "outputs": [
    {
     "data": {
      "text/plain": [
       "array([[0.06500116]])"
      ]
     },
     "execution_count": 55,
     "metadata": {},
     "output_type": "execute_result"
    }
   ],
   "source": [
    "'''The model coefficients (model.coef_) \n",
    "show the estimated coefficients \n",
    "for each feature in the linear regression model.\n",
    " This can be used to \n",
    "understand the relationship between \n",
    "features and the target variable.'''\n",
    "\n",
    "\n",
    "model.coef_\n",
    "\n"
   ]
  },
  {
   "cell_type": "markdown",
   "metadata": {},
   "source": [
    "***The coefficient represents the slope of the regression line, or the change in the response (y) for a 1 unit change in the predictor (x).***\n",
    "\n",
    "* A coefficient of 0.06500116 suggests a relatively small, positive relationship between the predictor and response.\n",
    "\n",
    "* Specifically, it indicates that ***for a 1 unit increase in the predictor, the response variable increases by 0.06500116 units.***\n",
    "\n",
    "* The small, ***positive coefficient*** suggests the predictor has a ***real but weak effect on the response variable.***\n",
    "***\n",
    "* ***This could mean the predictor is not the main driver of changes in the response***, and there are likely other important variables not included in the model.\n",
    "\n",
    "* A coefficient close to 0 indicates the predictor does not have a strong linear relationship with the response variable.\n",
    "\n",
    "* The small coefficient relative to the large intercept of 1838 suggests the included predictor has ***low explanatory power for the response variable.***\n",
    "\n",
    "* The model may need additional meaningful predictors to establish a stronger relationship with the response variable.\n",
    "\n",
    "***In summary, the small positive coefficient indicates a weak positive linear relationship between the predictor and response, suggesting the model is incomplete and needs other important predictor variables added.***\n",
    "\n",
    "So in general, the very small coefficient relative to the large intercept indicates the current model lacks explanatory power and needs improvement. Additional predictors are likely needed to strengthen the relationship.\n",
    "\n",
    "\n",
    "\n"
   ]
  },
  {
   "cell_type": "code",
   "execution_count": 68,
   "metadata": {},
   "outputs": [],
   "source": [
    "# Predict IPC values for 2022 using the trained model\n",
    "pred = model.predict(df_2022['IPC'].values.reshape(-1,1))\n",
    "\n",
    "\n"
   ]
  },
  {
   "cell_type": "code",
   "execution_count": 69,
   "metadata": {},
   "outputs": [
    {
     "data": {
      "text/plain": [
       "[<matplotlib.lines.Line2D at 0x12d3275d0>]"
      ]
     },
     "execution_count": 69,
     "metadata": {},
     "output_type": "execute_result"
    },
    {
     "data": {
      "image/png": "[encoded data removed]",
      "text/plain": [
       "<Figure size 640x480 with 1 Axes>"
      ]
     },
     "metadata": {},
     "output_type": "display_data"
    }
   ],
   "source": [
    "plt.scatter(df_2022['IPC'],df_2022['Precio m2'])\n",
    "plt.plot(df_2022['IPC'],pred,color='k')"
   ]
  },
  {
   "cell_type": "markdown",
   "metadata": {},
   "source": [
    "* The model's predicted values follow the general positive trend of the actual data. ***This suggests the model is capturing the overall positive relationship between IPC and Precio m2.***\n",
    "\n",
    "* However, the predicted values appear to under-estimate the actual Precio m2 values, particularly at higher values of IPC. ***The model's predictions run below the main cluster of points***.\n",
    "\n",
    "* ***This indicates the current model is likely underestimating the true effect of IPC on Precio m2***. There are likely other factors not captured in the model that contribute to the Precio m2.\n",
    "\n",
    "* ***The spread of the actual data points around the prediction line highlights the variability in Precio m2 that is not explained by the model***. There remains a lot of unexplained variance.\n",
    "\n",
    "* The model's predictions are likely too low and do not capture the full range of actual Precio m2 values, especially at higher IPC levels.\n",
    "\n",
    "Additional predictor variables are likely needed to improve model accuracy and more fully capture the relationship between IPC and Precio m2.\n",
    "\n",
    "Overall, ***the model shows a basic positive trend but lacks the nuance and flexibility to make accurate predictions across the full range of data***. Refining the model could improve its predictive capabilities.\n",
    "\n",
    "* In summary, the model captures the general positive trend but underestimates the actual Precio m2, indicating its predictions are likely too low across most of the IPC range due to missing variables. Model refinement is needed to improve accuracy."
   ]
  },
  {
   "cell_type": "code",
   "execution_count": 58,
   "metadata": {},
   "outputs": [],
   "source": [
    "from sklearn.metrics import r2_score"
   ]
  },
  {
   "cell_type": "code",
   "execution_count": 59,
   "metadata": {},
   "outputs": [
    {
     "data": {
      "text/plain": [
       "0.19030802510035283"
      ]
     },
     "execution_count": 59,
     "metadata": {},
     "output_type": "execute_result"
    }
   ],
   "source": [
    "# Calculates the R^2 (coefficient of determination) regression score between the actual prices per square meter in df_2022['Precio m2'] and the predicted prices per square meter in pred.\n",
    "r2_score(df_2022['Precio m2'],pred)\n"
   ]
  },
  {
   "cell_type": "markdown",
   "metadata": {},
   "source": [
    "* ***The R-squared indicates the proportion of variance in the response variable (df_2022['Precio m2']) that is explained by the predictor variables in the model.***\n",
    "\n",
    "* An R-squared of 0.1903 is considered a relatively low value. It suggests ***the model can only account for about 19% of the variance in the response variable.***\n",
    "\n",
    "* ***This means most of the variability in Precio m2 (about 81%) is unexplained by the current model.*** There are likely important variables missing from the model.\n",
    "\n",
    "* The low R-squared indicates the model lacks predictive power and does not fit the data very well overall. Its predictions will be far from accurate.\n",
    "\n",
    "* With an R-squared this low, the model is not capturing most of the relationship between the predictors and the response variable.\n",
    "\n",
    "* Additional meaningful predictors need to be identified and added to the model to increase the R-squared and improve its fit to the data.\n",
    "\n",
    "***Key factors that influence Precio m2 are not being modeled properly with the current predictors***. The model needs major improvements.\n",
    "\n",
    "* In summary, ***the very low R-squared of 0.1903 indicates poor model fit and predictive capability***. The model is missing key explanatory variables for the response and needs significant improvement to boost accuracy.\n",
    "\n",
    "***So in general, an R-squared of 0.1903 implies the current regression model is inadequate and lacking in its ability to predict Precio m2 from the predictors. The model needs major refinements to improve fit.***\n",
    "\n",
    "\n",
    "\n"
   ]
  }
 ],
 "metadata": {
  "kernelspec": {
   "display_name": "Python 3",
   "language": "python",
   "name": "python3"
  },
  "language_info": {
   "codemirror_mode": {
    "name": "ipython",
    "version": 3
   },
   "file_extension": ".py",
   "mimetype": "text/x-python",
   "name": "python",
   "nbconvert_exporter": "python",
   "pygments_lexer": "ipython3",
   "version": "3.11.4"
  },
  "orig_nbformat": 4,
  "vscode": {
   "interpreter": {
    "hash": "916dbcbb3f70747c44a77c7bcd40155683ae19c65e1c03b4aa3499c5328201f1"
   }
  }
 },
 "nbformat": 4,
 "nbformat_minor": 2
}
