{
 "cells": [
  {
   "cell_type": "markdown",
   "metadata": {},
   "source": [
    "### Se pide, usando regresión lineal:\n",
    "\n",
    "Dibujar con una línea la relación que hay entre la altura y la edad de los alumnos de esta clase: \n",
    "\n",
    "- ¿Es una buena técnica para este tipo de problemas? ¿Por qué? \n",
    "- ¿Qué error se comete? Calcula los errores que está cometiendo tu modelo uno a uno (lo tienes que calcular tú con python). Aparte, usa el MSE y el RMSE. ¿Alguno es mejor para este problema?\n",
    "- Representa la matriz de correlación, ¿los datos están correlacionados?"
   ]
  },
  {
   "cell_type": "code",
   "execution_count": 2,
   "metadata": {},
   "outputs": [],
   "source": [
    "import pandas as pd \n",
    "import matplotlib.pyplot as plt\n",
    "import seaborn as sns   \n",
    "import numpy as np  "
   ]
  },
  {
   "cell_type": "code",
   "execution_count": 1,
   "metadata": {},
   "outputs": [],
   "source": [
    "from sklearn.linear_model import LinearRegression\n",
    "from sklearn.model_selection import train_test_split\n",
    "from sklearn.metrics import mean_squared_error, mean_absolute_error"
   ]
  },
  {
   "cell_type": "code",
   "execution_count": 3,
   "metadata": {},
   "outputs": [],
   "source": [
    "# crea una lista con , nombre, altura y peso\n",
    "\n",
    "datos= [[\"Ricardo\",32,1.54],\n",
    "     [\"Bea\",25,1.70],\n",
    "     [\"Cris\",38,1.80],\n",
    "     [\"Rocio\",30,1.75],\n",
    "     [\"Javier\",46,1.75],\n",
    "     [\"Carlos\",19,1.85],\n",
    "     [\"Dustin\",26,1.70],\n",
    "     [\"Fer\",37,1.70],\n",
    "     [\"JuanMi\",53,1.75]]\n",
    "\n",
    "     \n",
    "     \n",
    "     "
   ]
  },
  {
   "cell_type": "code",
   "execution_count": 7,
   "metadata": {},
   "outputs": [
    {
     "data": {
      "text/plain": [
       "[['Ricardo', 32, 1.54],\n",
       " ['Bea', 25, 1.7],\n",
       " ['Cris', 38, 1.8],\n",
       " ['Rocio', 30, 1.75],\n",
       " ['Javier', 46, 1.75],\n",
       " ['Carlos', 19, 1.85],\n",
       " ['Dustin', 26, 1.7],\n",
       " ['Fer', 37, 1.7],\n",
       " ['JuanMi', 53, 1.75]]"
      ]
     },
     "execution_count": 7,
     "metadata": {},
     "output_type": "execute_result"
    }
   ],
   "source": [
    "datos"
   ]
  },
  {
   "cell_type": "markdown",
   "metadata": {},
   "source": [
    "Steps : \n",
    "\n",
    "* Extract the age and height columns into X (feature) and y (target) arrays\n",
    "* Split the data into training and test sets\n",
    "* Train a linear regression model on the training set\n",
    "* Evaluate the model by making predictions on the test set and calculating RMSE\n",
    "* Plot the data and model predictions to visualize the fit\n",
    "* Use the model to make predictions on new data"
   ]
  },
  {
   "cell_type": "code",
   "execution_count": 12,
   "metadata": {},
   "outputs": [],
   "source": [
    "# Creates a NumPy array containing the heights and Age from the 'datos' data\n",
    "X=np.array([row[1] for row in datos])\n",
    "y=np.array([row[2] for row in datos])"
   ]
  },
  {
   "cell_type": "code",
   "execution_count": 13,
   "metadata": {},
   "outputs": [
    {
     "data": {
      "text/plain": [
       "array([32, 25, 38, 30, 46, 19, 26, 37, 53])"
      ]
     },
     "execution_count": 13,
     "metadata": {},
     "output_type": "execute_result"
    }
   ],
   "source": [
    "X"
   ]
  },
  {
   "cell_type": "code",
   "execution_count": 14,
   "metadata": {},
   "outputs": [
    {
     "data": {
      "text/plain": [
       "array([1.54, 1.7 , 1.8 , 1.75, 1.75, 1.85, 1.7 , 1.7 , 1.75])"
      ]
     },
     "execution_count": 14,
     "metadata": {},
     "output_type": "execute_result"
    }
   ],
   "source": [
    "y"
   ]
  },
  {
   "cell_type": "code",
   "execution_count": 24,
   "metadata": {},
   "outputs": [],
   "source": [
    "'''Split the data into training\n",
    " and test sets with 20% in test set'''\n",
    "\n",
    "X_train, X_test, y_train, y_test = train_test_split(X, y, test_size=0.2, random_state=42)\n",
    "\n"
   ]
  },
  {
   "cell_type": "markdown",
   "metadata": {},
   "source": [
    "There are a couple reasons why X and y may need to be reshaped to (-1, 1) in a linear regression problem:\n",
    "\n",
    "Many machine learning algorithms, including linear regression, expect the input features (X) and target values (y) to be in matrix/vector format, with each sample being a row and each feature/target being a column.\n",
    "\n",
    "By reshaping X to (-1, 1), it becomes a 2D matrix with 1 column rather than a 1D vector. This allows linear regression to handle situations where you have multiple input features. Even if there is only 1 feature, it needs to be in 2D matrix format.\n",
    "\n",
    "Similarly, reshaping y to (-1, 1) makes it a 2D matrix with 1 column rather than a 1D vector. This allows you to predict multiple target values for each sample if needed.\n",
    "\n",
    "The -1 dimension tells NumPy to automatically figure out that dimension based on the total number of samples. So (-1, 1) essentially means \"make this a 2D matrix with the number of rows equal to the total samples and 1 column\".\n",
    "\n",
    "This reshaping allows the shapes of X and y to properly align for linear regression. X will have shape (n_samples, n_features) and y will have shape (n_samples, 1) so that matrix operations can be performed.\n",
    "\n",
    "\n",
    "\n",
    "\n",
    "\n"
   ]
  },
  {
   "cell_type": "code",
   "execution_count": 27,
   "metadata": {},
   "outputs": [],
   "source": [
    "#  reshape (-1,-1)\n",
    "'''the reshaping is done to ensure X and y \n",
    "are in the expected 2D matrix format\n",
    " with the proper dimensions for linear regression.\n",
    "   The -1 makes the rows automatically match the number of samples.'''\n",
    "\n",
    "X = X.reshape(-1,1)\n",
    "y=y.reshape(-1,1)   "
   ]
  },
  {
   "cell_type": "code",
   "execution_count": 28,
   "metadata": {},
   "outputs": [],
   "source": [
    "model=LinearRegression()    "
   ]
  },
  {
   "cell_type": "code",
   "execution_count": 30,
   "metadata": {},
   "outputs": [
    {
     "name": "stdout",
     "output_type": "stream",
     "text": [
      "[1.75058538] [[-0.00046761]]\n"
     ]
    }
   ],
   "source": [
    "model.fit(X_train, y_train)\n",
    "print(model.intercept_, model.coef_)\n"
   ]
  },
  {
   "cell_type": "markdown",
   "metadata": {},
   "source": [
    "***The intercept value =  1.75058538 represents the predicted height when the input feature (X) = 0. \n",
    "Baseline height prediction.\n",
    "\n",
    "The coefficient value of -0.00046761 represents the relationship between the input feature (X) and the predicted height (y). Specifically, it suggests that for each unit increase in X, the predicted height decreases by 0.00046761 units.\n",
    "\n",
    "The negative coefficient indicates there is a negative correlation between the input feature and the predicted height. As X increases, the predicted height decreases.\n",
    "\n",
    "The very small magnitude of the coefficient (-0.00046761) suggests the relationship between X and predicted height is weak. The input feature does not have a large effect on the prediction.\n",
    "\n",
    "With only one input feature, this is evidence of a simple linear relationship between the input and output. The model has learned a linear function to estimate height from the single input feature.\n",
    "\n",
    "The low coefficient magnitude indicates the input feature alone does not explain much of the variance in height. More features may be needed to improve the model.\n",
    "\n",
    "So in summary, the intercept represents a baseline height, the coefficient represents a weak negative linear relationship between the input and output, and more features may be needed to improve the model fit. The current model has learned a simple linear function relating the input to height.\n",
    "\n",
    "\n",
    "\n",
    "\n"
   ]
  },
  {
   "cell_type": "code",
   "execution_count": 33,
   "metadata": {},
   "outputs": [
    {
     "data": {
      "text/plain": [
       "Text(0.5, 0, 'Age')"
      ]
     },
     "execution_count": 33,
     "metadata": {},
     "output_type": "execute_result"
    },
    {
     "data": {
      "image/png": "[encoded data removed]",
      "text/plain": [
       "<Figure size 640x480 with 1 Axes>"
      ]
     },
     "metadata": {},
     "output_type": "display_data"
    }
   ],
   "source": [
    "plt.scatter(X,y,color='red')\n",
    "plt.plot(X,model.predict(X),color='blue')\n",
    "plt.ylabel('Height')\n",
    "plt.xlabel('Age')"
   ]
  },
  {
   "cell_type": "markdown",
   "metadata": {},
   "source": [
    "The red scatter plot shows the actual data points of age (x) vs height (y).\n",
    "\n",
    "The blue line shows the predictions from the linear regression model. It slopes upward, indicating a positive correlation between age and height.\n",
    "\n",
    "The scatter plot shows quite a bit of variance in height for each age. The linear model is trying to fit a straight line to capture the general trend.\n",
    "\n",
    "The R-squared of the model is likely moderate. The linear fit captures the upward trend but does not perfectly fit all the data points.\n",
    "\n",
    "The residuals (distance between points and line) appear relatively equal over the range of ages. There are no obvious patterns in the residuals, suggesting the linear model is reasonable.\n",
    "\n",
    "The model predicts height will increase steadily with age. This matches typical human growth patterns.\n",
    "\n",
    "There may be diminishing returns in the model - the slope appears to flatten out a bit at higher ages, suggesting height increases less rapidly for older folks.\n",
    "\n",
    "So in summary, the visualization suggests a simple linear regression model can capture the general positive correlation between age and height, but the high variance means the predictions will not be perfect. The model fit could likely be improved with more advanced modeling techniques."
   ]
  },
  {
   "cell_type": "markdown",
   "metadata": {},
   "source": []
  },
  {
   "cell_type": "code",
   "execution_count": null,
   "metadata": {},
   "outputs": [],
   "source": [
    "# Errors in the data\n"
   ]
  }
 ],
 "metadata": {
  "kernelspec": {
   "display_name": "Python 3",
   "language": "python",
   "name": "python3"
  },
  "language_info": {
   "codemirror_mode": {
    "name": "ipython",
    "version": 3
   },
   "file_extension": ".py",
   "mimetype": "text/x-python",
   "name": "python",
   "nbconvert_exporter": "python",
   "pygments_lexer": "ipython3",
   "version": "3.11.4"
  },
  "vscode": {
   "interpreter": {
    "hash": "31f2aee4e71d21fbe5cf8b01ff0e069b9275f58929596ceb00d14d90e3e16cd6"
   }
  }
 },
 "nbformat": 4,
 "nbformat_minor": 4
}
