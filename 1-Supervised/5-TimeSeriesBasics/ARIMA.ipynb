{
  "cells": [
    {
      "cell_type": "markdown",
      "metadata": {},
      "source": [
        "## ARIMA"
      ]
    },
    {
      "cell_type": "markdown",
      "metadata": {
        "id": "-tOV_EFB7P4d"
      },
      "source": [
        "### AR & MA Models\n",
        "In time series, autoregression(AR) and moving average (MA) models provide a simple description of a process in terms of two factors--one for autoregression and the other for moving average. The AR part entails regressing the variable on its own lagged values. The idea is that the previous time period's value can help us predict the current time period's value. The MA part involves modeling the error term as a linear combination of error terms occurring at the same time step and at various times in the past.\n",
        "\n",
        "### Autoregressive Models\n",
        "Autoregressive (AR) Model is when present value of a time series can be predicted from using previous values of the same series. It's a regression using its same series, though shifted by a time step, called a lag. The present value is a weighted average of its past values. Both the t-1 and t-2 are lags of the time series y. The error term (noise) is represented as e. The values a1 and a2 are the coefficients of the model.\n",
        "\n",
        "AR(1) model: $y_{t}$ = $a_{1}$ $y_{t-1}$ + $e_{t}$\n",
        "\n",
        "AR(2) model: $y_{t}$ = $a_{1}$ $y_{t-1}$ + $a_{2}$ $y_{t-2}$ + $e_{t}$\n",
        "\n",
        "We typically represent the order of the model as p for an AR model such as AR(p).\n",
        "\n",
        "### Moving Average Models\n",
        "Moving average (MA) is a process where the present value of a time series, y, is defined as a linear combination of past errors. The error term (noise) is represented as e. Both the t-1 and t-2 are lags of the time on the errors.\n",
        "\n",
        "MA(1) model: $y_{t}$ = $m_{1}$ $e_{t-1}$ + $e_{t}$\n",
        "\n",
        "MA(2) model: $y_{t}$ = $m_{1}$ $e_{t-1}$ + $m_{2}$ $e_{t-2}$ + $e_{t}$\n",
        "\n",
        "We typically represent the order of the model as q for a MA model such as MA(q).\n",
        "\n",
        "### ARMA Models\n",
        "We can combine both Autoregressive and Moving Average models together to create an ARMA model. The time series is regressed on the previous values and the previous errors.\n",
        "\n",
        "ARMA(1,1) model: $y_{t}$ = $a_{1}$ $y_{t-1}$ + $m_{1}$ $e_{t-1}$\n",
        "\n",
        "For ARMA(p, q), p is the order of the AR process and q is the order of the MA process."
      ]
    },
    {
      "cell_type": "markdown",
      "metadata": {
        "id": "hnv4Dr-u7P4j"
      },
      "source": [
        "## Forecast quality metrics\n",
        "\n",
        "Before we begin forecasting, let's understand how to measure the quality of our predictions and take a look at the most commonly used metrics."
      ]
    },
    {
      "cell_type": "markdown",
      "metadata": {
        "id": "oTZY974Y7P4k"
      },
      "source": [
        "- [R squared](http://scikit-learn.org/stable/modules/model_evaluation.html#r2-score-the-coefficient-of-determination): coefficient of determination (in econometrics, this can be interpreted as the percentage of variance explained by the model), $(-\\infty, 1]$\n",
        "\n",
        "$R^2 = 1 - \\frac{SS_{res}}{SS_{tot}}$ \n",
        "\n",
        "```python\n",
        "sklearn.metrics.r2_score\n",
        "```\n",
        "---\n",
        "- [Mean Absolute Error](http://scikit-learn.org/stable/modules/model_evaluation.html#mean-absolute-error): this is an interpretable metric because it has the same unit of measurment as the initial series, $[0, +\\infty)$\n",
        "\n",
        "$MAE = \\frac{\\sum\\limits_{i=1}^{n} |y_i - \\hat{y}_i|}{n}$ \n",
        "\n",
        "```python\n",
        "sklearn.metrics.mean_absolute_error\n",
        "```\n",
        "---\n",
        "- [Median Absolute Error](http://scikit-learn.org/stable/modules/model_evaluation.html#median-absolute-error): again, an interpretable metric that is particularly interesting because it is robust to outliers, $[0, +\\infty)$\n",
        "\n",
        "$MedAE = median(|y_1 - \\hat{y}_1|, ... , |y_n - \\hat{y}_n|)$\n",
        "\n",
        "```python\n",
        "sklearn.metrics.median_absolute_error\n",
        "```\n",
        "---\n",
        "- [Mean Squared Error](http://scikit-learn.org/stable/modules/model_evaluation.html#mean-squared-error): the most commonly used metric that gives a higher penalty to large errors and vice versa, $[0, +\\infty)$\n",
        "\n",
        "$MSE = \\frac{1}{n}\\sum\\limits_{i=1}^{n} (y_i - \\hat{y}_i)^2$\n",
        "\n",
        "```python\n",
        "sklearn.metrics.mean_squared_error\n",
        "```\n",
        "---\n",
        "- [Mean Squared Logarithmic Error](http://scikit-learn.org/stable/modules/model_evaluation.html#mean-squared-logarithmic-error): practically, this is the same as MSE, but we take the logarithm of the series. As a result, we give more weight to small mistakes as well. This is usually used when the data has exponential trends, $[0, +\\infty)$\n",
        "\n",
        "$MSLE = \\frac{1}{n}\\sum\\limits_{i=1}^{n} (log(1+y_i) - log(1+\\hat{y}_i))^2$\n",
        "\n",
        "```python\n",
        "sklearn.metrics.mean_squared_log_error\n",
        "```\n",
        "---\n",
        "- Mean Absolute Percentage Error: this is the same as MAE but is computed as a percentage, which is very convenient when you want to explain the quality of the model to management, $[0, +\\infty)$\n",
        "\n",
        "$MAPE = \\frac{100}{n}\\sum\\limits_{i=1}^{n} \\frac{|y_i - \\hat{y}_i|}{y_i}$ \n",
        "\n",
        "```python\n",
        "def mean_absolute_percentage_error(y_true, y_pred): \n",
        "    return np.mean(np.abs((y_true - y_pred) / y_true)) * 100\n",
        "```"
      ]
    },
    {
      "cell_type": "markdown",
      "metadata": {
        "id": "JiRbRrhR7P4n"
      },
      "source": [
        "### Analítica\n",
        "Vamos a utilizar los datos de ventas de Johnson&Johnson"
      ]
    },
    {
      "cell_type": "code",
      "execution_count": null,
      "metadata": {
        "id": "AhSxRW697P4p"
      },
      "outputs": [],
      "source": [
        "# librerias\n",
        "from statsmodels.tsa.stattools import pacf\n",
        "from statsmodels.tsa.stattools import acf\n",
        "from statsmodels.graphics.tsaplots import plot_pacf\n",
        "from statsmodels.graphics.tsaplots import plot_acf\n",
        "from statsmodels.tsa.stattools import adfuller\n",
        "\n",
        "from pmdarima.arima import auto_arima\n",
        "from pmdarima.arima import ARIMA\n",
        "\n",
        "import matplotlib.pyplot as plt\n",
        "import pandas as pd\n",
        "import numpy as np\n",
        "from sklearn.metrics import mean_squared_error\n",
        "\n",
        "import warnings\n",
        "warnings.filterwarnings('ignore')"
      ]
    },
    {
      "cell_type": "code",
      "execution_count": null,
      "metadata": {
        "colab": {
          "base_uri": "https://localhost:8080/",
          "height": 255
        },
        "id": "wYMABi0H7P4s",
        "outputId": "4c7b9319-8f57-4d5e-abe8-d5d0a72c5fa9"
      },
      "outputs": [],
      "source": [
        "data = pd.read_csv('data/jj.csv', index_col=0)\n",
        "print(len(data))\n",
        "data.head()"
      ]
    },
    {
      "cell_type": "code",
      "execution_count": null,
      "metadata": {
        "colab": {
          "base_uri": "https://localhost:8080/",
          "height": 388
        },
        "id": "J65UimN17P4t",
        "outputId": "3c1002df-c859-4f7b-ff01-68ae518baa79"
      },
      "outputs": [],
      "source": [
        "data['data'].plot(figsize=(15,6));"
      ]
    },
    {
      "cell_type": "markdown",
      "metadata": {
        "id": "Y8OT-ZvS7P4u"
      },
      "source": [
        "Se aprecia en la gráfica que presenta diferentes estadísticos a lo largo del tiempo.\n",
        "\n",
        "Representamos su gráfica de autocorrelación. Vemos que tenemos muy complicado determinar el orden p y q, de cara al modelo ARIMA."
      ]
    },
    {
      "cell_type": "code",
      "execution_count": null,
      "metadata": {
        "colab": {
          "base_uri": "https://localhost:8080/",
          "height": 281
        },
        "id": "G8bwnTuN7P4v",
        "outputId": "c8be9669-01bc-4410-cdaa-3064c5ccddf8"
      },
      "outputs": [],
      "source": [
        "plot_acf(data['data']);"
      ]
    },
    {
      "cell_type": "markdown",
      "metadata": {
        "id": "F8m1iwxP7P4v"
      },
      "source": [
        "Dividimos en train y test"
      ]
    },
    {
      "cell_type": "code",
      "execution_count": null,
      "metadata": {
        "id": "yFdJfFEN7P4w"
      },
      "outputs": [],
      "source": [
        "X = data['data'].values\n",
        "train = X[:70]\n",
        "test = X[70:]"
      ]
    },
    {
      "cell_type": "code",
      "execution_count": null,
      "metadata": {},
      "outputs": [],
      "source": [
        "len(X)"
      ]
    },
    {
      "cell_type": "code",
      "execution_count": null,
      "metadata": {},
      "outputs": [],
      "source": [
        "test"
      ]
    },
    {
      "cell_type": "code",
      "execution_count": null,
      "metadata": {
        "colab": {
          "base_uri": "https://localhost:8080/"
        },
        "id": "mgp9_gOl_oH-",
        "outputId": "dfd4cd77-8753-4491-ff0b-257131da7df0"
      },
      "outputs": [],
      "source": [
        "len(test)"
      ]
    },
    {
      "cell_type": "code",
      "execution_count": null,
      "metadata": {},
      "outputs": [],
      "source": [
        "train"
      ]
    },
    {
      "cell_type": "markdown",
      "metadata": {
        "id": "uY0oxsHX7P4w"
      },
      "source": [
        "## Autoregressive\n",
        "Tendremos que encontrar el orden de autoregression que mejor encaje con nuestros datos."
      ]
    },
    {
      "cell_type": "code",
      "execution_count": null,
      "metadata": {
        "colab": {
          "base_uri": "https://localhost:8080/"
        },
        "id": "VEsK53AR7P4x",
        "outputId": "1d971d2e-bb91-468f-a75d-7c6a9c0959b5"
      },
      "outputs": [],
      "source": [
        "model_ar = ARIMA(order=(1,0,0))\n",
        "model_ar.fit(train)"
      ]
    },
    {
      "cell_type": "code",
      "execution_count": null,
      "metadata": {
        "colab": {
          "base_uri": "https://localhost:8080/"
        },
        "id": "u5g2cQVS7P4x",
        "outputId": "eede7a4a-44e6-497f-d564-62bcd9a33596"
      },
      "outputs": [],
      "source": [
        "predictions = model_ar.predict(14)\n",
        "print(\"root_mean_squared_error:\", np.sqrt(mean_squared_error(test, predictions)))"
      ]
    },
    {
      "cell_type": "code",
      "execution_count": null,
      "metadata": {},
      "outputs": [],
      "source": [
        "predictions"
      ]
    },
    {
      "cell_type": "code",
      "execution_count": null,
      "metadata": {
        "colab": {
          "base_uri": "https://localhost:8080/",
          "height": 265
        },
        "id": "-68pRbVF7P4x",
        "outputId": "d9128fe2-66bb-439d-9330-196ac426625d"
      },
      "outputs": [],
      "source": [
        "plt.plot(test)\n",
        "plt.plot(predictions,color='red');"
      ]
    },
    {
      "cell_type": "markdown",
      "metadata": {
        "id": "KKPfJcHn7P4y"
      },
      "source": [
        "No parece que de buen resultado el AR(1,0,0). Probemos diferentes lags, a ver cuál sería el mejor"
      ]
    },
    {
      "cell_type": "code",
      "execution_count": null,
      "metadata": {
        "colab": {
          "base_uri": "https://localhost:8080/",
          "height": 265
        },
        "id": "XFbSSsuV7P4y",
        "outputId": "7bd6bf77-5444-4198-91f0-0455b13d33d3"
      },
      "outputs": [],
      "source": [
        "lags = []\n",
        "mse = []\n",
        "for lag in range(1, 15):\n",
        "    try:\n",
        "        model_ar = ARIMA(order=(lag, 0, 0))\n",
        "        model_ar.fit(train)\n",
        "        lags.append(lag)\n",
        "        predictions = model_ar.predict(14)\n",
        "        mse.append(mean_squared_error(test, predictions))\n",
        "    except:\n",
        "        continue\n",
        "    \n",
        "plt.plot(lags, mse);"
      ]
    },
    {
      "cell_type": "markdown",
      "metadata": {
        "id": "VOjCWwAb7P4z"
      },
      "source": [
        "Un parámetro p>5 parece que da buen resultado, pero aun asi es muy alto el error."
      ]
    },
    {
      "cell_type": "markdown",
      "metadata": {
        "id": "qJ1c2dKI7P4z"
      },
      "source": [
        "## Moving Average\n",
        "En este caso tendremos en cuenta los errores. El problema es que si tenemos muchos errores al principio, los iremos arrastrando durante las predicciones."
      ]
    },
    {
      "cell_type": "code",
      "execution_count": null,
      "metadata": {
        "colab": {
          "base_uri": "https://localhost:8080/"
        },
        "id": "LZwu3veQ7P40",
        "outputId": "27af0d90-f315-44d2-cd13-6a655bd8ce89"
      },
      "outputs": [],
      "source": [
        "model_ma = ARIMA(order = (0,0,1))\n",
        "model_ma.fit(train)"
      ]
    },
    {
      "cell_type": "code",
      "execution_count": null,
      "metadata": {
        "colab": {
          "base_uri": "https://localhost:8080/"
        },
        "id": "kQsOuPIW7P40",
        "outputId": "79e82374-33c0-4753-99d0-606eda95c5b7"
      },
      "outputs": [],
      "source": [
        "predictions = model_ma.predict(14)\n",
        "print(\"mean_squared_error:\", mean_squared_error(test, predictions))"
      ]
    },
    {
      "cell_type": "code",
      "execution_count": null,
      "metadata": {
        "colab": {
          "base_uri": "https://localhost:8080/",
          "height": 265
        },
        "id": "4X3hDCbN7P41",
        "outputId": "7e93914c-2c5c-4204-da65-7f8e11264e6a"
      },
      "outputs": [],
      "source": [
        "plt.plot(test)\n",
        "plt.plot(predictions,color='red');"
      ]
    },
    {
      "cell_type": "markdown",
      "metadata": {
        "id": "Pla4p7lW7P41"
      },
      "source": [
        "No está dando buen resultado. Probaremos entonces varios lags"
      ]
    },
    {
      "cell_type": "code",
      "execution_count": null,
      "metadata": {
        "colab": {
          "base_uri": "https://localhost:8080/",
          "height": 265
        },
        "id": "yRkwmLXB7P42",
        "outputId": "002802af-67d0-4869-969a-16040230bcdd"
      },
      "outputs": [],
      "source": [
        "lags = []\n",
        "mse = []\n",
        "for lag in range(1, 20):\n",
        "    try:\n",
        "        model_ar = ARIMA(order=(0, 0, lag))\n",
        "        model_ar_fit = model_ar.fit(train)\n",
        "        predictions = model_ar_fit.predict(14)\n",
        "        lags.append(lag)\n",
        "        mse.append(mean_squared_error(test, predictions))\n",
        "    except:\n",
        "        continue\n",
        "    \n",
        "plt.plot(lags, mse);"
      ]
    },
    {
      "cell_type": "markdown",
      "metadata": {
        "id": "FAzGI8jj7P42"
      },
      "source": [
        "Parece que según vamos aumentando el parámetro `q` del modelo Moving Average, va disminuyendo el error, pero aun así es bastante grande."
      ]
    },
    {
      "cell_type": "markdown",
      "metadata": {
        "id": "XrJB8sZy7P42"
      },
      "source": [
        "## ARIMA\n",
        "En el arima no solo influyen los parámetros `p` y `q`, sino que también tendremos en cuenta `d`. Parametro con el que diferenciaremos la serie y conseguiremos que sea estacionaria.\n",
        "\n",
        "Ahora bien, ¿cuál es la mejor combinación de parámetros? Tendremos que realizar varias pruebas. Para comparar los modelos se suele utilizar el AIC.\n",
        "\n",
        "### AIC\n",
        "Akaike’s Information Criterion\n",
        "\n",
        "![imagen](./img/aic.png)\n",
        "\n",
        "k es el número de parámetros del modelo estadístico y L es el máximo valor de la función de verosimilitud para el modelo estimado. La función de verosimilitud permite realizar inferencias a partir de u conjunto de observaciones.\n",
        "\n",
        "Se utiliza para seleccionar el mejor modelo, que será el que tiene menor AIC. El AIC depende mucho de cada dato, y es una medida de comparación entre modelos, no de presentación de resultados. Un AIC bajo no quiere decir que el modelo sea muy bueno. Por tanto, AIC no nos dice nada sobre la calidad del modelo en terminos absolutos.\n"
      ]
    },
    {
      "cell_type": "markdown",
      "metadata": {
        "id": "4N_X_WQH7P43"
      },
      "source": [
        "#### ¿Cómo conseguir los mejores p, d, q?"
      ]
    },
    {
      "cell_type": "code",
      "execution_count": null,
      "metadata": {
        "colab": {
          "base_uri": "https://localhost:8080/"
        },
        "id": "PMuK602l7P43",
        "outputId": "2a90ffca-7a1e-4eb3-c85d-0f8af540a0ef"
      },
      "outputs": [],
      "source": [
        "import itertools\n",
        "p=d=q=range(0,5)\n",
        "pdq = list(itertools.product(p,d,q))\n",
        "pdq[:10]"
      ]
    },
    {
      "cell_type": "code",
      "execution_count": null,
      "metadata": {},
      "outputs": [],
      "source": [
        "len(pdq)"
      ]
    },
    {
      "cell_type": "code",
      "execution_count": null,
      "metadata": {
        "id": "flu9Qq3c7P44"
      },
      "outputs": [],
      "source": [
        "results = []\n",
        "for param in pdq:\n",
        "    try:\n",
        "        model_arima = ARIMA(order=param)\n",
        "        model_arima_fit = model_arima.fit(train)\n",
        "        results.append((param,model_arima_fit.aic()))\n",
        "    except:\n",
        "        continue\n",
        "    "
      ]
    },
    {
      "cell_type": "code",
      "execution_count": null,
      "metadata": {
        "colab": {
          "base_uri": "https://localhost:8080/",
          "height": 205
        },
        "id": "AOsGbq1R7P44",
        "outputId": "98e7c242-771a-4668-e472-e633c552adfa"
      },
      "outputs": [],
      "source": [
        "resultados_df = pd.DataFrame(results, columns=['ARIMA params', 'AIC']).sort_values('AIC')\n",
        "resultados_df.head()"
      ]
    },
    {
      "cell_type": "code",
      "execution_count": null,
      "metadata": {},
      "outputs": [],
      "source": [
        "len(resultados_df)"
      ]
    },
    {
      "cell_type": "markdown",
      "metadata": {
        "id": "nsjyckLG7P45"
      },
      "source": [
        "Ya tenemos la mejor combinación de parámetros para el ARIMA. Probemos el modelo"
      ]
    },
    {
      "cell_type": "code",
      "execution_count": null,
      "metadata": {
        "colab": {
          "base_uri": "https://localhost:8080/"
        },
        "id": "whN6gliR7P45",
        "outputId": "4e2fda4d-1f47-44b1-8b9c-94825cc261c6"
      },
      "outputs": [],
      "source": [
        "best_model = ARIMA(order=(3,2,2))\n",
        "best_model.fit(train)"
      ]
    },
    {
      "cell_type": "code",
      "execution_count": null,
      "metadata": {
        "colab": {
          "base_uri": "https://localhost:8080/"
        },
        "id": "kjMujFad7P45",
        "outputId": "634b2d31-1722-400b-efce-713d732ff0b8"
      },
      "outputs": [],
      "source": [
        "predictions = best_model.predict(14)\n",
        "print(\"mean_squared_error:\", mean_squared_error(test, predictions))"
      ]
    },
    {
      "cell_type": "code",
      "execution_count": null,
      "metadata": {},
      "outputs": [],
      "source": [
        "plt.plot(test)\n",
        "plt.plot(predictions,color='red');"
      ]
    },
    {
      "cell_type": "markdown",
      "metadata": {
        "id": "JfXrrTZT7P46"
      },
      "source": [
        "### Auto ARIMA"
      ]
    },
    {
      "cell_type": "code",
      "execution_count": null,
      "metadata": {
        "colab": {
          "base_uri": "https://localhost:8080/"
        },
        "id": "rMuIacTS7P46",
        "outputId": "2391152c-0e16-4d94-8212-c3e30f00c7ac"
      },
      "outputs": [],
      "source": [
        "model = auto_arima(train,\n",
        "                   start_p = 1,\n",
        "                   start_q = 1,\n",
        "                   max_p = 5,\n",
        "                   max_q = 5,\n",
        "                   max_d = 3,\n",
        "                   trace=True)"
      ]
    },
    {
      "cell_type": "code",
      "execution_count": null,
      "metadata": {
        "colab": {
          "base_uri": "https://localhost:8080/"
        },
        "id": "33lhhGIN7P47",
        "outputId": "d8b8a074-bb92-47de-8c7b-2c9f54ec9ae6"
      },
      "outputs": [],
      "source": [
        "model = ARIMA(order=(3,2,2))\n",
        "model.fit(train)\n",
        "print(model.summary())"
      ]
    },
    {
      "cell_type": "markdown",
      "metadata": {
        "id": "yGYhHQZj7P47"
      },
      "source": [
        "## ARIMAX\n",
        "La X viene de exogenous. Significa que le podemos añadir una variable externa con la que entrenar el modelo.\n",
        "\n",
        "Vamos a probar con los datos de la bolsa. Primero un auto_arima con los datos a cierre. Y después un auto_arima acompañado de los datos de apertura de bolsa, a ver cuánto ayudan a predecir el cierre."
      ]
    },
    {
      "cell_type": "code",
      "execution_count": null,
      "metadata": {
        "colab": {
          "base_uri": "https://localhost:8080/",
          "height": 255
        },
        "id": "kSVhRx7r7P48",
        "outputId": "653be815-81fc-44d6-c395-9473455e857a"
      },
      "outputs": [],
      "source": [
        "stock_df = pd.read_csv('data/FB.csv', header=0, index_col=0)\n",
        "print(len(stock_df))\n",
        "stock_df.head()"
      ]
    },
    {
      "cell_type": "code",
      "execution_count": null,
      "metadata": {
        "colab": {
          "base_uri": "https://localhost:8080/",
          "height": 388
        },
        "id": "t_r6reK67P48",
        "outputId": "87a8455c-1899-4f89-d99f-885a01772af5"
      },
      "outputs": [],
      "source": [
        "stock_df['Close'].plot(figsize=(15,6));"
      ]
    },
    {
      "cell_type": "code",
      "execution_count": null,
      "metadata": {},
      "outputs": [],
      "source": [
        "len(stock_df['Close'])"
      ]
    },
    {
      "cell_type": "code",
      "execution_count": null,
      "metadata": {},
      "outputs": [],
      "source": [
        "stock_df['Close'][:600].describe()"
      ]
    },
    {
      "cell_type": "code",
      "execution_count": null,
      "metadata": {},
      "outputs": [],
      "source": [
        "stock_df['Close'][600:].describe()"
      ]
    },
    {
      "cell_type": "markdown",
      "metadata": {
        "id": "LIkpLZ3M7P49"
      },
      "source": [
        "Vemos primero ejemplo sin variable exogena"
      ]
    },
    {
      "cell_type": "code",
      "execution_count": null,
      "metadata": {
        "id": "_UBZ39ii7P49"
      },
      "outputs": [],
      "source": [
        "train = stock_df['Close'][0:1240].values\n",
        "test = stock_df['Close'][1240:].values"
      ]
    },
    {
      "cell_type": "code",
      "execution_count": null,
      "metadata": {},
      "outputs": [],
      "source": [
        "len(test)"
      ]
    },
    {
      "cell_type": "markdown",
      "metadata": {
        "id": "vjUGt9A77P49"
      },
      "source": [
        "Vamos a probar varios ARIMAS, a ver cuál sería la mejor combinación de hiperparámetros."
      ]
    },
    {
      "cell_type": "code",
      "execution_count": null,
      "metadata": {
        "colab": {
          "base_uri": "https://localhost:8080/"
        },
        "id": "6Ml7Wzwm7P4-",
        "outputId": "50e6aa11-b792-4136-e03b-7ac7e2f95869"
      },
      "outputs": [],
      "source": [
        "stepwise_model = auto_arima(train,\n",
        "                            start_p=1,\n",
        "                            start_q=1,\n",
        "                            max_d=3,\n",
        "                            max_p=5,\n",
        "                            max_q=5,\n",
        "                            stationary=False,\n",
        "                            trace=True,\n",
        "                           stepwise=True)\n",
        "print(stepwise_model.aic())\n"
      ]
    },
    {
      "cell_type": "markdown",
      "metadata": {
        "id": "fQxbqMwP7P4-"
      },
      "source": [
        "Ya lo tenemos, ahora montaremos el modelo con esos hiperparámetros y vemos que AIC tiene."
      ]
    },
    {
      "cell_type": "code",
      "execution_count": null,
      "metadata": {
        "colab": {
          "base_uri": "https://localhost:8080/"
        },
        "id": "hZTBM-uv7P4-",
        "outputId": "fc4daf0b-e113-4d7b-f2ef-1e81bdc2b66a"
      },
      "outputs": [],
      "source": [
        "model = ARIMA(order=(1,1,1))\n",
        "model.fit(train)\n",
        "print(model.summary())"
      ]
    },
    {
      "cell_type": "code",
      "execution_count": null,
      "metadata": {
        "colab": {
          "base_uri": "https://localhost:8080/"
        },
        "id": "CfJ1UEVP7P4-",
        "outputId": "44163931-b148-400a-c274-b22673010e79"
      },
      "outputs": [],
      "source": [
        "predictions = model.predict(19)\n",
        "print(\"mean_squared_error:\", mean_squared_error(test, predictions))"
      ]
    },
    {
      "cell_type": "code",
      "execution_count": null,
      "metadata": {},
      "outputs": [],
      "source": [
        "plt.plot(test)\n",
        "plt.plot(predictions,color='red');"
      ]
    },
    {
      "cell_type": "markdown",
      "metadata": {
        "id": "jqDb8kiT7P4_"
      },
      "source": [
        "Vamos ahora a compararlo con el mismo modelo, pero en este caso le añadimos una variable exogena al entrenamiento"
      ]
    },
    {
      "cell_type": "code",
      "execution_count": null,
      "metadata": {
        "colab": {
          "base_uri": "https://localhost:8080/"
        },
        "id": "Eh0hsmPPQcTT",
        "outputId": "1892e1b8-9935-49d0-db7d-dd66d97638e9"
      },
      "outputs": [],
      "source": [
        "stock_df[['Open']][:1240].values"
      ]
    },
    {
      "cell_type": "code",
      "execution_count": null,
      "metadata": {
        "colab": {
          "base_uri": "https://localhost:8080/"
        },
        "id": "4s0m87Ym7P4_",
        "outputId": "15d47031-d631-4acc-f187-517848db2b1c"
      },
      "outputs": [],
      "source": [
        "model = ARIMA(order=(1,1,1))\n",
        "model.fit(train, exogenous = stock_df['Open'][:1240].values.reshape(-1,1))\n",
        "print(model.summary())"
      ]
    },
    {
      "cell_type": "markdown",
      "metadata": {
        "id": "E5gY02I87P4_"
      },
      "source": [
        "Reduce bastante el AIC"
      ]
    },
    {
      "cell_type": "markdown",
      "metadata": {
        "id": "08mszFPe7P4_"
      },
      "source": [
        "Probemos a entrenar el auto arima con la variable exogena"
      ]
    },
    {
      "cell_type": "code",
      "execution_count": null,
      "metadata": {
        "colab": {
          "base_uri": "https://localhost:8080/"
        },
        "id": "DSAVAXrs7P5A",
        "outputId": "5fe4348f-dcf4-482e-b70d-284ebab03fa4"
      },
      "outputs": [],
      "source": [
        "model = auto_arima(train,\n",
        "                   exogenous = stock_df['Open'][:1240].values.reshape(-1,1),\n",
        "                   start_p=1,\n",
        "                    start_q=1,\n",
        "                    max_d=3,\n",
        "                    max_p=5,\n",
        "                    max_q=5,\n",
        "                    stationary=False,\n",
        "                    trace=True,\n",
        "                    stepwise=True)\n",
        "\n",
        "print(model.aic())"
      ]
    },
    {
      "cell_type": "markdown",
      "metadata": {
        "id": "Uc0k3DWx7P5A"
      },
      "source": [
        "Probemos varias variables exogenas\n",
        "\n",
        "NOTA: para este apartado se utiliza el valor 'Low', que en la vida real no lo tendriamos para realizar la predicción."
      ]
    },
    {
      "cell_type": "code",
      "execution_count": null,
      "metadata": {
        "colab": {
          "base_uri": "https://localhost:8080/"
        },
        "id": "Z_LZ9P4M7P5B",
        "outputId": "36ece39a-cb86-4f90-ac3f-4153f9106399"
      },
      "outputs": [],
      "source": [
        "model = auto_arima(train,\n",
        "                   exogenous = stock_df[['Open', 'Low']][:1240].values,\n",
        "                   start_p=1,\n",
        "                    start_q=1,\n",
        "                    max_d=3,\n",
        "                    max_p=5,\n",
        "                    max_q=5,\n",
        "                    stationary=False,\n",
        "                    trace=True,\n",
        "                    stepwise=True)\n",
        "\n",
        "print(model.aic())\n",
        "\n",
        "print(model.aic())"
      ]
    },
    {
      "cell_type": "code",
      "execution_count": null,
      "metadata": {},
      "outputs": [],
      "source": [
        "model.summary()"
      ]
    },
    {
      "cell_type": "code",
      "execution_count": null,
      "metadata": {},
      "outputs": [],
      "source": [
        "model = ARIMA(order=(3,1,1))\n",
        "model.fit(train, exogenous = stock_df[['Open', 'Low']][:1240].values)\n",
        "predictions = model.predict(19 , exogenous = stock_df[['Open', 'Low']][1240:])\n",
        "print(\"mean_squared_error:\", mean_squared_error(test, predictions))\n",
        "plt.plot(test)\n",
        "plt.plot(predictions,color='red');"
      ]
    },
    {
      "cell_type": "markdown",
      "metadata": {
        "id": "BzrfmiF57P5B"
      },
      "source": [
        "## SARIMA\n",
        "Veamos cómo podemos predecir con datos que tienen estacionalidad, es decir, que cuentan con un patrón que se repite a lo largo del tiempo."
      ]
    },
    {
      "cell_type": "code",
      "execution_count": null,
      "metadata": {
        "colab": {
          "base_uri": "https://localhost:8080/",
          "height": 255
        },
        "id": "FY2tT5577P5C",
        "outputId": "1ef78f9f-b453-4e48-a733-d274bc1f5dc8"
      },
      "outputs": [],
      "source": [
        "df = pd.read_csv('data/a10.csv', parse_dates=['date'], index_col='date')\n",
        "print(len(df))\n",
        "df.head()"
      ]
    },
    {
      "cell_type": "code",
      "execution_count": null,
      "metadata": {
        "colab": {
          "base_uri": "https://localhost:8080/",
          "height": 388
        },
        "id": "ryrBd6Sk7P5D",
        "outputId": "fa803524-0e77-4e14-8aed-f1ff1c0c1fe2"
      },
      "outputs": [],
      "source": [
        "df['value'].plot(figsize=(15,6));"
      ]
    },
    {
      "cell_type": "code",
      "execution_count": null,
      "metadata": {
        "colab": {
          "base_uri": "https://localhost:8080/",
          "height": 441
        },
        "id": "kczJzIYc7P5D",
        "outputId": "f81d8ec9-c4ba-4f66-cd1d-2c1ebf56f1a7"
      },
      "outputs": [],
      "source": [
        "from statsmodels.tsa.seasonal import seasonal_decompose\n",
        "\n",
        "result_add = seasonal_decompose(df[['value']], model='additive', extrapolate_trend='freq')\n",
        "\n",
        "# Plot\n",
        "plt.rcParams.update({'figure.figsize': (6,6)})\n",
        "result_add.plot();"
      ]
    },
    {
      "cell_type": "code",
      "execution_count": null,
      "metadata": {
        "id": "5e44k5rW7P5D"
      },
      "outputs": [],
      "source": [
        "X = df[['value']]\n",
        "train = X[:-20]\n",
        "test = X[-20:]"
      ]
    },
    {
      "cell_type": "code",
      "execution_count": null,
      "metadata": {},
      "outputs": [],
      "source": [
        "len(test)"
      ]
    },
    {
      "cell_type": "code",
      "execution_count": null,
      "metadata": {
        "colab": {
          "base_uri": "https://localhost:8080/",
          "height": 390
        },
        "id": "82_P6vaH7P5E",
        "outputId": "19e88635-35f9-4b1a-8262-aea7d5911c89"
      },
      "outputs": [],
      "source": [
        "plot_acf(train);"
      ]
    },
    {
      "cell_type": "markdown",
      "metadata": {
        "id": "k1XTZnsf7P5F"
      },
      "source": [
        "Probemos el auto arima sin indicarle que hay componente de seasonality"
      ]
    },
    {
      "cell_type": "code",
      "execution_count": null,
      "metadata": {
        "colab": {
          "base_uri": "https://localhost:8080/"
        },
        "id": "lm5QnO007P5F",
        "outputId": "f7a06d80-e147-4f4d-906f-5734cd980c91"
      },
      "outputs": [],
      "source": [
        "model = auto_arima(train,\n",
        "                    start_p=1,\n",
        "                    start_q=1,\n",
        "                    max_d=3,\n",
        "                    max_p=5,\n",
        "                    max_q=5,\n",
        "                    trace=True,\n",
        "                    stepwise=True)\n",
        "\n",
        "print(model.aic())\n",
        "\n",
        "predictions = model.predict(20)\n",
        "print(\"mean_squared_error:\", mean_squared_error(test, predictions))"
      ]
    },
    {
      "cell_type": "markdown",
      "metadata": {
        "id": "AeNpxugX7P5G"
      },
      "source": [
        "Ahora le añadimos el componente seasonality mediante el parametro `m`."
      ]
    },
    {
      "cell_type": "code",
      "execution_count": null,
      "metadata": {
        "colab": {
          "base_uri": "https://localhost:8080/"
        },
        "id": "35rOP97L7P5G",
        "outputId": "a3e8a8bd-beb7-4c2e-b796-8c80f0f1983c"
      },
      "outputs": [],
      "source": [
        "model = auto_arima(train,\n",
        "                    start_p=1,\n",
        "                    start_q=1,\n",
        "                    max_d=3,\n",
        "                    max_p=5,\n",
        "                    max_q=5,\n",
        "                    m = 12,\n",
        "                    trace=True,\n",
        "                    stepwise=True)\n",
        "\n",
        "print(model.aic())\n",
        "\n",
        "predictions = model.predict(20)\n",
        "print(\"mean_squared_error:\", mean_squared_error(test, predictions))"
      ]
    },
    {
      "cell_type": "code",
      "execution_count": null,
      "metadata": {},
      "outputs": [],
      "source": [
        "predictions"
      ]
    },
    {
      "cell_type": "code",
      "execution_count": null,
      "metadata": {},
      "outputs": [],
      "source": [
        "test.values"
      ]
    },
    {
      "cell_type": "code",
      "execution_count": null,
      "metadata": {},
      "outputs": [],
      "source": [
        "predictions = model.predict(20)\n",
        "print(\"mean_squared_error:\", mean_squared_error(test, predictions))\n",
        "plt.plot(test.values)\n",
        "plt.plot(predictions,color='red');"
      ]
    },
    {
      "cell_type": "markdown",
      "metadata": {},
      "source": [
        "## Transoformar dataset para poder predecir con otros modelos"
      ]
    },
    {
      "cell_type": "code",
      "execution_count": null,
      "metadata": {},
      "outputs": [],
      "source": [
        "df = pd.read_csv('data/a10.csv', parse_dates=['date'], index_col='date')\n",
        "print(len(df))\n",
        "df.head()"
      ]
    },
    {
      "cell_type": "code",
      "execution_count": null,
      "metadata": {},
      "outputs": [],
      "source": [
        "for i in range(12,0,-1):\n",
        "    df['t-'+str(i)] = df['value'].shift(i)\n",
        "\n",
        "df.dropna(inplace=True)\n",
        "df"
      ]
    },
    {
      "cell_type": "code",
      "execution_count": null,
      "metadata": {},
      "outputs": [],
      "source": []
    }
  ],
  "metadata": {
    "colab": {
      "name": "2 - ARIMA.ipynb",
      "provenance": []
    },
    "kernelspec": {
      "display_name": "Python 3",
      "language": "python",
      "name": "python3"
    },
    "language_info": {
      "codemirror_mode": {
        "name": "ipython",
        "version": 3
      },
      "file_extension": ".py",
      "mimetype": "text/x-python",
      "name": "python",
      "nbconvert_exporter": "python",
      "pygments_lexer": "ipython3",
      "version": "3.7.4"
    }
  },
  "nbformat": 4,
  "nbformat_minor": 0
}
