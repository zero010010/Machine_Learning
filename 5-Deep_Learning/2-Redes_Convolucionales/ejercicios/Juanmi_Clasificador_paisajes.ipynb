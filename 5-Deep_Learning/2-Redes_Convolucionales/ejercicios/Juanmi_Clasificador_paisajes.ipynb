{
 "cells": [
  {
   "cell_type": "markdown",
   "metadata": {},
   "source": [
    "# Clasificador paisajes\n",
    "Para este ejercicio vas a crear un clasificador automático de paisajes. Los datos los encontrarás en el Classroom como `seg_train.zip` y `seg_test.zip`. Se pide:\n",
    "1. Cargar las imágenes. Mira cómo están almacenados los datos. Tendrás que recorrer las carpetas, cargar las imágenes en memoria y etiquetarlas con los nombres de las carpetas. Realiza un reshape de cada imagen (comienza el ejercicio con 32x32, para ir más rápido en las ejecuciones).\n",
    "2. Investiga las imágenes, comprueba con algunas muestras que has cargado bien los datos.\n",
    "3. Normaliza\n",
    "4. Diseña la arquitectura de la red. Recuerda que es un algiritmo de clasificación. Ojo con las dimensiones de la entrada\n",
    "5. Reserva un 20% de los datos del entrenamiento para validar.\n",
    "6. Representa el objeto history\n",
    "7. Evalua el modelo con los datos de test\n",
    "8. Representa algunos de los paisajes donde el modelo comete errores\n",
    "9. Crea una matriz de confusión con los errores del modelo\n",
    "\n",
    "**NOTA apartado 1**: para el apartado 1 tendras que recorre las carpetas/imagenes con `os.listdir()`, e ir cargando todas las imagenes como arrays de numpy\n",
    "\n",
    "**NOTA apartado 4**: empieza con un par de capas Conv2D + MaxPooling2D con activación relu y después la fully connected layer. on softmax como ultima capa"
   ]
  },
  {
   "cell_type": "code",
   "execution_count": 8,
   "metadata": {},
   "outputs": [],
   "source": [
    "import numpy as np\n",
    "import pandas as pd\n",
    "import os\n",
    "import matplotlib.pyplot as plt\n",
    "import cv2\n",
    "import tensorflow as tf"
   ]
  },
  {
   "cell_type": "code",
   "execution_count": 9,
   "metadata": {},
   "outputs": [],
   "source": [
    "class_names = ['mountain','street','glacier', 'buildings','sea','forest']\n",
    "\n",
    "IMAGE_SIZE = (32,32)"
   ]
  },
  {
   "cell_type": "code",
   "execution_count": 27,
   "metadata": {},
   "outputs": [
    {
     "data": {
      "text/plain": [
       "{'mountain': 0,\n",
       " 'street': 1,\n",
       " 'glacier': 2,\n",
       " 'buildings': 3,\n",
       " 'sea': 4,\n",
       " 'forest': 5}"
      ]
     },
     "execution_count": 27,
     "metadata": {},
     "output_type": "execute_result"
    }
   ],
   "source": [
    "class_names_label = {class_name:i for i ,class_name in enumerate(class_names)}\n",
    "class_names_label"
   ]
  },
  {
   "cell_type": "code",
   "execution_count": 28,
   "metadata": {},
   "outputs": [],
   "source": [
    "TRAIN_PATH = \"/Users/miguelopez/Desktop/Machine Learning_2/5-Deep_Learning/2-Redes_Convolucionales/paisajes/seg_train\"\n",
    "TEST_PATH = \"/Users/miguelopez/Desktop/Machine Learning_2/5-Deep_Learning/2-Redes_Convolucionales/paisajes/seg_test\""
   ]
  },
  {
   "cell_type": "code",
   "execution_count": 29,
   "metadata": {},
   "outputs": [
    {
     "name": "stdout",
     "output_type": "stream",
     "text": [
      "forest\n",
      "buildings\n",
      ".DS_Store\n",
      "glacier\n",
      "street\n",
      "mountain\n",
      "sea\n"
     ]
    }
   ],
   "source": [
    "for folder in os.listdir(TRAIN_PATH):\n",
    "  print(folder)\n",
    "  if folder == '.DS_Store':\n",
    "     continue  \n"
   ]
  },
  {
   "cell_type": "code",
   "execution_count": 32,
   "metadata": {},
   "outputs": [],
   "source": [
    "def read_data(path, im_size, class_names_label):\n",
    "    X = []\n",
    "    y = []\n",
    "    \n",
    "\n",
    "\n",
    "  # label \n",
    "    \n",
    "    if folder != \".DS_Store\":\n",
    "      label = class_names_label[folder]\n",
    "  \n",
    "         \n",
    "\n",
    "      for folder in os.listdir(path):\n",
    "        \n",
    "         \n",
    "          label = class_names_label[folder]\n",
    "          folder_path = os.path.join(path,folder)\n",
    "\n",
    "        \n",
    "        # Iterar sobre todo lo que haya en path\n",
    "          for file in os.listdir(folder_path):\n",
    "              image_path = os.path.join(folder_path,file)\n",
    "              image = cv2.imread(image_path)\n",
    "              image = cv2.cvtColor(image, cv2.COLOR_BGR2RGB)\n",
    "              image = cv2.resize(image, im_size)\n",
    "              X.append(image)\n",
    "              y.append(label)\n",
    "        \n",
    "          \n",
    "   \n",
    "      return np.array(X), np.array(y)\n",
    "    \n"
   ]
  },
  {
   "cell_type": "code",
   "execution_count": 33,
   "metadata": {},
   "outputs": [
    {
     "ename": "UnboundLocalError",
     "evalue": "cannot access local variable 'folder' where it is not associated with a value",
     "output_type": "error",
     "traceback": [
      "\u001b[0;31m---------------------------------------------------------------------------\u001b[0m",
      "\u001b[0;31mUnboundLocalError\u001b[0m                         Traceback (most recent call last)",
      "Cell \u001b[0;32mIn[33], line 1\u001b[0m\n\u001b[0;32m----> 1\u001b[0m X_train, y_train \u001b[38;5;241m=\u001b[39m read_data(TRAIN_PATH, IMAGE_SIZE, class_names_label)\n\u001b[1;32m      2\u001b[0m X_test, y_test \u001b[38;5;241m=\u001b[39m read_data(TEST_PATH, IMAGE_SIZE, class_names_label)\n",
      "Cell \u001b[0;32mIn[32], line 9\u001b[0m, in \u001b[0;36mread_data\u001b[0;34m(path, im_size, class_names_label)\u001b[0m\n\u001b[1;32m      3\u001b[0m   y \u001b[38;5;241m=\u001b[39m []\n\u001b[1;32m      7\u001b[0m \u001b[38;5;66;03m# label \u001b[39;00m\n\u001b[0;32m----> 9\u001b[0m   \u001b[38;5;28;01mif\u001b[39;00m folder \u001b[38;5;241m!=\u001b[39m \u001b[38;5;124m\"\u001b[39m\u001b[38;5;124m.DS_Store\u001b[39m\u001b[38;5;124m\"\u001b[39m:\n\u001b[1;32m     10\u001b[0m     label \u001b[38;5;241m=\u001b[39m class_names_label[folder]\n\u001b[1;32m     14\u001b[0m     \u001b[38;5;28;01mfor\u001b[39;00m folder \u001b[38;5;129;01min\u001b[39;00m os\u001b[38;5;241m.\u001b[39mlistdir(path):\n",
      "\u001b[0;31mUnboundLocalError\u001b[0m: cannot access local variable 'folder' where it is not associated with a value"
     ]
    }
   ],
   "source": [
    "\n",
    "X_train, y_train = read_data(TRAIN_PATH, IMAGE_SIZE, class_names_label)\n",
    "X_test, y_test = read_data(TEST_PATH, IMAGE_SIZE, class_names_label)\n",
    "\n"
   ]
  },
  {
   "cell_type": "code",
   "execution_count": 24,
   "metadata": {},
   "outputs": [
    {
     "name": "stdout",
     "output_type": "stream",
     "text": [
      "['forest', 'buildings', '.DS_Store', 'glacier', 'street', 'mountain', 'sea']\n"
     ]
    }
   ],
   "source": [
    "import os\n",
    "print(os.listdir(TRAIN_PATH))\n"
   ]
  }
 ],
 "metadata": {
  "interpreter": {
   "hash": "7c77fdb427e7cbc9bc1367dd530fc2b36aacdbbde1ac83c85833b10dfa8b831c"
  },
  "kernelspec": {
   "display_name": "Python 3.7.4 64-bit",
   "language": "python",
   "name": "python3"
  },
  "language_info": {
   "codemirror_mode": {
    "name": "ipython",
    "version": 3
   },
   "file_extension": ".py",
   "mimetype": "text/x-python",
   "name": "python",
   "nbconvert_exporter": "python",
   "pygments_lexer": "ipython3",
   "version": "3.11.4"
  },
  "orig_nbformat": 4
 },
 "nbformat": 4,
 "nbformat_minor": 2
}
