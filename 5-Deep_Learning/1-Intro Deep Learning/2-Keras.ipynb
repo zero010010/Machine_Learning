{
 "cells": [
  {
   "cell_type": "markdown",
   "metadata": {},
   "source": [
    "# Keras\n",
    "Librería para programar redes neuronales de una manera más sencilla que con TensorFlow. Keras se encuentra en una capa de abstracción por encima de TensorFlow.\n",
    "\n",
    "[Documentación](https://keras.io/guides/)"
   ]
  },
  {
   "cell_type": "markdown",
   "metadata": {},
   "source": [
    "**IMPORTANTE** Podemos llegar a tener problemas con los Long Paths de Windows 10\n",
    "Urls clave:\n",
    "- https://learn.microsoft.com/en-us/windows/win32/fileio/maximum-file-path-limitation?tabs=registry#enable-long-paths-in-windows-10-version-1607-and-later\n",
    "- https://support.microsoft.com/en-us/windows/how-to-open-registry-editor-in-windows-10-deab38e6-91d6-e0aa-4b7c-8878d9e07b11\n"
   ]
  },
  {
   "cell_type": "code",
   "execution_count": null,
   "metadata": {},
   "outputs": [],
   "source": [
    "pip install tensorflow keras"
   ]
  },
  {
   "cell_type": "markdown",
   "metadata": {},
   "source": [
    "Empezamos importando librerías"
   ]
  },
  {
   "cell_type": "code",
   "execution_count": 86,
   "metadata": {},
   "outputs": [],
   "source": [
    "import tensorflow as tf\n",
    "from tensorflow import keras\n",
    "from tensorflow.keras import layers\n",
    "import pandas as pd\n",
    "import numpy as np"
   ]
  },
  {
   "cell_type": "markdown",
   "metadata": {},
   "source": [
    "Cargamos los datos de mnist. No vamos a tratar imagenes con redes convolucionales (perdemos la estructura espacial 2D). Todos los pixeles se convertirán en un vector de 28x28 features independientes, que serán las entradas del modelo."
   ]
  },
  {
   "cell_type": "markdown",
   "metadata": {},
   "source": [
    " MNIST dataset is commonly used as a benchmark to test image classification models. Loading it with Keras provides an easy way to get started with image recognition tasks."
   ]
  },
  {
   "cell_type": "code",
   "execution_count": 75,
   "metadata": {},
   "outputs": [],
   "source": [
    "import ssl\n",
    "ssl._create_default_https_context = ssl._create_unverified_context      "
   ]
  },
  {
   "cell_type": "code",
   "execution_count": 76,
   "metadata": {},
   "outputs": [],
   "source": [
    "# Cogemos las imágenes de los dígitos asi como el conjunto de train y test\n",
    "(X_train, y_train), (X_test, y_test) = keras.datasets.mnist.load_data()"
   ]
  },
  {
   "cell_type": "markdown",
   "metadata": {},
   "source": [
    "Vemos dimensiones del dataset"
   ]
  },
  {
   "cell_type": "code",
   "execution_count": 77,
   "metadata": {},
   "outputs": [
    {
     "name": "stdout",
     "output_type": "stream",
     "text": [
      "(60000, 28, 28)\n",
      "(60000,)\n",
      "(10000, 28, 28)\n",
      "(10000,)\n"
     ]
    }
   ],
   "source": [
    "'''\n",
    "60.000 imagenes de 28x28 pixeles\n",
    "'''\n",
    "print(X_train.shape)\n",
    "print(y_train.shape)\n",
    "print(X_test.shape)\n",
    "print(y_test.shape)"
   ]
  },
  {
   "cell_type": "markdown",
   "metadata": {},
   "source": [
    "X_train is a 60000 x 28 x 28 array - this contains the 60,000 28x28 pixel training images\n",
    "\n",
    "y_train is a 60000 element array - the corresponding digit labels for each training image\n",
    "\n",
    "X_test is 10000 x 28 x 28 - the 10,000 test images\n",
    "\n",
    "y_test is 10000 elements - the test labels\n",
    "\n"
   ]
  },
  {
   "cell_type": "code",
   "execution_count": 78,
   "metadata": {
    "collapsed": true,
    "jupyter": {
     "outputs_hidden": true
    },
    "tags": []
   },
   "outputs": [
    {
     "data": {
      "text/plain": [
       "array([[  0,   0,   0,   0,   0,   0,   0,   0,   0,   0,   0,   0,   0,\n",
       "          0,   0,   0,   0,   0,   0,   0,   0,   0,   0,   0,   0,   0,\n",
       "          0,   0],\n",
       "       [  0,   0,   0,   0,   0,   0,   0,   0,   0,   0,   0,   0,   0,\n",
       "          0,   0,   0,   0,   0,   0,   0,   0,   0,   0,   0,   0,   0,\n",
       "          0,   0],\n",
       "       [  0,   0,   0,   0,   0,   0,   0,   0,   0,   0,   0,   0,   0,\n",
       "          0,   0,   0,   0,   0,   0,   0,   0,   0,   0,   0,   0,   0,\n",
       "          0,   0],\n",
       "       [  0,   0,   0,   0,   0,   0,   0,   0,   0,   0,   0,   0,   0,\n",
       "          0,   0,   0,   0,   0,   0,   0,   0,   0,   0,   0,   0,   0,\n",
       "          0,   0],\n",
       "       [  0,   0,   0,   0,   0,   0,   0,   0,   0,   0,   0,   0,   0,\n",
       "          0,   0,   0,   0,   0,   0,   0,   0,   0,   0,   0,   0,   0,\n",
       "          0,   0],\n",
       "       [  0,   0,   0,   0,   0,   0,   0,   0,   0,   0,   0,   0,   3,\n",
       "         18,  18,  18, 126, 136, 175,  26, 166, 255, 247, 127,   0,   0,\n",
       "          0,   0],\n",
       "       [  0,   0,   0,   0,   0,   0,   0,   0,  30,  36,  94, 154, 170,\n",
       "        253, 253, 253, 253, 253, 225, 172, 253, 242, 195,  64,   0,   0,\n",
       "          0,   0],\n",
       "       [  0,   0,   0,   0,   0,   0,   0,  49, 238, 253, 253, 253, 253,\n",
       "        253, 253, 253, 253, 251,  93,  82,  82,  56,  39,   0,   0,   0,\n",
       "          0,   0],\n",
       "       [  0,   0,   0,   0,   0,   0,   0,  18, 219, 253, 253, 253, 253,\n",
       "        253, 198, 182, 247, 241,   0,   0,   0,   0,   0,   0,   0,   0,\n",
       "          0,   0],\n",
       "       [  0,   0,   0,   0,   0,   0,   0,   0,  80, 156, 107, 253, 253,\n",
       "        205,  11,   0,  43, 154,   0,   0,   0,   0,   0,   0,   0,   0,\n",
       "          0,   0],\n",
       "       [  0,   0,   0,   0,   0,   0,   0,   0,   0,  14,   1, 154, 253,\n",
       "         90,   0,   0,   0,   0,   0,   0,   0,   0,   0,   0,   0,   0,\n",
       "          0,   0],\n",
       "       [  0,   0,   0,   0,   0,   0,   0,   0,   0,   0,   0, 139, 253,\n",
       "        190,   2,   0,   0,   0,   0,   0,   0,   0,   0,   0,   0,   0,\n",
       "          0,   0],\n",
       "       [  0,   0,   0,   0,   0,   0,   0,   0,   0,   0,   0,  11, 190,\n",
       "        253,  70,   0,   0,   0,   0,   0,   0,   0,   0,   0,   0,   0,\n",
       "          0,   0],\n",
       "       [  0,   0,   0,   0,   0,   0,   0,   0,   0,   0,   0,   0,  35,\n",
       "        241, 225, 160, 108,   1,   0,   0,   0,   0,   0,   0,   0,   0,\n",
       "          0,   0],\n",
       "       [  0,   0,   0,   0,   0,   0,   0,   0,   0,   0,   0,   0,   0,\n",
       "         81, 240, 253, 253, 119,  25,   0,   0,   0,   0,   0,   0,   0,\n",
       "          0,   0],\n",
       "       [  0,   0,   0,   0,   0,   0,   0,   0,   0,   0,   0,   0,   0,\n",
       "          0,  45, 186, 253, 253, 150,  27,   0,   0,   0,   0,   0,   0,\n",
       "          0,   0],\n",
       "       [  0,   0,   0,   0,   0,   0,   0,   0,   0,   0,   0,   0,   0,\n",
       "          0,   0,  16,  93, 252, 253, 187,   0,   0,   0,   0,   0,   0,\n",
       "          0,   0],\n",
       "       [  0,   0,   0,   0,   0,   0,   0,   0,   0,   0,   0,   0,   0,\n",
       "          0,   0,   0,   0, 249, 253, 249,  64,   0,   0,   0,   0,   0,\n",
       "          0,   0],\n",
       "       [  0,   0,   0,   0,   0,   0,   0,   0,   0,   0,   0,   0,   0,\n",
       "          0,  46, 130, 183, 253, 253, 207,   2,   0,   0,   0,   0,   0,\n",
       "          0,   0],\n",
       "       [  0,   0,   0,   0,   0,   0,   0,   0,   0,   0,   0,   0,  39,\n",
       "        148, 229, 253, 253, 253, 250, 182,   0,   0,   0,   0,   0,   0,\n",
       "          0,   0],\n",
       "       [  0,   0,   0,   0,   0,   0,   0,   0,   0,   0,  24, 114, 221,\n",
       "        253, 253, 253, 253, 201,  78,   0,   0,   0,   0,   0,   0,   0,\n",
       "          0,   0],\n",
       "       [  0,   0,   0,   0,   0,   0,   0,   0,  23,  66, 213, 253, 253,\n",
       "        253, 253, 198,  81,   2,   0,   0,   0,   0,   0,   0,   0,   0,\n",
       "          0,   0],\n",
       "       [  0,   0,   0,   0,   0,   0,  18, 171, 219, 253, 253, 253, 253,\n",
       "        195,  80,   9,   0,   0,   0,   0,   0,   0,   0,   0,   0,   0,\n",
       "          0,   0],\n",
       "       [  0,   0,   0,   0,  55, 172, 226, 253, 253, 253, 253, 244, 133,\n",
       "         11,   0,   0,   0,   0,   0,   0,   0,   0,   0,   0,   0,   0,\n",
       "          0,   0],\n",
       "       [  0,   0,   0,   0, 136, 253, 253, 253, 212, 135, 132,  16,   0,\n",
       "          0,   0,   0,   0,   0,   0,   0,   0,   0,   0,   0,   0,   0,\n",
       "          0,   0],\n",
       "       [  0,   0,   0,   0,   0,   0,   0,   0,   0,   0,   0,   0,   0,\n",
       "          0,   0,   0,   0,   0,   0,   0,   0,   0,   0,   0,   0,   0,\n",
       "          0,   0],\n",
       "       [  0,   0,   0,   0,   0,   0,   0,   0,   0,   0,   0,   0,   0,\n",
       "          0,   0,   0,   0,   0,   0,   0,   0,   0,   0,   0,   0,   0,\n",
       "          0,   0],\n",
       "       [  0,   0,   0,   0,   0,   0,   0,   0,   0,   0,   0,   0,   0,\n",
       "          0,   0,   0,   0,   0,   0,   0,   0,   0,   0,   0,   0,   0,\n",
       "          0,   0]], dtype=uint8)"
      ]
     },
     "execution_count": 78,
     "metadata": {},
     "output_type": "execute_result"
    }
   ],
   "source": [
    "# Returns the first sample from the X_train data\n",
    "X_train[0] "
   ]
  },
  {
   "cell_type": "markdown",
   "metadata": {},
   "source": [
    "60.000 imágenes de 28x28 pixeles. Vamos a representar una de ellas"
   ]
  },
  {
   "cell_type": "code",
   "execution_count": 79,
   "metadata": {},
   "outputs": [
    {
     "data": {
      "image/png": "[encoded data removed]",
      "text/plain": [
       "<Figure size 640x480 with 1 Axes>"
      ]
     },
     "metadata": {},
     "output_type": "display_data"
    }
   ],
   "source": [
    "import matplotlib.pyplot as plt\n",
    "\n",
    "plt.imshow(X_train[0], cmap= plt.colormaps[\"Greys\"]);# "
   ]
  },
  {
   "cell_type": "markdown",
   "metadata": {},
   "source": [
    "Cada imagen se compone de 28x28 pixeles, y cada pixel representa una escala de grises que va del 0 al 255. Siendo 0 el blanco y 255 negro.\n",
    "\n",
    "¿Se te ocurre alguna manera de normalizar los datos?"
   ]
  },
  {
   "cell_type": "code",
   "execution_count": 80,
   "metadata": {},
   "outputs": [],
   "source": [
    "X_train = X_train.astype(\"float32\")/255\n",
    "X_test = X_test.astype(\"float32\")/255"
   ]
  },
  {
   "cell_type": "markdown",
   "metadata": {},
   "source": [
    "X_train and X_test are cast to float32 datatype\n",
    "\n",
    "The pixel values are then divided by 255 to scale to 0-1 range\n",
    "\n",
    "This rescaling is commonly done as a preprocessing step for image data before feeding into a neural network model.\n",
    "\n",
    "The reasons are:\n",
    "\n",
    "Neural networks typically expect float input data for the math to work properly.\n",
    "\n",
    "Scaling to 0-1 range helps the data distribution have a similar range throughout the dataset. This can help improve model training.\n",
    "\n"
   ]
  },
  {
   "cell_type": "code",
   "execution_count": 81,
   "metadata": {},
   "outputs": [
    {
     "data": {
      "text/plain": [
       "0.13066062"
      ]
     },
     "execution_count": 81,
     "metadata": {},
     "output_type": "execute_result"
    }
   ],
   "source": [
    "\n",
    "np.mean(X_train)"
   ]
  },
  {
   "cell_type": "markdown",
   "metadata": {},
   "source": [
    "Check that the preprocessing scaled the values reasonably. Since the images were scaled to 0-1 range, we'd expect the mean to be close to 0.5.\n",
    "\n",
    "To check that the training data distribution looks sensible before feeding into the model. The mean gives a sense of the central tendency.\n",
    "\n",
    "To use for data normalization/standardization. Some models benefit from input data with a zero mean. So you could subtract the mean from each input as additional preprocessing.\n",
    "\n",
    "As a baseline for model accuracy. A simple model that predicts the mean pixel value would get around 10% accuracy on MNIST. So checking the mean gives a minimum baseline to beat.\n",
    "\n",
    "To potentially detect any anomalies or issues with the loaded data by checking if the mean is unexpectedly"
   ]
  },
  {
   "cell_type": "code",
   "execution_count": 82,
   "metadata": {
    "collapsed": true,
    "jupyter": {
     "outputs_hidden": true
    },
    "tags": []
   },
   "outputs": [
    {
     "data": {
      "text/plain": [
       "array([[0.        , 0.        , 0.        , 0.        , 0.        ,\n",
       "        0.        , 0.        , 0.        , 0.        , 0.        ,\n",
       "        0.        , 0.        , 0.        , 0.        , 0.        ,\n",
       "        0.        , 0.        , 0.        , 0.        , 0.        ,\n",
       "        0.        , 0.        , 0.        , 0.        , 0.        ,\n",
       "        0.        , 0.        , 0.        ],\n",
       "       [0.        , 0.        , 0.        , 0.        , 0.        ,\n",
       "        0.        , 0.        , 0.        , 0.        , 0.        ,\n",
       "        0.        , 0.        , 0.        , 0.        , 0.        ,\n",
       "        0.        , 0.        , 0.        , 0.        , 0.        ,\n",
       "        0.        , 0.        , 0.        , 0.        , 0.        ,\n",
       "        0.        , 0.        , 0.        ],\n",
       "       [0.        , 0.        , 0.        , 0.        , 0.        ,\n",
       "        0.        , 0.        , 0.        , 0.        , 0.        ,\n",
       "        0.        , 0.        , 0.        , 0.        , 0.        ,\n",
       "        0.        , 0.        , 0.        , 0.        , 0.        ,\n",
       "        0.        , 0.        , 0.        , 0.        , 0.        ,\n",
       "        0.        , 0.        , 0.        ],\n",
       "       [0.        , 0.        , 0.        , 0.        , 0.        ,\n",
       "        0.        , 0.        , 0.        , 0.        , 0.        ,\n",
       "        0.        , 0.        , 0.        , 0.        , 0.        ,\n",
       "        0.        , 0.        , 0.        , 0.        , 0.        ,\n",
       "        0.        , 0.        , 0.        , 0.        , 0.        ,\n",
       "        0.        , 0.        , 0.        ],\n",
       "       [0.        , 0.        , 0.        , 0.        , 0.        ,\n",
       "        0.        , 0.        , 0.        , 0.        , 0.        ,\n",
       "        0.        , 0.        , 0.        , 0.        , 0.        ,\n",
       "        0.        , 0.        , 0.        , 0.        , 0.        ,\n",
       "        0.        , 0.        , 0.        , 0.        , 0.        ,\n",
       "        0.        , 0.        , 0.        ],\n",
       "       [0.        , 0.        , 0.        , 0.        , 0.        ,\n",
       "        0.        , 0.        , 0.        , 0.        , 0.        ,\n",
       "        0.        , 0.        , 0.01176471, 0.07058824, 0.07058824,\n",
       "        0.07058824, 0.49411765, 0.53333336, 0.6862745 , 0.10196079,\n",
       "        0.6509804 , 1.        , 0.96862745, 0.49803922, 0.        ,\n",
       "        0.        , 0.        , 0.        ],\n",
       "       [0.        , 0.        , 0.        , 0.        , 0.        ,\n",
       "        0.        , 0.        , 0.        , 0.11764706, 0.14117648,\n",
       "        0.36862746, 0.6039216 , 0.6666667 , 0.99215686, 0.99215686,\n",
       "        0.99215686, 0.99215686, 0.99215686, 0.88235295, 0.6745098 ,\n",
       "        0.99215686, 0.9490196 , 0.7647059 , 0.2509804 , 0.        ,\n",
       "        0.        , 0.        , 0.        ],\n",
       "       [0.        , 0.        , 0.        , 0.        , 0.        ,\n",
       "        0.        , 0.        , 0.19215687, 0.93333334, 0.99215686,\n",
       "        0.99215686, 0.99215686, 0.99215686, 0.99215686, 0.99215686,\n",
       "        0.99215686, 0.99215686, 0.9843137 , 0.3647059 , 0.32156864,\n",
       "        0.32156864, 0.21960784, 0.15294118, 0.        , 0.        ,\n",
       "        0.        , 0.        , 0.        ],\n",
       "       [0.        , 0.        , 0.        , 0.        , 0.        ,\n",
       "        0.        , 0.        , 0.07058824, 0.85882354, 0.99215686,\n",
       "        0.99215686, 0.99215686, 0.99215686, 0.99215686, 0.7764706 ,\n",
       "        0.7137255 , 0.96862745, 0.94509804, 0.        , 0.        ,\n",
       "        0.        , 0.        , 0.        , 0.        , 0.        ,\n",
       "        0.        , 0.        , 0.        ],\n",
       "       [0.        , 0.        , 0.        , 0.        , 0.        ,\n",
       "        0.        , 0.        , 0.        , 0.3137255 , 0.6117647 ,\n",
       "        0.41960785, 0.99215686, 0.99215686, 0.8039216 , 0.04313726,\n",
       "        0.        , 0.16862746, 0.6039216 , 0.        , 0.        ,\n",
       "        0.        , 0.        , 0.        , 0.        , 0.        ,\n",
       "        0.        , 0.        , 0.        ],\n",
       "       [0.        , 0.        , 0.        , 0.        , 0.        ,\n",
       "        0.        , 0.        , 0.        , 0.        , 0.05490196,\n",
       "        0.00392157, 0.6039216 , 0.99215686, 0.3529412 , 0.        ,\n",
       "        0.        , 0.        , 0.        , 0.        , 0.        ,\n",
       "        0.        , 0.        , 0.        , 0.        , 0.        ,\n",
       "        0.        , 0.        , 0.        ],\n",
       "       [0.        , 0.        , 0.        , 0.        , 0.        ,\n",
       "        0.        , 0.        , 0.        , 0.        , 0.        ,\n",
       "        0.        , 0.54509807, 0.99215686, 0.74509805, 0.00784314,\n",
       "        0.        , 0.        , 0.        , 0.        , 0.        ,\n",
       "        0.        , 0.        , 0.        , 0.        , 0.        ,\n",
       "        0.        , 0.        , 0.        ],\n",
       "       [0.        , 0.        , 0.        , 0.        , 0.        ,\n",
       "        0.        , 0.        , 0.        , 0.        , 0.        ,\n",
       "        0.        , 0.04313726, 0.74509805, 0.99215686, 0.27450982,\n",
       "        0.        , 0.        , 0.        , 0.        , 0.        ,\n",
       "        0.        , 0.        , 0.        , 0.        , 0.        ,\n",
       "        0.        , 0.        , 0.        ],\n",
       "       [0.        , 0.        , 0.        , 0.        , 0.        ,\n",
       "        0.        , 0.        , 0.        , 0.        , 0.        ,\n",
       "        0.        , 0.        , 0.13725491, 0.94509804, 0.88235295,\n",
       "        0.627451  , 0.42352942, 0.00392157, 0.        , 0.        ,\n",
       "        0.        , 0.        , 0.        , 0.        , 0.        ,\n",
       "        0.        , 0.        , 0.        ],\n",
       "       [0.        , 0.        , 0.        , 0.        , 0.        ,\n",
       "        0.        , 0.        , 0.        , 0.        , 0.        ,\n",
       "        0.        , 0.        , 0.        , 0.31764707, 0.9411765 ,\n",
       "        0.99215686, 0.99215686, 0.46666667, 0.09803922, 0.        ,\n",
       "        0.        , 0.        , 0.        , 0.        , 0.        ,\n",
       "        0.        , 0.        , 0.        ],\n",
       "       [0.        , 0.        , 0.        , 0.        , 0.        ,\n",
       "        0.        , 0.        , 0.        , 0.        , 0.        ,\n",
       "        0.        , 0.        , 0.        , 0.        , 0.1764706 ,\n",
       "        0.7294118 , 0.99215686, 0.99215686, 0.5882353 , 0.10588235,\n",
       "        0.        , 0.        , 0.        , 0.        , 0.        ,\n",
       "        0.        , 0.        , 0.        ],\n",
       "       [0.        , 0.        , 0.        , 0.        , 0.        ,\n",
       "        0.        , 0.        , 0.        , 0.        , 0.        ,\n",
       "        0.        , 0.        , 0.        , 0.        , 0.        ,\n",
       "        0.0627451 , 0.3647059 , 0.9882353 , 0.99215686, 0.73333335,\n",
       "        0.        , 0.        , 0.        , 0.        , 0.        ,\n",
       "        0.        , 0.        , 0.        ],\n",
       "       [0.        , 0.        , 0.        , 0.        , 0.        ,\n",
       "        0.        , 0.        , 0.        , 0.        , 0.        ,\n",
       "        0.        , 0.        , 0.        , 0.        , 0.        ,\n",
       "        0.        , 0.        , 0.9764706 , 0.99215686, 0.9764706 ,\n",
       "        0.2509804 , 0.        , 0.        , 0.        , 0.        ,\n",
       "        0.        , 0.        , 0.        ],\n",
       "       [0.        , 0.        , 0.        , 0.        , 0.        ,\n",
       "        0.        , 0.        , 0.        , 0.        , 0.        ,\n",
       "        0.        , 0.        , 0.        , 0.        , 0.18039216,\n",
       "        0.50980395, 0.7176471 , 0.99215686, 0.99215686, 0.8117647 ,\n",
       "        0.00784314, 0.        , 0.        , 0.        , 0.        ,\n",
       "        0.        , 0.        , 0.        ],\n",
       "       [0.        , 0.        , 0.        , 0.        , 0.        ,\n",
       "        0.        , 0.        , 0.        , 0.        , 0.        ,\n",
       "        0.        , 0.        , 0.15294118, 0.5803922 , 0.8980392 ,\n",
       "        0.99215686, 0.99215686, 0.99215686, 0.98039216, 0.7137255 ,\n",
       "        0.        , 0.        , 0.        , 0.        , 0.        ,\n",
       "        0.        , 0.        , 0.        ],\n",
       "       [0.        , 0.        , 0.        , 0.        , 0.        ,\n",
       "        0.        , 0.        , 0.        , 0.        , 0.        ,\n",
       "        0.09411765, 0.44705883, 0.8666667 , 0.99215686, 0.99215686,\n",
       "        0.99215686, 0.99215686, 0.7882353 , 0.30588236, 0.        ,\n",
       "        0.        , 0.        , 0.        , 0.        , 0.        ,\n",
       "        0.        , 0.        , 0.        ],\n",
       "       [0.        , 0.        , 0.        , 0.        , 0.        ,\n",
       "        0.        , 0.        , 0.        , 0.09019608, 0.25882354,\n",
       "        0.8352941 , 0.99215686, 0.99215686, 0.99215686, 0.99215686,\n",
       "        0.7764706 , 0.31764707, 0.00784314, 0.        , 0.        ,\n",
       "        0.        , 0.        , 0.        , 0.        , 0.        ,\n",
       "        0.        , 0.        , 0.        ],\n",
       "       [0.        , 0.        , 0.        , 0.        , 0.        ,\n",
       "        0.        , 0.07058824, 0.67058825, 0.85882354, 0.99215686,\n",
       "        0.99215686, 0.99215686, 0.99215686, 0.7647059 , 0.3137255 ,\n",
       "        0.03529412, 0.        , 0.        , 0.        , 0.        ,\n",
       "        0.        , 0.        , 0.        , 0.        , 0.        ,\n",
       "        0.        , 0.        , 0.        ],\n",
       "       [0.        , 0.        , 0.        , 0.        , 0.21568628,\n",
       "        0.6745098 , 0.8862745 , 0.99215686, 0.99215686, 0.99215686,\n",
       "        0.99215686, 0.95686275, 0.52156866, 0.04313726, 0.        ,\n",
       "        0.        , 0.        , 0.        , 0.        , 0.        ,\n",
       "        0.        , 0.        , 0.        , 0.        , 0.        ,\n",
       "        0.        , 0.        , 0.        ],\n",
       "       [0.        , 0.        , 0.        , 0.        , 0.53333336,\n",
       "        0.99215686, 0.99215686, 0.99215686, 0.83137256, 0.5294118 ,\n",
       "        0.5176471 , 0.0627451 , 0.        , 0.        , 0.        ,\n",
       "        0.        , 0.        , 0.        , 0.        , 0.        ,\n",
       "        0.        , 0.        , 0.        , 0.        , 0.        ,\n",
       "        0.        , 0.        , 0.        ],\n",
       "       [0.        , 0.        , 0.        , 0.        , 0.        ,\n",
       "        0.        , 0.        , 0.        , 0.        , 0.        ,\n",
       "        0.        , 0.        , 0.        , 0.        , 0.        ,\n",
       "        0.        , 0.        , 0.        , 0.        , 0.        ,\n",
       "        0.        , 0.        , 0.        , 0.        , 0.        ,\n",
       "        0.        , 0.        , 0.        ],\n",
       "       [0.        , 0.        , 0.        , 0.        , 0.        ,\n",
       "        0.        , 0.        , 0.        , 0.        , 0.        ,\n",
       "        0.        , 0.        , 0.        , 0.        , 0.        ,\n",
       "        0.        , 0.        , 0.        , 0.        , 0.        ,\n",
       "        0.        , 0.        , 0.        , 0.        , 0.        ,\n",
       "        0.        , 0.        , 0.        ],\n",
       "       [0.        , 0.        , 0.        , 0.        , 0.        ,\n",
       "        0.        , 0.        , 0.        , 0.        , 0.        ,\n",
       "        0.        , 0.        , 0.        , 0.        , 0.        ,\n",
       "        0.        , 0.        , 0.        , 0.        , 0.        ,\n",
       "        0.        , 0.        , 0.        , 0.        , 0.        ,\n",
       "        0.        , 0.        , 0.        ]], dtype=float32)"
      ]
     },
     "execution_count": 82,
     "metadata": {},
     "output_type": "execute_result"
    }
   ],
   "source": [
    "'''\n",
    "Comprobamos la normalización\n",
    "'''\n",
    "X_train[0]"
   ]
  },
  {
   "cell_type": "code",
   "execution_count": 87,
   "metadata": {},
   "outputs": [],
   "source": [
    "y_train = y_train.astype(\"float32\")\n",
    "y_test = y_test.astype(\"float32\")"
   ]
  },
  {
   "cell_type": "markdown",
   "metadata": {},
   "source": [
    "The labels in the MNIST dataset originally are integer values between 0-9 indicating the digit class.\n",
    "\n",
    "Typically for neural network classification, it is common practice to encode labels as \"one-hot\" vectors. This represents each class as a vector with a 1 in the index for that class and 0s elsewhere.\n",
    "\n",
    "Keras expects label inputs to be encoded as binary vectors when training classification models.\n",
    "\n",
    "So converting the integer labels to float32 is likely in preparation for one-hot encoding the labels before model training. This is a necessary data preprocessing step.\n",
    "\n",
    "The float32 type allows the vector elements to have fractional values (0s and 1s) compared to integers.\n",
    "\n",
    "In summary, this casting to float32 is done to get the label data ready for one-hot encoding further preprocessing before feeding into the Keras neural network model.\n",
    "\n",
    "\n",
    "\n"
   ]
  },
  {
   "cell_type": "markdown",
   "metadata": {},
   "source": [
    "Guardamos datos para validación. Estos datos se usarán durante el entrenamiento. Otra opción es decirle a keras en la etapa de entrenamiento que reserve un X % de los datos para validar."
   ]
  },
  {
   "cell_type": "code",
   "execution_count": 84,
   "metadata": {},
   "outputs": [],
   "source": [
    "X_val = X_train[-10000:]\n",
    "y_val = y_train[-10000:]\n",
    "\n",
    "X_train = X_train[:-10000]\n",
    "y_train = y_train[:-10000]"
   ]
  },
  {
   "cell_type": "markdown",
   "metadata": {},
   "source": [
    "The last 10,000 images and labels from X_train and y_train are assigned to new X_val and y_val variables.\n",
    "\n",
    "X_train and y_train are then reassigned to only contain the first 60,000-10,000=50,000 examples.\n",
    "\n",
    "So the full 60,000 training examples have been split into:\n",
    "\n",
    "X_train, y_train - 50,000 examples for training the model\n",
    "X_val, y_val - 10,000 examples to validate the model during training\n",
    "Using a validation set allows monitoring model performance on data not used in training. This helps detect and prevent overfitting.\n",
    "\n",
    "The validation data is typically a subset taken from the original training data, as shown here.\n",
    "\n",
    "In summary, this code is creating new validation sets by splitting off part of the original training data. This is a good practice for model training and evaluation.\n",
    "\n",
    "\n",
    "\n"
   ]
  },
  {
   "cell_type": "code",
   "execution_count": 88,
   "metadata": {},
   "outputs": [
    {
     "data": {
      "image/png": "[encoded data removed]",
      "text/plain": [
       "<Figure size 640x480 with 1 Axes>"
      ]
     },
     "metadata": {},
     "output_type": "display_data"
    }
   ],
   "source": [
    "import matplotlib.pyplot as plt\n",
    "\n",
    "#Deprecated! plt.imshow(X_val[0], cmap=plt.cm.get_cmap('Greys'));\n",
    "plt.imshow(X_val[0], cmap= plt.colormaps[\"Greys\"]);"
   ]
  },
  {
   "cell_type": "code",
   "execution_count": 89,
   "metadata": {},
   "outputs": [
    {
     "name": "stdout",
     "output_type": "stream",
     "text": [
      "(50000, 28, 28)\n",
      "(10000, 28, 28)\n",
      "(10000, 28, 28)\n"
     ]
    }
   ],
   "source": [
    "print(X_train.shape)\n",
    "print(X_val.shape)\n",
    "print(X_test.shape)"
   ]
  },
  {
   "cell_type": "markdown",
   "metadata": {},
   "source": [
    "Montamos la arquitectura de la red neuronal. Se va a componer de:\n",
    "* **Sequential**: API para iniciar la red neuronal. No cuenta como capa.\n",
    "* **Flatten**: capa de entrada. Necesita un vector unidimensional. Como tenemos imágenes, esta capa aplana las imagenes (2D) en 1D.\n",
    "* **Dense**: es una hidden layer. Se compondrá de `n` neuronas y de una función de activación que se aplicará a todas las neuronas de la capa.\n",
    "\n",
    "Recuerda que es un problema de clasificación multiclase (10 clases) y que por tanto la última capa se compondrá de tantas neuronas como clases tengas.\n",
    "\n",
    "En cuanto a las funciones de activación es recomendable usar relu en las hidden layer, que tarda menos en entrenar, mientras que la ultima (output) suele ser una softmax."
   ]
  },
  {
   "cell_type": "code",
   "execution_count": 16,
   "metadata": {},
   "outputs": [],
   "source": [
    "model = keras.models.Sequential()\n",
    "\n",
    "# Capa entrada\n",
    "model.add(keras.layers.Flatten(input_shape=(28, 28)))\n",
    "\n",
    "# Hidden layer\n",
    "model.add(keras.layers.Dense(units = 300,\n",
    "                            activation='relu'))\n",
    "\n",
    "# Hidden layer\n",
    "model.add(keras.layers.Dense(units = 100,\n",
    "                            activation='relu'))\n",
    "\n",
    "# Capa salida\n",
    "model.add(keras.layers.Dense(units = 10,\n",
    "                            activation='softmax'))"
   ]
  },
  {
   "cell_type": "markdown",
   "metadata": {},
   "source": [
    "**Keras Sequential model architecture**\n",
    "\n",
    "\n",
    "**model** = keras.models.Sequential()\n",
    "Creates a Sequential model, which stacks layers linearly.\n",
    "\n",
    "**model.add(keras.layers.Flatten(input_shape=(28, 28)))**\n",
    "The first layer is a Flatten layer which converts the 28x28 pixel input images into 784 length (28*28) vectors to feed into the dense layers.\n",
    "\n",
    "**model.add(keras.layers.Dense(300, activation='relu'))**\n",
    "This is a fully-connected dense layer with 300 units and ReLU activation.\n",
    "\n",
    "**model.add(keras.layers.Dense(100, activation='relu'))**\n",
    "Second dense layer with 100 units and ReLU activation.\n",
    "\n",
    "**model.add(keras.layers.Dense(10, activation='softmax'))**\n",
    "The final output layer has 10 units (one per digit class) with softmax activation to output classification probabilities.\n",
    "\n",
    "*This builds a simple fully-connected neural network for classifying the handwritten digits, with two hidden layers for feature extraction before the output layer. The ReLU activation and softmax output are standard for classification models.*\n",
    "\n",
    "\n",
    "\n"
   ]
  },
  {
   "cell_type": "code",
   "execution_count": 17,
   "metadata": {},
   "outputs": [
    {
     "name": "stdout",
     "output_type": "stream",
     "text": [
      "Model: \"sequential\"\n",
      "_________________________________________________________________\n",
      " Layer (type)                Output Shape              Param #   \n",
      "=================================================================\n",
      " flatten (Flatten)           (None, 784)               0         \n",
      "                                                                 \n",
      " dense (Dense)               (None, 300)               235500    \n",
      "                                                                 \n",
      " dense_1 (Dense)             (None, 100)               30100     \n",
      "                                                                 \n",
      " dense_2 (Dense)             (None, 10)                1010      \n",
      "                                                                 \n",
      "=================================================================\n",
      "Total params: 266610 (1.02 MB)\n",
      "Trainable params: 266610 (1.02 MB)\n",
      "Non-trainable params: 0 (0.00 Byte)\n",
      "_________________________________________________________________\n"
     ]
    }
   ],
   "source": [
    "model.summary()"
   ]
  },
  {
   "cell_type": "markdown",
   "metadata": {},
   "source": [
    "**The ReLU (Rectified Linear Unit) activation function** is a commonly used activation function for hidden layers in neural networks.\n",
    "\n",
    "Here's an explanation of what ReLU does:\n",
    "\n",
    "It applies the function f(x) = max(0, x) to the input.\n",
    "\n",
    "This means it thresholds all negative inputs to 0 while keeping positive inputs unchanged.\n",
    "\n",
    "The output is a simple linear function for positive values, hence the name \"rectified linear\".\n",
    "\n",
    "Some key properties and motivations for using ReLU:\n",
    "\n",
    "It introduces non-linearity into the network, allowing neural nets to learn complex relationships.\n",
    "\n",
    "Compared to other activations like sigmoid, ReLU tends to result in faster training and better generalization.\n",
    "\n",
    "It avoids the vanishing gradient problem since the gradient is either 0 or constant positive for positive inputs.\n",
    "\n",
    "It is computationally efficient as it involves simple thresholding.\n",
    "\n",
    "In summary, the ReLU activation applies element-wise nonlinearity while keeping only the positive inputs. This has become the standard activation for hidden layers due to its faster training convergence and better generalization capabilities."
   ]
  },
  {
   "cell_type": "code",
   "execution_count": 91,
   "metadata": {},
   "outputs": [],
   "source": [
    "# Otra manera de declarar la red neuronal\n",
    "capas = [\n",
    "    keras.layers.Flatten(input_shape=(28, 28)),\n",
    "    keras.layers.Dense(units = 300, activation='relu'),\n",
    "    keras.layers.Dense(units = 100, activation='relu'),\n",
    "    keras.layers.Dense(units = 10, activation='softmax')\n",
    "]\n",
    "\n",
    "model = keras.models.Sequential(capas)"
   ]
  },
  {
   "cell_type": "markdown",
   "metadata": {},
   "source": [
    "Podemos ver las capas, y acceder a sus elementos"
   ]
  },
  {
   "cell_type": "code",
   "execution_count": 93,
   "metadata": {},
   "outputs": [
    {
     "name": "stdout",
     "output_type": "stream",
     "text": [
      "<keras.src.layers.reshaping.flatten.Flatten object at 0x143afe490>\n"
     ]
    }
   ],
   "source": [
    "print(model.layers[0])"
   ]
  },
  {
   "cell_type": "markdown",
   "metadata": {},
   "source": [
    "Podemos ver los pesos de las capas sin entrenar, porque los inicializa aleatoriamente. Los bias los inicializa a 0."
   ]
  },
  {
   "cell_type": "code",
   "execution_count": 94,
   "metadata": {},
   "outputs": [],
   "source": [
    "hidden1 = model.layers[1]\n",
    "weights, biases = hidden1.get_weights()"
   ]
  },
  {
   "cell_type": "code",
   "execution_count": 95,
   "metadata": {
    "collapsed": true,
    "jupyter": {
     "outputs_hidden": true
    },
    "tags": []
   },
   "outputs": [
    {
     "data": {
      "text/plain": [
       "300"
      ]
     },
     "execution_count": 95,
     "metadata": {},
     "output_type": "execute_result"
    }
   ],
   "source": [
    "len(weights[0])"
   ]
  },
  {
   "cell_type": "code",
   "execution_count": 22,
   "metadata": {},
   "outputs": [
    {
     "data": {
      "text/plain": [
       "784"
      ]
     },
     "execution_count": 22,
     "metadata": {},
     "output_type": "execute_result"
    }
   ],
   "source": [
    "28*28 = 784 # neurons   "
   ]
  },
  {
   "cell_type": "code",
   "execution_count": 23,
   "metadata": {},
   "outputs": [
    {
     "data": {
      "text/plain": [
       "235200"
      ]
     },
     "execution_count": 23,
     "metadata": {},
     "output_type": "execute_result"
    }
   ],
   "source": [
    "300*784 # 300 is the number of neurons in the hidden layer, 784 is the number of pixels in the image"
   ]
  },
  {
   "cell_type": "code",
   "execution_count": 96,
   "metadata": {},
   "outputs": [
    {
     "data": {
      "text/plain": [
       "235200"
      ]
     },
     "execution_count": 96,
     "metadata": {},
     "output_type": "execute_result"
    }
   ],
   "source": [
    "weights.size # weigh size means number of weights   "
   ]
  },
  {
   "cell_type": "code",
   "execution_count": 99,
   "metadata": {},
   "outputs": [
    {
     "data": {
      "text/plain": [
       "array([0., 0., 0., 0., 0., 0., 0., 0., 0., 0., 0., 0., 0., 0., 0., 0., 0.,\n",
       "       0., 0., 0.], dtype=float32)"
      ]
     },
     "execution_count": 99,
     "metadata": {},
     "output_type": "execute_result"
    }
   ],
   "source": [
    "biases[:20]"
   ]
  },
  {
   "cell_type": "markdown",
   "metadata": {},
   "source": [
    "Establecemos la configuración de ejecución... el compile."
   ]
  },
  {
   "cell_type": "code",
   "execution_count": 100,
   "metadata": {},
   "outputs": [],
   "source": [
    "model.compile(\n",
    "    optimizer = keras.optimizers.SGD(),\n",
    "    loss = keras.losses.SparseCategoricalCrossentropy(),\n",
    "    metrics = [keras.metrics.SparseCategoricalAccuracy()]\n",
    ")"
   ]
  },
  {
   "cell_type": "markdown",
   "metadata": {},
   "source": [
    "https://keras.io/api/losses/probabilistic_losses/#kldivergence-class"
   ]
  },
  {
   "cell_type": "code",
   "execution_count": 101,
   "metadata": {},
   "outputs": [],
   "source": [
    "# Equivalente\n",
    "model.compile(\n",
    "    optimizer = \"sgd\",\n",
    "    loss = \"sparse_categorical_crossentropy\",\n",
    "    metrics = [\"accuracy\"]\n",
    ")"
   ]
  },
  {
   "cell_type": "code",
   "execution_count": 102,
   "metadata": {
    "tags": []
   },
   "outputs": [
    {
     "name": "stdout",
     "output_type": "stream",
     "text": [
      "Model: \"sequential_5\"\n",
      "_________________________________________________________________\n",
      " Layer (type)                Output Shape              Param #   \n",
      "=================================================================\n",
      " flatten_3 (Flatten)         (None, 784)               0         \n",
      "                                                                 \n",
      " dense_13 (Dense)            (None, 300)               235500    \n",
      "                                                                 \n",
      " dense_14 (Dense)            (None, 100)               30100     \n",
      "                                                                 \n",
      " dense_15 (Dense)            (None, 10)                1010      \n",
      "                                                                 \n",
      "=================================================================\n",
      "Total params: 266610 (1.02 MB)\n",
      "Trainable params: 266610 (1.02 MB)\n",
      "Non-trainable params: 0 (0.00 Byte)\n",
      "_________________________________________________________________\n"
     ]
    }
   ],
   "source": [
    "# Summary\n",
    "model.summary()"
   ]
  },
  {
   "cell_type": "markdown",
   "metadata": {},
   "source": [
    "Entrenamos el modelo. Usamos los datos de entrenamiento. El batch_size es la cantidad de muestras que utiliza el SGD, y las epochs son las iteraciones que realiza en el entrenamiento."
   ]
  },
  {
   "cell_type": "code",
   "execution_count": 103,
   "metadata": {},
   "outputs": [
    {
     "data": {
      "text/plain": [
       "(50000, 28, 28)"
      ]
     },
     "execution_count": 103,
     "metadata": {},
     "output_type": "execute_result"
    }
   ],
   "source": [
    "X_train.shape"
   ]
  },
  {
   "cell_type": "code",
   "execution_count": 104,
   "metadata": {},
   "outputs": [
    {
     "data": {
      "text/plain": [
       "390.625"
      ]
     },
     "execution_count": 104,
     "metadata": {},
     "output_type": "execute_result"
    }
   ],
   "source": [
    "50000/128 = 390.625  # 128 = batch_size "
   ]
  },
  {
   "cell_type": "code",
   "execution_count": 31,
   "metadata": {
    "tags": []
   },
   "outputs": [
    {
     "name": "stdout",
     "output_type": "stream",
     "text": [
      "Epoch 1/50\n",
      "391/391 [==============================] - 7s 13ms/step - loss: 1.2331 - accuracy: 0.6930 - val_loss: 0.5914 - val_accuracy: 0.8653\n",
      "Epoch 2/50\n",
      "391/391 [==============================] - 4s 11ms/step - loss: 0.5121 - accuracy: 0.8686 - val_loss: 0.3952 - val_accuracy: 0.8955\n",
      "Epoch 3/50\n",
      "391/391 [==============================] - 4s 10ms/step - loss: 0.3955 - accuracy: 0.8933 - val_loss: 0.3325 - val_accuracy: 0.9096\n",
      "Epoch 4/50\n",
      "391/391 [==============================] - 4s 10ms/step - loss: 0.3457 - accuracy: 0.9037 - val_loss: 0.3001 - val_accuracy: 0.9178\n",
      "Epoch 5/50\n",
      "391/391 [==============================] - 6s 14ms/step - loss: 0.3155 - accuracy: 0.9110 - val_loss: 0.2784 - val_accuracy: 0.9222\n",
      "Epoch 6/50\n",
      "391/391 [==============================] - 5s 12ms/step - loss: 0.2936 - accuracy: 0.9170 - val_loss: 0.2637 - val_accuracy: 0.9251\n",
      "Epoch 7/50\n",
      "391/391 [==============================] - 5s 14ms/step - loss: 0.2762 - accuracy: 0.9222 - val_loss: 0.2497 - val_accuracy: 0.9282\n",
      "Epoch 8/50\n",
      "391/391 [==============================] - 4s 10ms/step - loss: 0.2616 - accuracy: 0.9259 - val_loss: 0.2370 - val_accuracy: 0.9343\n",
      "Epoch 9/50\n",
      "391/391 [==============================] - 4s 11ms/step - loss: 0.2491 - accuracy: 0.9292 - val_loss: 0.2294 - val_accuracy: 0.9356\n",
      "Epoch 10/50\n",
      "391/391 [==============================] - 4s 10ms/step - loss: 0.2381 - accuracy: 0.9326 - val_loss: 0.2187 - val_accuracy: 0.9386\n",
      "Epoch 11/50\n",
      "391/391 [==============================] - 5s 12ms/step - loss: 0.2281 - accuracy: 0.9352 - val_loss: 0.2119 - val_accuracy: 0.9409\n",
      "Epoch 12/50\n",
      "391/391 [==============================] - 5s 12ms/step - loss: 0.2191 - accuracy: 0.9378 - val_loss: 0.2027 - val_accuracy: 0.9454\n",
      "Epoch 13/50\n",
      "391/391 [==============================] - 5s 12ms/step - loss: 0.2107 - accuracy: 0.9402 - val_loss: 0.1968 - val_accuracy: 0.9474\n",
      "Epoch 14/50\n",
      "391/391 [==============================] - 4s 11ms/step - loss: 0.2030 - accuracy: 0.9421 - val_loss: 0.1909 - val_accuracy: 0.9485\n",
      "Epoch 15/50\n",
      "391/391 [==============================] - 5s 12ms/step - loss: 0.1960 - accuracy: 0.9442 - val_loss: 0.1849 - val_accuracy: 0.9511\n",
      "Epoch 16/50\n",
      "391/391 [==============================] - 5s 13ms/step - loss: 0.1894 - accuracy: 0.9463 - val_loss: 0.1793 - val_accuracy: 0.9516\n",
      "Epoch 17/50\n",
      "391/391 [==============================] - 5s 12ms/step - loss: 0.1830 - accuracy: 0.9486 - val_loss: 0.1748 - val_accuracy: 0.9522\n",
      "Epoch 18/50\n",
      "391/391 [==============================] - 5s 12ms/step - loss: 0.1774 - accuracy: 0.9501 - val_loss: 0.1701 - val_accuracy: 0.9538\n",
      "Epoch 19/50\n",
      "391/391 [==============================] - 5s 12ms/step - loss: 0.1716 - accuracy: 0.9516 - val_loss: 0.1677 - val_accuracy: 0.9547\n",
      "Epoch 20/50\n",
      "391/391 [==============================] - 5s 13ms/step - loss: 0.1664 - accuracy: 0.9525 - val_loss: 0.1634 - val_accuracy: 0.9557\n",
      "Epoch 21/50\n",
      "391/391 [==============================] - 5s 12ms/step - loss: 0.1615 - accuracy: 0.9544 - val_loss: 0.1590 - val_accuracy: 0.9557\n",
      "Epoch 22/50\n",
      "391/391 [==============================] - 5s 12ms/step - loss: 0.1570 - accuracy: 0.9556 - val_loss: 0.1558 - val_accuracy: 0.9573\n",
      "Epoch 23/50\n",
      "391/391 [==============================] - 5s 12ms/step - loss: 0.1523 - accuracy: 0.9574 - val_loss: 0.1537 - val_accuracy: 0.9582\n",
      "Epoch 24/50\n",
      "391/391 [==============================] - 5s 12ms/step - loss: 0.1481 - accuracy: 0.9584 - val_loss: 0.1492 - val_accuracy: 0.9582\n",
      "Epoch 25/50\n",
      "391/391 [==============================] - 5s 13ms/step - loss: 0.1440 - accuracy: 0.9598 - val_loss: 0.1472 - val_accuracy: 0.9584\n",
      "Epoch 26/50\n",
      "391/391 [==============================] - 4s 11ms/step - loss: 0.1403 - accuracy: 0.9611 - val_loss: 0.1436 - val_accuracy: 0.9614\n",
      "Epoch 27/50\n",
      "391/391 [==============================] - 4s 11ms/step - loss: 0.1366 - accuracy: 0.9619 - val_loss: 0.1414 - val_accuracy: 0.9616\n",
      "Epoch 28/50\n",
      "391/391 [==============================] - 4s 11ms/step - loss: 0.1331 - accuracy: 0.9631 - val_loss: 0.1385 - val_accuracy: 0.9617\n",
      "Epoch 29/50\n",
      "391/391 [==============================] - 4s 11ms/step - loss: 0.1298 - accuracy: 0.9638 - val_loss: 0.1362 - val_accuracy: 0.9627\n",
      "Epoch 30/50\n",
      "391/391 [==============================] - 5s 12ms/step - loss: 0.1266 - accuracy: 0.9647 - val_loss: 0.1343 - val_accuracy: 0.9633\n",
      "Epoch 31/50\n",
      "391/391 [==============================] - 4s 11ms/step - loss: 0.1235 - accuracy: 0.9658 - val_loss: 0.1316 - val_accuracy: 0.9634\n",
      "Epoch 32/50\n",
      "391/391 [==============================] - 4s 10ms/step - loss: 0.1206 - accuracy: 0.9665 - val_loss: 0.1305 - val_accuracy: 0.9647\n",
      "Epoch 33/50\n",
      "391/391 [==============================] - 4s 11ms/step - loss: 0.1179 - accuracy: 0.9676 - val_loss: 0.1272 - val_accuracy: 0.9644\n",
      "Epoch 34/50\n",
      "391/391 [==============================] - 4s 11ms/step - loss: 0.1150 - accuracy: 0.9678 - val_loss: 0.1255 - val_accuracy: 0.9660\n",
      "Epoch 35/50\n",
      "391/391 [==============================] - 4s 11ms/step - loss: 0.1125 - accuracy: 0.9688 - val_loss: 0.1243 - val_accuracy: 0.9659\n",
      "Epoch 36/50\n",
      "391/391 [==============================] - 4s 11ms/step - loss: 0.1097 - accuracy: 0.9698 - val_loss: 0.1254 - val_accuracy: 0.9660\n",
      "Epoch 37/50\n",
      "391/391 [==============================] - 4s 11ms/step - loss: 0.1074 - accuracy: 0.9703 - val_loss: 0.1228 - val_accuracy: 0.9662\n",
      "Epoch 38/50\n",
      "391/391 [==============================] - 4s 11ms/step - loss: 0.1051 - accuracy: 0.9713 - val_loss: 0.1200 - val_accuracy: 0.9673\n",
      "Epoch 39/50\n",
      "391/391 [==============================] - 4s 11ms/step - loss: 0.1027 - accuracy: 0.9718 - val_loss: 0.1186 - val_accuracy: 0.9677\n",
      "Epoch 40/50\n",
      "391/391 [==============================] - 4s 11ms/step - loss: 0.1006 - accuracy: 0.9722 - val_loss: 0.1175 - val_accuracy: 0.9680\n",
      "Epoch 41/50\n",
      "391/391 [==============================] - 4s 11ms/step - loss: 0.0985 - accuracy: 0.9729 - val_loss: 0.1163 - val_accuracy: 0.9691\n",
      "Epoch 42/50\n",
      "391/391 [==============================] - 4s 11ms/step - loss: 0.0966 - accuracy: 0.9736 - val_loss: 0.1131 - val_accuracy: 0.9673\n",
      "Epoch 43/50\n",
      "391/391 [==============================] - 4s 11ms/step - loss: 0.0946 - accuracy: 0.9739 - val_loss: 0.1126 - val_accuracy: 0.9686\n",
      "Epoch 44/50\n",
      "391/391 [==============================] - 4s 11ms/step - loss: 0.0927 - accuracy: 0.9745 - val_loss: 0.1111 - val_accuracy: 0.9693\n",
      "Epoch 45/50\n",
      "391/391 [==============================] - 4s 11ms/step - loss: 0.0908 - accuracy: 0.9752 - val_loss: 0.1100 - val_accuracy: 0.9691\n",
      "Epoch 46/50\n",
      "391/391 [==============================] - 5s 12ms/step - loss: 0.0890 - accuracy: 0.9758 - val_loss: 0.1104 - val_accuracy: 0.9688\n",
      "Epoch 47/50\n",
      "391/391 [==============================] - 5s 12ms/step - loss: 0.0873 - accuracy: 0.9763 - val_loss: 0.1089 - val_accuracy: 0.9686\n",
      "Epoch 48/50\n",
      "391/391 [==============================] - 5s 13ms/step - loss: 0.0856 - accuracy: 0.9763 - val_loss: 0.1063 - val_accuracy: 0.9703\n",
      "Epoch 49/50\n",
      "391/391 [==============================] - 4s 11ms/step - loss: 0.0840 - accuracy: 0.9770 - val_loss: 0.1053 - val_accuracy: 0.9698\n",
      "Epoch 50/50\n",
      "391/391 [==============================] - 4s 11ms/step - loss: 0.0824 - accuracy: 0.9776 - val_loss: 0.1052 - val_accuracy: 0.9706\n"
     ]
    }
   ],
   "source": [
    "# \n",
    "history = model.fit(\n",
    "    X_train,\n",
    "    y_train,\n",
    "    batch_size = 128,\n",
    "    epochs = 50,\n",
    "    validation_data = (X_val, y_val) # validation_split = 0.1\n",
    ")"
   ]
  },
  {
   "cell_type": "markdown",
   "metadata": {},
   "source": [
    "Podemos reentrenar el modelo. No empieza de nuevo, sino que retoma el entrenamiento anterior."
   ]
  },
  {
   "cell_type": "code",
   "execution_count": 32,
   "metadata": {},
   "outputs": [
    {
     "name": "stdout",
     "output_type": "stream",
     "text": [
      "Epoch 1/10\n",
      "782/782 [==============================] - 11s 14ms/step - loss: 0.0818 - accuracy: 0.9779 - val_loss: 0.1057 - val_accuracy: 0.9698\n",
      "Epoch 2/10\n",
      "782/782 [==============================] - 10s 12ms/step - loss: 0.0790 - accuracy: 0.9789 - val_loss: 0.1026 - val_accuracy: 0.9721\n",
      "Epoch 3/10\n",
      "782/782 [==============================] - 10s 12ms/step - loss: 0.0762 - accuracy: 0.9796 - val_loss: 0.1008 - val_accuracy: 0.9712\n",
      "Epoch 4/10\n",
      "782/782 [==============================] - 10s 13ms/step - loss: 0.0734 - accuracy: 0.9804 - val_loss: 0.0986 - val_accuracy: 0.9724\n",
      "Epoch 5/10\n",
      "782/782 [==============================] - 10s 13ms/step - loss: 0.0710 - accuracy: 0.9814 - val_loss: 0.0997 - val_accuracy: 0.9705\n",
      "Epoch 6/10\n",
      "782/782 [==============================] - 10s 12ms/step - loss: 0.0684 - accuracy: 0.9819 - val_loss: 0.0971 - val_accuracy: 0.9710\n",
      "Epoch 7/10\n",
      "782/782 [==============================] - 9s 11ms/step - loss: 0.0662 - accuracy: 0.9823 - val_loss: 0.0959 - val_accuracy: 0.9720\n",
      "Epoch 8/10\n",
      "782/782 [==============================] - 9s 11ms/step - loss: 0.0642 - accuracy: 0.9831 - val_loss: 0.0970 - val_accuracy: 0.9719\n",
      "Epoch 9/10\n",
      "782/782 [==============================] - 9s 11ms/step - loss: 0.0620 - accuracy: 0.9839 - val_loss: 0.0918 - val_accuracy: 0.9733\n",
      "Epoch 10/10\n",
      "782/782 [==============================] - 9s 11ms/step - loss: 0.0598 - accuracy: 0.9842 - val_loss: 0.0967 - val_accuracy: 0.9728\n"
     ]
    },
    {
     "data": {
      "text/plain": [
       "<keras.src.callbacks.History at 0x14003a390>"
      ]
     },
     "execution_count": 32,
     "metadata": {},
     "output_type": "execute_result"
    }
   ],
   "source": [
    "model.fit(\n",
    "    X_train,\n",
    "    y_train,\n",
    "    batch_size = 64,\n",
    "    epochs = 10,\n",
    "    validation_data = (X_val, y_val) # validation_split = 0.1\n",
    ")"
   ]
  },
  {
   "cell_type": "markdown",
   "metadata": {},
   "source": [
    "The training loss is quite low at 0.0598, indicating the model is fitting the training data well.\n",
    "\n",
    "**The training accuracy is high at 0.9842,** so the model is predicting the training labels accurately.\n",
    "\n",
    "**The validation loss of 0.0967** is higher than the training loss. This gap indicates some overfitting is occurring.\n",
    "\n",
    "The model is still performing quite well on the **validation set with 0.9728 accuracy**, but the drop from training accuracy shows overfitting.\n",
    "\n",
    "Overall, the model seems to be fitting the training data very well, but needs some regularization or tuning to generalize better to the validation data and avoid overfitting.\n",
    "\n",
    "Some things you could try are:\n",
    "\n",
    "Adding dropout layers to regularize the model\n",
    "Trying a smaller model with less capacity to overfit\n",
    "Doing data augmentation to expand the training data\n",
    "Reducing training epochs to avoid over-optimizing on the training data\n",
    "So in summary, the model is overfitting which is expected, but some techniques could help improve validation performance while maintaining good training accuracy. The high training accuracy indicates low bias, so focusing on regularization for high variance would help.\n",
    "\n",
    "\n",
    "\n"
   ]
  },
  {
   "cell_type": "markdown",
   "metadata": {},
   "source": [
    "Veamos el histórico del entrenamiento, para poder representarlo posteriormente."
   ]
  },
  {
   "cell_type": "code",
   "execution_count": 107,
   "metadata": {
    "collapsed": true,
    "jupyter": {
     "outputs_hidden": true
    },
    "tags": []
   },
   "outputs": [
    {
     "name": "stdout",
     "output_type": "stream",
     "text": [
      "{'verbose': 1, 'epochs': 20, 'steps': 363}\n",
      "[0, 1, 2, 3, 4, 5]\n"
     ]
    },
    {
     "data": {
      "text/plain": [
       "{'loss': [0.31771957874298096,\n",
       "  0.31946542859077454,\n",
       "  0.318808913230896,\n",
       "  0.3449883759021759,\n",
       "  0.32855361700057983,\n",
       "  0.32208824157714844],\n",
       " 'val_loss': [0.3402456045150757,\n",
       "  0.7006036043167114,\n",
       "  0.6078644394874573,\n",
       "  0.7966445088386536,\n",
       "  0.43870869278907776,\n",
       "  0.3419862985610962]}"
      ]
     },
     "execution_count": 107,
     "metadata": {},
     "output_type": "execute_result"
    }
   ],
   "source": [
    "print(history.params)\n",
    "print(history.epoch)\n",
    "history.history"
   ]
  },
  {
   "cell_type": "code",
   "execution_count": 34,
   "metadata": {},
   "outputs": [
    {
     "data": {
      "text/plain": [
       "{'loss': [1.2330968379974365,\n",
       "  0.512059211730957,\n",
       "  0.3954629600048065,\n",
       "  0.3456837236881256,\n",
       "  0.3154762387275696,\n",
       "  0.2936239540576935,\n",
       "  0.2761595845222473,\n",
       "  0.2615944445133209,\n",
       "  0.24905195832252502,\n",
       "  0.23805968463420868,\n",
       "  0.22810259461402893,\n",
       "  0.2190934419631958,\n",
       "  0.2106892168521881,\n",
       "  0.20303110778331757,\n",
       "  0.19597695767879486,\n",
       "  0.18938779830932617,\n",
       "  0.18302011489868164,\n",
       "  0.1774488091468811,\n",
       "  0.17158636450767517,\n",
       "  0.16640087962150574,\n",
       "  0.16150201857089996,\n",
       "  0.15699966251850128,\n",
       "  0.15225447714328766,\n",
       "  0.14814235270023346,\n",
       "  0.14401131868362427,\n",
       "  0.14034001529216766,\n",
       "  0.13661479949951172,\n",
       "  0.13305144011974335,\n",
       "  0.12980926036834717,\n",
       "  0.12659789621829987,\n",
       "  0.12353730201721191,\n",
       "  0.12059188634157181,\n",
       "  0.11785876005887985,\n",
       "  0.11503495275974274,\n",
       "  0.112479567527771,\n",
       "  0.10967199504375458,\n",
       "  0.10735592991113663,\n",
       "  0.1050608679652214,\n",
       "  0.10274162888526917,\n",
       "  0.10064034909009933,\n",
       "  0.098486989736557,\n",
       "  0.0965801253914833,\n",
       "  0.09461388736963272,\n",
       "  0.09267943352460861,\n",
       "  0.09076786041259766,\n",
       "  0.0889541283249855,\n",
       "  0.08725891262292862,\n",
       "  0.08560632169246674,\n",
       "  0.08397532999515533,\n",
       "  0.0824320912361145],\n",
       " 'accuracy': [0.6930199861526489,\n",
       "  0.868619978427887,\n",
       "  0.893339991569519,\n",
       "  0.9037399888038635,\n",
       "  0.9110400080680847,\n",
       "  0.9169800281524658,\n",
       "  0.9222400188446045,\n",
       "  0.9258999824523926,\n",
       "  0.9291999936103821,\n",
       "  0.9325600266456604,\n",
       "  0.9352200031280518,\n",
       "  0.9378399848937988,\n",
       "  0.9401999711990356,\n",
       "  0.9421399831771851,\n",
       "  0.9441999793052673,\n",
       "  0.9463199973106384,\n",
       "  0.9485800266265869,\n",
       "  0.9501000046730042,\n",
       "  0.9516400098800659,\n",
       "  0.952459990978241,\n",
       "  0.9543799757957458,\n",
       "  0.9556000232696533,\n",
       "  0.957360029220581,\n",
       "  0.9584199786186218,\n",
       "  0.9598000049591064,\n",
       "  0.9611200094223022,\n",
       "  0.961899995803833,\n",
       "  0.9630799889564514,\n",
       "  0.9638199806213379,\n",
       "  0.964680016040802,\n",
       "  0.9658399820327759,\n",
       "  0.9665200114250183,\n",
       "  0.9676399827003479,\n",
       "  0.9678400158882141,\n",
       "  0.9688000082969666,\n",
       "  0.9697999954223633,\n",
       "  0.9703400135040283,\n",
       "  0.9713199734687805,\n",
       "  0.9718400239944458,\n",
       "  0.9721800088882446,\n",
       "  0.9729200005531311,\n",
       "  0.973580002784729,\n",
       "  0.9738600254058838,\n",
       "  0.9745200276374817,\n",
       "  0.9751999974250793,\n",
       "  0.975820004940033,\n",
       "  0.9763399958610535,\n",
       "  0.9762600064277649,\n",
       "  0.9770399928092957,\n",
       "  0.977620005607605],\n",
       " 'val_loss': [0.5914443135261536,\n",
       "  0.39520153403282166,\n",
       "  0.332505464553833,\n",
       "  0.30009332299232483,\n",
       "  0.27843552827835083,\n",
       "  0.263681560754776,\n",
       "  0.24969731271266937,\n",
       "  0.23702318966388702,\n",
       "  0.22936950623989105,\n",
       "  0.2187252938747406,\n",
       "  0.2119191586971283,\n",
       "  0.20272135734558105,\n",
       "  0.19680768251419067,\n",
       "  0.19093357026576996,\n",
       "  0.18492338061332703,\n",
       "  0.17932982742786407,\n",
       "  0.17482824623584747,\n",
       "  0.17012520134449005,\n",
       "  0.16767367720603943,\n",
       "  0.1634354293346405,\n",
       "  0.15900343656539917,\n",
       "  0.15583060681819916,\n",
       "  0.15369486808776855,\n",
       "  0.14918050169944763,\n",
       "  0.14715634286403656,\n",
       "  0.14356693625450134,\n",
       "  0.1414368450641632,\n",
       "  0.1385086327791214,\n",
       "  0.13624441623687744,\n",
       "  0.13429665565490723,\n",
       "  0.13155600428581238,\n",
       "  0.1305442452430725,\n",
       "  0.12717792391777039,\n",
       "  0.125531405210495,\n",
       "  0.12433666735887527,\n",
       "  0.12543098628520966,\n",
       "  0.12275361269712448,\n",
       "  0.12004686146974564,\n",
       "  0.1186235323548317,\n",
       "  0.11751851439476013,\n",
       "  0.11633387207984924,\n",
       "  0.11314663290977478,\n",
       "  0.11257811635732651,\n",
       "  0.11113195866346359,\n",
       "  0.10997561365365982,\n",
       "  0.11039061099290848,\n",
       "  0.1089080348610878,\n",
       "  0.10632689297199249,\n",
       "  0.10531357675790787,\n",
       "  0.10515376925468445],\n",
       " 'val_accuracy': [0.8652999997138977,\n",
       "  0.8955000042915344,\n",
       "  0.909600019454956,\n",
       "  0.9178000092506409,\n",
       "  0.9222000241279602,\n",
       "  0.9251000285148621,\n",
       "  0.9282000064849854,\n",
       "  0.9343000054359436,\n",
       "  0.9355999827384949,\n",
       "  0.9386000037193298,\n",
       "  0.9409000277519226,\n",
       "  0.9453999996185303,\n",
       "  0.9473999738693237,\n",
       "  0.9484999775886536,\n",
       "  0.9510999917984009,\n",
       "  0.9516000151634216,\n",
       "  0.9521999955177307,\n",
       "  0.9538000226020813,\n",
       "  0.9546999931335449,\n",
       "  0.9556999802589417,\n",
       "  0.9556999802589417,\n",
       "  0.9573000073432922,\n",
       "  0.9581999778747559,\n",
       "  0.9581999778747559,\n",
       "  0.9584000110626221,\n",
       "  0.9613999724388123,\n",
       "  0.9616000056266785,\n",
       "  0.9617000222206116,\n",
       "  0.9627000093460083,\n",
       "  0.9632999897003174,\n",
       "  0.9634000062942505,\n",
       "  0.9646999835968018,\n",
       "  0.9643999934196472,\n",
       "  0.9660000205039978,\n",
       "  0.9659000039100647,\n",
       "  0.9660000205039978,\n",
       "  0.9661999940872192,\n",
       "  0.9672999978065491,\n",
       "  0.9677000045776367,\n",
       "  0.9679999947547913,\n",
       "  0.9690999984741211,\n",
       "  0.9672999978065491,\n",
       "  0.9685999751091003,\n",
       "  0.9692999720573425,\n",
       "  0.9690999984741211,\n",
       "  0.9688000082969666,\n",
       "  0.9685999751091003,\n",
       "  0.970300018787384,\n",
       "  0.9697999954223633,\n",
       "  0.9706000089645386]}"
      ]
     },
     "execution_count": 34,
     "metadata": {},
     "output_type": "execute_result"
    }
   ],
   "source": [
    "history.history"
   ]
  },
  {
   "cell_type": "code",
   "execution_count": 35,
   "metadata": {},
   "outputs": [
    {
     "data": {
      "text/plain": [
       "dict_keys(['loss', 'accuracy', 'val_loss', 'val_accuracy'])"
      ]
     },
     "execution_count": 35,
     "metadata": {},
     "output_type": "execute_result"
    }
   ],
   "source": [
    "history.history.keys()"
   ]
  },
  {
   "cell_type": "code",
   "execution_count": 36,
   "metadata": {},
   "outputs": [
    {
     "data": {
      "text/html": [
       "<div>\n",
       "<style scoped>\n",
       "    .dataframe tbody tr th:only-of-type {\n",
       "        vertical-align: middle;\n",
       "    }\n",
       "\n",
       "    .dataframe tbody tr th {\n",
       "        vertical-align: top;\n",
       "    }\n",
       "\n",
       "    .dataframe thead th {\n",
       "        text-align: right;\n",
       "    }\n",
       "</style>\n",
       "<table border=\"1\" class=\"dataframe\">\n",
       "  <thead>\n",
       "    <tr style=\"text-align: right;\">\n",
       "      <th></th>\n",
       "      <th>loss</th>\n",
       "      <th>accuracy</th>\n",
       "      <th>val_loss</th>\n",
       "      <th>val_accuracy</th>\n",
       "    </tr>\n",
       "  </thead>\n",
       "  <tbody>\n",
       "    <tr>\n",
       "      <th>0</th>\n",
       "      <td>1.233097</td>\n",
       "      <td>0.69302</td>\n",
       "      <td>0.591444</td>\n",
       "      <td>0.8653</td>\n",
       "    </tr>\n",
       "    <tr>\n",
       "      <th>1</th>\n",
       "      <td>0.512059</td>\n",
       "      <td>0.86862</td>\n",
       "      <td>0.395202</td>\n",
       "      <td>0.8955</td>\n",
       "    </tr>\n",
       "    <tr>\n",
       "      <th>2</th>\n",
       "      <td>0.395463</td>\n",
       "      <td>0.89334</td>\n",
       "      <td>0.332505</td>\n",
       "      <td>0.9096</td>\n",
       "    </tr>\n",
       "    <tr>\n",
       "      <th>3</th>\n",
       "      <td>0.345684</td>\n",
       "      <td>0.90374</td>\n",
       "      <td>0.300093</td>\n",
       "      <td>0.9178</td>\n",
       "    </tr>\n",
       "    <tr>\n",
       "      <th>4</th>\n",
       "      <td>0.315476</td>\n",
       "      <td>0.91104</td>\n",
       "      <td>0.278436</td>\n",
       "      <td>0.9222</td>\n",
       "    </tr>\n",
       "    <tr>\n",
       "      <th>5</th>\n",
       "      <td>0.293624</td>\n",
       "      <td>0.91698</td>\n",
       "      <td>0.263682</td>\n",
       "      <td>0.9251</td>\n",
       "    </tr>\n",
       "    <tr>\n",
       "      <th>6</th>\n",
       "      <td>0.276160</td>\n",
       "      <td>0.92224</td>\n",
       "      <td>0.249697</td>\n",
       "      <td>0.9282</td>\n",
       "    </tr>\n",
       "    <tr>\n",
       "      <th>7</th>\n",
       "      <td>0.261594</td>\n",
       "      <td>0.92590</td>\n",
       "      <td>0.237023</td>\n",
       "      <td>0.9343</td>\n",
       "    </tr>\n",
       "    <tr>\n",
       "      <th>8</th>\n",
       "      <td>0.249052</td>\n",
       "      <td>0.92920</td>\n",
       "      <td>0.229370</td>\n",
       "      <td>0.9356</td>\n",
       "    </tr>\n",
       "    <tr>\n",
       "      <th>9</th>\n",
       "      <td>0.238060</td>\n",
       "      <td>0.93256</td>\n",
       "      <td>0.218725</td>\n",
       "      <td>0.9386</td>\n",
       "    </tr>\n",
       "    <tr>\n",
       "      <th>10</th>\n",
       "      <td>0.228103</td>\n",
       "      <td>0.93522</td>\n",
       "      <td>0.211919</td>\n",
       "      <td>0.9409</td>\n",
       "    </tr>\n",
       "    <tr>\n",
       "      <th>11</th>\n",
       "      <td>0.219093</td>\n",
       "      <td>0.93784</td>\n",
       "      <td>0.202721</td>\n",
       "      <td>0.9454</td>\n",
       "    </tr>\n",
       "    <tr>\n",
       "      <th>12</th>\n",
       "      <td>0.210689</td>\n",
       "      <td>0.94020</td>\n",
       "      <td>0.196808</td>\n",
       "      <td>0.9474</td>\n",
       "    </tr>\n",
       "    <tr>\n",
       "      <th>13</th>\n",
       "      <td>0.203031</td>\n",
       "      <td>0.94214</td>\n",
       "      <td>0.190934</td>\n",
       "      <td>0.9485</td>\n",
       "    </tr>\n",
       "    <tr>\n",
       "      <th>14</th>\n",
       "      <td>0.195977</td>\n",
       "      <td>0.94420</td>\n",
       "      <td>0.184923</td>\n",
       "      <td>0.9511</td>\n",
       "    </tr>\n",
       "    <tr>\n",
       "      <th>15</th>\n",
       "      <td>0.189388</td>\n",
       "      <td>0.94632</td>\n",
       "      <td>0.179330</td>\n",
       "      <td>0.9516</td>\n",
       "    </tr>\n",
       "    <tr>\n",
       "      <th>16</th>\n",
       "      <td>0.183020</td>\n",
       "      <td>0.94858</td>\n",
       "      <td>0.174828</td>\n",
       "      <td>0.9522</td>\n",
       "    </tr>\n",
       "    <tr>\n",
       "      <th>17</th>\n",
       "      <td>0.177449</td>\n",
       "      <td>0.95010</td>\n",
       "      <td>0.170125</td>\n",
       "      <td>0.9538</td>\n",
       "    </tr>\n",
       "    <tr>\n",
       "      <th>18</th>\n",
       "      <td>0.171586</td>\n",
       "      <td>0.95164</td>\n",
       "      <td>0.167674</td>\n",
       "      <td>0.9547</td>\n",
       "    </tr>\n",
       "    <tr>\n",
       "      <th>19</th>\n",
       "      <td>0.166401</td>\n",
       "      <td>0.95246</td>\n",
       "      <td>0.163435</td>\n",
       "      <td>0.9557</td>\n",
       "    </tr>\n",
       "    <tr>\n",
       "      <th>20</th>\n",
       "      <td>0.161502</td>\n",
       "      <td>0.95438</td>\n",
       "      <td>0.159003</td>\n",
       "      <td>0.9557</td>\n",
       "    </tr>\n",
       "    <tr>\n",
       "      <th>21</th>\n",
       "      <td>0.157000</td>\n",
       "      <td>0.95560</td>\n",
       "      <td>0.155831</td>\n",
       "      <td>0.9573</td>\n",
       "    </tr>\n",
       "    <tr>\n",
       "      <th>22</th>\n",
       "      <td>0.152254</td>\n",
       "      <td>0.95736</td>\n",
       "      <td>0.153695</td>\n",
       "      <td>0.9582</td>\n",
       "    </tr>\n",
       "    <tr>\n",
       "      <th>23</th>\n",
       "      <td>0.148142</td>\n",
       "      <td>0.95842</td>\n",
       "      <td>0.149181</td>\n",
       "      <td>0.9582</td>\n",
       "    </tr>\n",
       "    <tr>\n",
       "      <th>24</th>\n",
       "      <td>0.144011</td>\n",
       "      <td>0.95980</td>\n",
       "      <td>0.147156</td>\n",
       "      <td>0.9584</td>\n",
       "    </tr>\n",
       "    <tr>\n",
       "      <th>25</th>\n",
       "      <td>0.140340</td>\n",
       "      <td>0.96112</td>\n",
       "      <td>0.143567</td>\n",
       "      <td>0.9614</td>\n",
       "    </tr>\n",
       "    <tr>\n",
       "      <th>26</th>\n",
       "      <td>0.136615</td>\n",
       "      <td>0.96190</td>\n",
       "      <td>0.141437</td>\n",
       "      <td>0.9616</td>\n",
       "    </tr>\n",
       "    <tr>\n",
       "      <th>27</th>\n",
       "      <td>0.133051</td>\n",
       "      <td>0.96308</td>\n",
       "      <td>0.138509</td>\n",
       "      <td>0.9617</td>\n",
       "    </tr>\n",
       "    <tr>\n",
       "      <th>28</th>\n",
       "      <td>0.129809</td>\n",
       "      <td>0.96382</td>\n",
       "      <td>0.136244</td>\n",
       "      <td>0.9627</td>\n",
       "    </tr>\n",
       "    <tr>\n",
       "      <th>29</th>\n",
       "      <td>0.126598</td>\n",
       "      <td>0.96468</td>\n",
       "      <td>0.134297</td>\n",
       "      <td>0.9633</td>\n",
       "    </tr>\n",
       "    <tr>\n",
       "      <th>30</th>\n",
       "      <td>0.123537</td>\n",
       "      <td>0.96584</td>\n",
       "      <td>0.131556</td>\n",
       "      <td>0.9634</td>\n",
       "    </tr>\n",
       "    <tr>\n",
       "      <th>31</th>\n",
       "      <td>0.120592</td>\n",
       "      <td>0.96652</td>\n",
       "      <td>0.130544</td>\n",
       "      <td>0.9647</td>\n",
       "    </tr>\n",
       "    <tr>\n",
       "      <th>32</th>\n",
       "      <td>0.117859</td>\n",
       "      <td>0.96764</td>\n",
       "      <td>0.127178</td>\n",
       "      <td>0.9644</td>\n",
       "    </tr>\n",
       "    <tr>\n",
       "      <th>33</th>\n",
       "      <td>0.115035</td>\n",
       "      <td>0.96784</td>\n",
       "      <td>0.125531</td>\n",
       "      <td>0.9660</td>\n",
       "    </tr>\n",
       "    <tr>\n",
       "      <th>34</th>\n",
       "      <td>0.112480</td>\n",
       "      <td>0.96880</td>\n",
       "      <td>0.124337</td>\n",
       "      <td>0.9659</td>\n",
       "    </tr>\n",
       "    <tr>\n",
       "      <th>35</th>\n",
       "      <td>0.109672</td>\n",
       "      <td>0.96980</td>\n",
       "      <td>0.125431</td>\n",
       "      <td>0.9660</td>\n",
       "    </tr>\n",
       "    <tr>\n",
       "      <th>36</th>\n",
       "      <td>0.107356</td>\n",
       "      <td>0.97034</td>\n",
       "      <td>0.122754</td>\n",
       "      <td>0.9662</td>\n",
       "    </tr>\n",
       "    <tr>\n",
       "      <th>37</th>\n",
       "      <td>0.105061</td>\n",
       "      <td>0.97132</td>\n",
       "      <td>0.120047</td>\n",
       "      <td>0.9673</td>\n",
       "    </tr>\n",
       "    <tr>\n",
       "      <th>38</th>\n",
       "      <td>0.102742</td>\n",
       "      <td>0.97184</td>\n",
       "      <td>0.118624</td>\n",
       "      <td>0.9677</td>\n",
       "    </tr>\n",
       "    <tr>\n",
       "      <th>39</th>\n",
       "      <td>0.100640</td>\n",
       "      <td>0.97218</td>\n",
       "      <td>0.117519</td>\n",
       "      <td>0.9680</td>\n",
       "    </tr>\n",
       "    <tr>\n",
       "      <th>40</th>\n",
       "      <td>0.098487</td>\n",
       "      <td>0.97292</td>\n",
       "      <td>0.116334</td>\n",
       "      <td>0.9691</td>\n",
       "    </tr>\n",
       "    <tr>\n",
       "      <th>41</th>\n",
       "      <td>0.096580</td>\n",
       "      <td>0.97358</td>\n",
       "      <td>0.113147</td>\n",
       "      <td>0.9673</td>\n",
       "    </tr>\n",
       "    <tr>\n",
       "      <th>42</th>\n",
       "      <td>0.094614</td>\n",
       "      <td>0.97386</td>\n",
       "      <td>0.112578</td>\n",
       "      <td>0.9686</td>\n",
       "    </tr>\n",
       "    <tr>\n",
       "      <th>43</th>\n",
       "      <td>0.092679</td>\n",
       "      <td>0.97452</td>\n",
       "      <td>0.111132</td>\n",
       "      <td>0.9693</td>\n",
       "    </tr>\n",
       "    <tr>\n",
       "      <th>44</th>\n",
       "      <td>0.090768</td>\n",
       "      <td>0.97520</td>\n",
       "      <td>0.109976</td>\n",
       "      <td>0.9691</td>\n",
       "    </tr>\n",
       "    <tr>\n",
       "      <th>45</th>\n",
       "      <td>0.088954</td>\n",
       "      <td>0.97582</td>\n",
       "      <td>0.110391</td>\n",
       "      <td>0.9688</td>\n",
       "    </tr>\n",
       "    <tr>\n",
       "      <th>46</th>\n",
       "      <td>0.087259</td>\n",
       "      <td>0.97634</td>\n",
       "      <td>0.108908</td>\n",
       "      <td>0.9686</td>\n",
       "    </tr>\n",
       "    <tr>\n",
       "      <th>47</th>\n",
       "      <td>0.085606</td>\n",
       "      <td>0.97626</td>\n",
       "      <td>0.106327</td>\n",
       "      <td>0.9703</td>\n",
       "    </tr>\n",
       "    <tr>\n",
       "      <th>48</th>\n",
       "      <td>0.083975</td>\n",
       "      <td>0.97704</td>\n",
       "      <td>0.105314</td>\n",
       "      <td>0.9698</td>\n",
       "    </tr>\n",
       "    <tr>\n",
       "      <th>49</th>\n",
       "      <td>0.082432</td>\n",
       "      <td>0.97762</td>\n",
       "      <td>0.105154</td>\n",
       "      <td>0.9706</td>\n",
       "    </tr>\n",
       "  </tbody>\n",
       "</table>\n",
       "</div>"
      ],
      "text/plain": [
       "        loss  accuracy  val_loss  val_accuracy\n",
       "0   1.233097   0.69302  0.591444        0.8653\n",
       "1   0.512059   0.86862  0.395202        0.8955\n",
       "2   0.395463   0.89334  0.332505        0.9096\n",
       "3   0.345684   0.90374  0.300093        0.9178\n",
       "4   0.315476   0.91104  0.278436        0.9222\n",
       "5   0.293624   0.91698  0.263682        0.9251\n",
       "6   0.276160   0.92224  0.249697        0.9282\n",
       "7   0.261594   0.92590  0.237023        0.9343\n",
       "8   0.249052   0.92920  0.229370        0.9356\n",
       "9   0.238060   0.93256  0.218725        0.9386\n",
       "10  0.228103   0.93522  0.211919        0.9409\n",
       "11  0.219093   0.93784  0.202721        0.9454\n",
       "12  0.210689   0.94020  0.196808        0.9474\n",
       "13  0.203031   0.94214  0.190934        0.9485\n",
       "14  0.195977   0.94420  0.184923        0.9511\n",
       "15  0.189388   0.94632  0.179330        0.9516\n",
       "16  0.183020   0.94858  0.174828        0.9522\n",
       "17  0.177449   0.95010  0.170125        0.9538\n",
       "18  0.171586   0.95164  0.167674        0.9547\n",
       "19  0.166401   0.95246  0.163435        0.9557\n",
       "20  0.161502   0.95438  0.159003        0.9557\n",
       "21  0.157000   0.95560  0.155831        0.9573\n",
       "22  0.152254   0.95736  0.153695        0.9582\n",
       "23  0.148142   0.95842  0.149181        0.9582\n",
       "24  0.144011   0.95980  0.147156        0.9584\n",
       "25  0.140340   0.96112  0.143567        0.9614\n",
       "26  0.136615   0.96190  0.141437        0.9616\n",
       "27  0.133051   0.96308  0.138509        0.9617\n",
       "28  0.129809   0.96382  0.136244        0.9627\n",
       "29  0.126598   0.96468  0.134297        0.9633\n",
       "30  0.123537   0.96584  0.131556        0.9634\n",
       "31  0.120592   0.96652  0.130544        0.9647\n",
       "32  0.117859   0.96764  0.127178        0.9644\n",
       "33  0.115035   0.96784  0.125531        0.9660\n",
       "34  0.112480   0.96880  0.124337        0.9659\n",
       "35  0.109672   0.96980  0.125431        0.9660\n",
       "36  0.107356   0.97034  0.122754        0.9662\n",
       "37  0.105061   0.97132  0.120047        0.9673\n",
       "38  0.102742   0.97184  0.118624        0.9677\n",
       "39  0.100640   0.97218  0.117519        0.9680\n",
       "40  0.098487   0.97292  0.116334        0.9691\n",
       "41  0.096580   0.97358  0.113147        0.9673\n",
       "42  0.094614   0.97386  0.112578        0.9686\n",
       "43  0.092679   0.97452  0.111132        0.9693\n",
       "44  0.090768   0.97520  0.109976        0.9691\n",
       "45  0.088954   0.97582  0.110391        0.9688\n",
       "46  0.087259   0.97634  0.108908        0.9686\n",
       "47  0.085606   0.97626  0.106327        0.9703\n",
       "48  0.083975   0.97704  0.105314        0.9698\n",
       "49  0.082432   0.97762  0.105154        0.9706"
      ]
     },
     "execution_count": 36,
     "metadata": {},
     "output_type": "execute_result"
    }
   ],
   "source": [
    "pd.DataFrame(history.history)"
   ]
  },
  {
   "cell_type": "code",
   "execution_count": 106,
   "metadata": {},
   "outputs": [
    {
     "data": {
      "image/png": "[encoded data removed]",
      "text/plain": [
       "<Figure size 800x500 with 1 Axes>"
      ]
     },
     "metadata": {},
     "output_type": "display_data"
    }
   ],
   "source": [
    "import pandas as pd\n",
    "import matplotlib.pyplot as plt\n",
    "\n",
    "pd.DataFrame(history.history).plot(figsize=(8, 5))\n",
    "plt.grid(True)\n",
    "plt.gca().set_ylim(0, 1) # set the vertical range to [0-1]\n",
    "plt.show()"
   ]
  },
  {
   "cell_type": "markdown",
   "metadata": {},
   "source": [
    "Si el modelo no ha ido bien, prueba a cambiar el learning rate, cambia de optimizador y después prueba a cambiar capas, neuronas y funciones de activación.\n",
    "\n",
    "Ya tenemos el modelo entrenado. Probémoslo con test"
   ]
  },
  {
   "cell_type": "code",
   "execution_count": 38,
   "metadata": {
    "tags": []
   },
   "outputs": [
    {
     "name": "stdout",
     "output_type": "stream",
     "text": [
      "313/313 [==============================] - 2s 7ms/step - loss: 0.0951 - accuracy: 0.9716\n"
     ]
    },
    {
     "data": {
      "text/plain": [
       "[0.09512048959732056, 0.9715999960899353]"
      ]
     },
     "execution_count": 38,
     "metadata": {},
     "output_type": "execute_result"
    }
   ],
   "source": [
    "results = model.evaluate(X_test, y_test)\n",
    "results"
   ]
  },
  {
   "cell_type": "code",
   "execution_count": 40,
   "metadata": {
    "collapsed": true,
    "jupyter": {
     "outputs_hidden": true
    },
    "tags": []
   },
   "outputs": [
    {
     "ename": "SyntaxError",
     "evalue": "incomplete input (1473442946.py, line 2)",
     "output_type": "error",
     "traceback": [
      "\u001b[0;36m  Cell \u001b[0;32mIn[40], line 2\u001b[0;36m\u001b[0m\n\u001b[0;31m    plt.imshow(X_test[0].reshape(28,28), cmap=plt.colormaps.get_cmap\u001b[0m\n\u001b[0m                                                                    ^\u001b[0m\n\u001b[0;31mSyntaxError\u001b[0m\u001b[0;31m:\u001b[0m incomplete input\n"
     ]
    }
   ],
   "source": [
    "# Cogemos el primero\n",
    "plt.imshow(X_test[0].reshape(28,28), cmap=plt.colormaps.get_cmap "
   ]
  },
  {
   "cell_type": "code",
   "execution_count": 41,
   "metadata": {},
   "outputs": [
    {
     "data": {
      "text/plain": [
       "array([[[0.        , 0.        , 0.        , 0.        , 0.        ,\n",
       "         0.        , 0.        , 0.        , 0.        , 0.        ,\n",
       "         0.        , 0.        , 0.        , 0.        , 0.        ,\n",
       "         0.        , 0.        , 0.        , 0.        , 0.        ,\n",
       "         0.        , 0.        , 0.        , 0.        , 0.        ,\n",
       "         0.        , 0.        , 0.        ],\n",
       "        [0.        , 0.        , 0.        , 0.        , 0.        ,\n",
       "         0.        , 0.        , 0.        , 0.        , 0.        ,\n",
       "         0.        , 0.        , 0.        , 0.        , 0.        ,\n",
       "         0.        , 0.        , 0.        , 0.        , 0.        ,\n",
       "         0.        , 0.        , 0.        , 0.        , 0.        ,\n",
       "         0.        , 0.        , 0.        ],\n",
       "        [0.        , 0.        , 0.        , 0.        , 0.        ,\n",
       "         0.        , 0.        , 0.        , 0.        , 0.        ,\n",
       "         0.        , 0.        , 0.        , 0.        , 0.        ,\n",
       "         0.        , 0.        , 0.        , 0.        , 0.        ,\n",
       "         0.        , 0.        , 0.        , 0.        , 0.        ,\n",
       "         0.        , 0.        , 0.        ],\n",
       "        [0.        , 0.        , 0.        , 0.        , 0.        ,\n",
       "         0.        , 0.        , 0.        , 0.        , 0.        ,\n",
       "         0.        , 0.        , 0.        , 0.        , 0.        ,\n",
       "         0.        , 0.        , 0.        , 0.        , 0.        ,\n",
       "         0.        , 0.        , 0.        , 0.        , 0.        ,\n",
       "         0.        , 0.        , 0.        ],\n",
       "        [0.        , 0.        , 0.        , 0.        , 0.        ,\n",
       "         0.        , 0.        , 0.        , 0.        , 0.        ,\n",
       "         0.        , 0.        , 0.        , 0.        , 0.        ,\n",
       "         0.        , 0.        , 0.        , 0.        , 0.        ,\n",
       "         0.        , 0.        , 0.        , 0.        , 0.        ,\n",
       "         0.        , 0.        , 0.        ],\n",
       "        [0.        , 0.        , 0.        , 0.        , 0.        ,\n",
       "         0.        , 0.        , 0.        , 0.        , 0.        ,\n",
       "         0.        , 0.        , 0.        , 0.        , 0.        ,\n",
       "         0.        , 0.        , 0.        , 0.        , 0.        ,\n",
       "         0.        , 0.        , 0.        , 0.        , 0.        ,\n",
       "         0.        , 0.        , 0.        ],\n",
       "        [0.        , 0.        , 0.        , 0.        , 0.        ,\n",
       "         0.        , 0.        , 0.        , 0.        , 0.        ,\n",
       "         0.        , 0.        , 0.        , 0.        , 0.        ,\n",
       "         0.        , 0.        , 0.        , 0.        , 0.        ,\n",
       "         0.        , 0.        , 0.        , 0.        , 0.        ,\n",
       "         0.        , 0.        , 0.        ],\n",
       "        [0.        , 0.        , 0.        , 0.        , 0.        ,\n",
       "         0.        , 0.32941177, 0.7254902 , 0.62352943, 0.5921569 ,\n",
       "         0.23529412, 0.14117648, 0.        , 0.        , 0.        ,\n",
       "         0.        , 0.        , 0.        , 0.        , 0.        ,\n",
       "         0.        , 0.        , 0.        , 0.        , 0.        ,\n",
       "         0.        , 0.        , 0.        ],\n",
       "        [0.        , 0.        , 0.        , 0.        , 0.        ,\n",
       "         0.        , 0.87058824, 0.99607843, 0.99607843, 0.99607843,\n",
       "         0.99607843, 0.94509804, 0.7764706 , 0.7764706 , 0.7764706 ,\n",
       "         0.7764706 , 0.7764706 , 0.7764706 , 0.7764706 , 0.7764706 ,\n",
       "         0.6666667 , 0.20392157, 0.        , 0.        , 0.        ,\n",
       "         0.        , 0.        , 0.        ],\n",
       "        [0.        , 0.        , 0.        , 0.        , 0.        ,\n",
       "         0.        , 0.2627451 , 0.44705883, 0.28235295, 0.44705883,\n",
       "         0.6392157 , 0.8901961 , 0.99607843, 0.88235295, 0.99607843,\n",
       "         0.99607843, 0.99607843, 0.98039216, 0.8980392 , 0.99607843,\n",
       "         0.99607843, 0.54901963, 0.        , 0.        , 0.        ,\n",
       "         0.        , 0.        , 0.        ],\n",
       "        [0.        , 0.        , 0.        , 0.        , 0.        ,\n",
       "         0.        , 0.        , 0.        , 0.        , 0.        ,\n",
       "         0.        , 0.06666667, 0.25882354, 0.05490196, 0.2627451 ,\n",
       "         0.2627451 , 0.2627451 , 0.23137255, 0.08235294, 0.9254902 ,\n",
       "         0.99607843, 0.41568628, 0.        , 0.        , 0.        ,\n",
       "         0.        , 0.        , 0.        ],\n",
       "        [0.        , 0.        , 0.        , 0.        , 0.        ,\n",
       "         0.        , 0.        , 0.        , 0.        , 0.        ,\n",
       "         0.        , 0.        , 0.        , 0.        , 0.        ,\n",
       "         0.        , 0.        , 0.        , 0.3254902 , 0.99215686,\n",
       "         0.81960785, 0.07058824, 0.        , 0.        , 0.        ,\n",
       "         0.        , 0.        , 0.        ],\n",
       "        [0.        , 0.        , 0.        , 0.        , 0.        ,\n",
       "         0.        , 0.        , 0.        , 0.        , 0.        ,\n",
       "         0.        , 0.        , 0.        , 0.        , 0.        ,\n",
       "         0.        , 0.        , 0.08627451, 0.9137255 , 1.        ,\n",
       "         0.3254902 , 0.        , 0.        , 0.        , 0.        ,\n",
       "         0.        , 0.        , 0.        ],\n",
       "        [0.        , 0.        , 0.        , 0.        , 0.        ,\n",
       "         0.        , 0.        , 0.        , 0.        , 0.        ,\n",
       "         0.        , 0.        , 0.        , 0.        , 0.        ,\n",
       "         0.        , 0.        , 0.5058824 , 0.99607843, 0.93333334,\n",
       "         0.17254902, 0.        , 0.        , 0.        , 0.        ,\n",
       "         0.        , 0.        , 0.        ],\n",
       "        [0.        , 0.        , 0.        , 0.        , 0.        ,\n",
       "         0.        , 0.        , 0.        , 0.        , 0.        ,\n",
       "         0.        , 0.        , 0.        , 0.        , 0.        ,\n",
       "         0.        , 0.23137255, 0.9764706 , 0.99607843, 0.24313726,\n",
       "         0.        , 0.        , 0.        , 0.        , 0.        ,\n",
       "         0.        , 0.        , 0.        ],\n",
       "        [0.        , 0.        , 0.        , 0.        , 0.        ,\n",
       "         0.        , 0.        , 0.        , 0.        , 0.        ,\n",
       "         0.        , 0.        , 0.        , 0.        , 0.        ,\n",
       "         0.        , 0.52156866, 0.99607843, 0.73333335, 0.01960784,\n",
       "         0.        , 0.        , 0.        , 0.        , 0.        ,\n",
       "         0.        , 0.        , 0.        ],\n",
       "        [0.        , 0.        , 0.        , 0.        , 0.        ,\n",
       "         0.        , 0.        , 0.        , 0.        , 0.        ,\n",
       "         0.        , 0.        , 0.        , 0.        , 0.        ,\n",
       "         0.03529412, 0.8039216 , 0.972549  , 0.22745098, 0.        ,\n",
       "         0.        , 0.        , 0.        , 0.        , 0.        ,\n",
       "         0.        , 0.        , 0.        ],\n",
       "        [0.        , 0.        , 0.        , 0.        , 0.        ,\n",
       "         0.        , 0.        , 0.        , 0.        , 0.        ,\n",
       "         0.        , 0.        , 0.        , 0.        , 0.        ,\n",
       "         0.49411765, 0.99607843, 0.7137255 , 0.        , 0.        ,\n",
       "         0.        , 0.        , 0.        , 0.        , 0.        ,\n",
       "         0.        , 0.        , 0.        ],\n",
       "        [0.        , 0.        , 0.        , 0.        , 0.        ,\n",
       "         0.        , 0.        , 0.        , 0.        , 0.        ,\n",
       "         0.        , 0.        , 0.        , 0.        , 0.29411766,\n",
       "         0.9843137 , 0.9411765 , 0.22352941, 0.        , 0.        ,\n",
       "         0.        , 0.        , 0.        , 0.        , 0.        ,\n",
       "         0.        , 0.        , 0.        ],\n",
       "        [0.        , 0.        , 0.        , 0.        , 0.        ,\n",
       "         0.        , 0.        , 0.        , 0.        , 0.        ,\n",
       "         0.        , 0.        , 0.        , 0.07450981, 0.8666667 ,\n",
       "         0.99607843, 0.6509804 , 0.        , 0.        , 0.        ,\n",
       "         0.        , 0.        , 0.        , 0.        , 0.        ,\n",
       "         0.        , 0.        , 0.        ],\n",
       "        [0.        , 0.        , 0.        , 0.        , 0.        ,\n",
       "         0.        , 0.        , 0.        , 0.        , 0.        ,\n",
       "         0.        , 0.        , 0.01176471, 0.79607844, 0.99607843,\n",
       "         0.85882354, 0.13725491, 0.        , 0.        , 0.        ,\n",
       "         0.        , 0.        , 0.        , 0.        , 0.        ,\n",
       "         0.        , 0.        , 0.        ],\n",
       "        [0.        , 0.        , 0.        , 0.        , 0.        ,\n",
       "         0.        , 0.        , 0.        , 0.        , 0.        ,\n",
       "         0.        , 0.        , 0.14901961, 0.99607843, 0.99607843,\n",
       "         0.3019608 , 0.        , 0.        , 0.        , 0.        ,\n",
       "         0.        , 0.        , 0.        , 0.        , 0.        ,\n",
       "         0.        , 0.        , 0.        ],\n",
       "        [0.        , 0.        , 0.        , 0.        , 0.        ,\n",
       "         0.        , 0.        , 0.        , 0.        , 0.        ,\n",
       "         0.        , 0.12156863, 0.8784314 , 0.99607843, 0.4509804 ,\n",
       "         0.00392157, 0.        , 0.        , 0.        , 0.        ,\n",
       "         0.        , 0.        , 0.        , 0.        , 0.        ,\n",
       "         0.        , 0.        , 0.        ],\n",
       "        [0.        , 0.        , 0.        , 0.        , 0.        ,\n",
       "         0.        , 0.        , 0.        , 0.        , 0.        ,\n",
       "         0.        , 0.52156866, 0.99607843, 0.99607843, 0.20392157,\n",
       "         0.        , 0.        , 0.        , 0.        , 0.        ,\n",
       "         0.        , 0.        , 0.        , 0.        , 0.        ,\n",
       "         0.        , 0.        , 0.        ],\n",
       "        [0.        , 0.        , 0.        , 0.        , 0.        ,\n",
       "         0.        , 0.        , 0.        , 0.        , 0.        ,\n",
       "         0.23921569, 0.9490196 , 0.99607843, 0.99607843, 0.20392157,\n",
       "         0.        , 0.        , 0.        , 0.        , 0.        ,\n",
       "         0.        , 0.        , 0.        , 0.        , 0.        ,\n",
       "         0.        , 0.        , 0.        ],\n",
       "        [0.        , 0.        , 0.        , 0.        , 0.        ,\n",
       "         0.        , 0.        , 0.        , 0.        , 0.        ,\n",
       "         0.4745098 , 0.99607843, 0.99607843, 0.85882354, 0.15686275,\n",
       "         0.        , 0.        , 0.        , 0.        , 0.        ,\n",
       "         0.        , 0.        , 0.        , 0.        , 0.        ,\n",
       "         0.        , 0.        , 0.        ],\n",
       "        [0.        , 0.        , 0.        , 0.        , 0.        ,\n",
       "         0.        , 0.        , 0.        , 0.        , 0.        ,\n",
       "         0.4745098 , 0.99607843, 0.8117647 , 0.07058824, 0.        ,\n",
       "         0.        , 0.        , 0.        , 0.        , 0.        ,\n",
       "         0.        , 0.        , 0.        , 0.        , 0.        ,\n",
       "         0.        , 0.        , 0.        ],\n",
       "        [0.        , 0.        , 0.        , 0.        , 0.        ,\n",
       "         0.        , 0.        , 0.        , 0.        , 0.        ,\n",
       "         0.        , 0.        , 0.        , 0.        , 0.        ,\n",
       "         0.        , 0.        , 0.        , 0.        , 0.        ,\n",
       "         0.        , 0.        , 0.        , 0.        , 0.        ,\n",
       "         0.        , 0.        , 0.        ]]], dtype=float32)"
      ]
     },
     "execution_count": 41,
     "metadata": {},
     "output_type": "execute_result"
    }
   ],
   "source": [
    "X_test[:1]"
   ]
  },
  {
   "cell_type": "code",
   "execution_count": 42,
   "metadata": {
    "tags": []
   },
   "outputs": [
    {
     "name": "stdout",
     "output_type": "stream",
     "text": [
      "1/1 [==============================] - 0s 404ms/step\n",
      "(1, 10)\n"
     ]
    },
    {
     "data": {
      "text/plain": [
       "array([[0.   , 0.   , 0.   , 0.002, 0.   , 0.   , 0.   , 0.998, 0.   ,\n",
       "        0.   ]], dtype=float32)"
      ]
     },
     "execution_count": 42,
     "metadata": {},
     "output_type": "execute_result"
    }
   ],
   "source": [
    "predictions = model.predict(X_test[:1]).round(3)\n",
    "print(predictions.shape)\n",
    "predictions"
   ]
  },
  {
   "cell_type": "code",
   "execution_count": 108,
   "metadata": {},
   "outputs": [
    {
     "data": {
      "text/plain": [
       "7"
      ]
     },
     "execution_count": 108,
     "metadata": {},
     "output_type": "execute_result"
    }
   ],
   "source": [
    "predictions.argmax()"
   ]
  },
  {
   "cell_type": "code",
   "execution_count": 109,
   "metadata": {},
   "outputs": [
    {
     "name": "stdout",
     "output_type": "stream",
     "text": [
      "313/313 [==============================] - 2s 5ms/step\n"
     ]
    },
    {
     "data": {
      "text/plain": [
       "array([6, 6, 6, ..., 6, 9, 9])"
      ]
     },
     "execution_count": 109,
     "metadata": {},
     "output_type": "execute_result"
    }
   ],
   "source": [
    "model.predict(X_test).argmax(axis=1)"
   ]
  },
  {
   "cell_type": "code",
   "execution_count": 112,
   "metadata": {},
   "outputs": [
    {
     "ename": "AttributeError",
     "evalue": "'ColormapRegistry' object has no attribute 'get_cmap'",
     "output_type": "error",
     "traceback": [
      "\u001b[0;31m---------------------------------------------------------------------------\u001b[0m",
      "\u001b[0;31mAttributeError\u001b[0m                            Traceback (most recent call last)",
      "Cell \u001b[0;32mIn[112], line 2\u001b[0m\n\u001b[1;32m      1\u001b[0m \u001b[38;5;28;01mfrom\u001b[39;00m \u001b[38;5;21;01mmatplotlib\u001b[39;00m \u001b[38;5;28;01mimport\u001b[39;00m cm\n\u001b[0;32m----> 2\u001b[0m plt\u001b[38;5;241m.\u001b[39mimshow(X_test[\u001b[38;5;241m2\u001b[39m]\u001b[38;5;241m.\u001b[39mreshape(\u001b[38;5;241m28\u001b[39m,\u001b[38;5;241m28\u001b[39m), cmap\u001b[38;5;241m=\u001b[39mplt\u001b[38;5;241m.\u001b[39mcolormaps\u001b[38;5;241m.\u001b[39mget_cmap(\u001b[38;5;124m'\u001b[39m\u001b[38;5;124mGreys\u001b[39m\u001b[38;5;124m'\u001b[39m))\n",
      "\u001b[0;31mAttributeError\u001b[0m: 'ColormapRegistry' object has no attribute 'get_cmap'"
     ]
    }
   ],
   "source": [
    "from matplotlib import cm\n",
    "plt.imshow(X_test[2].reshape(28,28), cmap=plt.colormaps.get_cmap('Greys'));"
   ]
  },
  {
   "cell_type": "markdown",
   "metadata": {},
   "source": [
    "### Problema de regresión\n",
    "Veamos un ejemplo de cómo aplicar una red neuronal de TensorFlow a un problema de regresión."
   ]
  },
  {
   "cell_type": "code",
   "execution_count": 113,
   "metadata": {},
   "outputs": [
    {
     "data": {
      "text/html": [
       "<div>\n",
       "<style scoped>\n",
       "    .dataframe tbody tr th:only-of-type {\n",
       "        vertical-align: middle;\n",
       "    }\n",
       "\n",
       "    .dataframe tbody tr th {\n",
       "        vertical-align: top;\n",
       "    }\n",
       "\n",
       "    .dataframe thead th {\n",
       "        text-align: right;\n",
       "    }\n",
       "</style>\n",
       "<table border=\"1\" class=\"dataframe\">\n",
       "  <thead>\n",
       "    <tr style=\"text-align: right;\">\n",
       "      <th></th>\n",
       "      <th>MedInc</th>\n",
       "      <th>HouseAge</th>\n",
       "      <th>AveRooms</th>\n",
       "      <th>AveBedrms</th>\n",
       "      <th>Population</th>\n",
       "      <th>AveOccup</th>\n",
       "      <th>Latitude</th>\n",
       "      <th>Longitude</th>\n",
       "      <th>target</th>\n",
       "    </tr>\n",
       "  </thead>\n",
       "  <tbody>\n",
       "    <tr>\n",
       "      <th>0</th>\n",
       "      <td>8.3252</td>\n",
       "      <td>41.0</td>\n",
       "      <td>6.984127</td>\n",
       "      <td>1.023810</td>\n",
       "      <td>322.0</td>\n",
       "      <td>2.555556</td>\n",
       "      <td>37.88</td>\n",
       "      <td>-122.23</td>\n",
       "      <td>4.526</td>\n",
       "    </tr>\n",
       "    <tr>\n",
       "      <th>1</th>\n",
       "      <td>8.3014</td>\n",
       "      <td>21.0</td>\n",
       "      <td>6.238137</td>\n",
       "      <td>0.971880</td>\n",
       "      <td>2401.0</td>\n",
       "      <td>2.109842</td>\n",
       "      <td>37.86</td>\n",
       "      <td>-122.22</td>\n",
       "      <td>3.585</td>\n",
       "    </tr>\n",
       "    <tr>\n",
       "      <th>2</th>\n",
       "      <td>7.2574</td>\n",
       "      <td>52.0</td>\n",
       "      <td>8.288136</td>\n",
       "      <td>1.073446</td>\n",
       "      <td>496.0</td>\n",
       "      <td>2.802260</td>\n",
       "      <td>37.85</td>\n",
       "      <td>-122.24</td>\n",
       "      <td>3.521</td>\n",
       "    </tr>\n",
       "    <tr>\n",
       "      <th>3</th>\n",
       "      <td>5.6431</td>\n",
       "      <td>52.0</td>\n",
       "      <td>5.817352</td>\n",
       "      <td>1.073059</td>\n",
       "      <td>558.0</td>\n",
       "      <td>2.547945</td>\n",
       "      <td>37.85</td>\n",
       "      <td>-122.25</td>\n",
       "      <td>3.413</td>\n",
       "    </tr>\n",
       "    <tr>\n",
       "      <th>4</th>\n",
       "      <td>3.8462</td>\n",
       "      <td>52.0</td>\n",
       "      <td>6.281853</td>\n",
       "      <td>1.081081</td>\n",
       "      <td>565.0</td>\n",
       "      <td>2.181467</td>\n",
       "      <td>37.85</td>\n",
       "      <td>-122.25</td>\n",
       "      <td>3.422</td>\n",
       "    </tr>\n",
       "  </tbody>\n",
       "</table>\n",
       "</div>"
      ],
      "text/plain": [
       "   MedInc  HouseAge  AveRooms  AveBedrms  Population  AveOccup  Latitude  \\\n",
       "0  8.3252      41.0  6.984127   1.023810       322.0  2.555556     37.88   \n",
       "1  8.3014      21.0  6.238137   0.971880      2401.0  2.109842     37.86   \n",
       "2  7.2574      52.0  8.288136   1.073446       496.0  2.802260     37.85   \n",
       "3  5.6431      52.0  5.817352   1.073059       558.0  2.547945     37.85   \n",
       "4  3.8462      52.0  6.281853   1.081081       565.0  2.181467     37.85   \n",
       "\n",
       "   Longitude  target  \n",
       "0    -122.23   4.526  \n",
       "1    -122.22   3.585  \n",
       "2    -122.24   3.521  \n",
       "3    -122.25   3.413  \n",
       "4    -122.25   3.422  "
      ]
     },
     "execution_count": 113,
     "metadata": {},
     "output_type": "execute_result"
    }
   ],
   "source": [
    "# Cargamos datos\n",
    "from matplotlib import cm\n",
    "from sklearn.datasets import fetch_california_housing\n",
    "from sklearn.model_selection import train_test_split\n",
    "from sklearn.preprocessing import StandardScaler\n",
    "\n",
    "housing = fetch_california_housing()\n",
    "df = pd.DataFrame(housing.data, columns = housing.feature_names)\n",
    "df['target'] = housing['target']\n",
    "df.head()"
   ]
  },
  {
   "cell_type": "code",
   "execution_count": 114,
   "metadata": {},
   "outputs": [
    {
     "data": {
      "text/plain": [
       "dict_keys(['data', 'target', 'frame', 'target_names', 'feature_names', 'DESCR'])"
      ]
     },
     "execution_count": 114,
     "metadata": {},
     "output_type": "execute_result"
    }
   ],
   "source": [
    "housing.keys()"
   ]
  },
  {
   "cell_type": "markdown",
   "metadata": {},
   "source": [
    "Divimos en train, test y validation"
   ]
  },
  {
   "cell_type": "code",
   "execution_count": 115,
   "metadata": {},
   "outputs": [],
   "source": [
    "\"\"\"Split the full housing dataset into training and test sets.\n",
    "\n",
    "Splits the features (X) and targets (y) into training and test \n",
    "sets for model training and evaluation.\n",
    "\"\"\"\n",
    "X_train_full, X_test, y_train_full, y_test = train_test_split(housing.data,\n",
    "                                                              housing.target)\n",
    "\n",
    "\"\"\"Split the training set into training and validation sets.\n",
    "\n",
    "Further splits the features (X_train) and targets (y_train) from \n",
    "the full training set into training and validation sets for \n",
    "training, validation and hyperparameter tuning.\n",
    "\"\"\"\n",
    "X_train, X_valid, y_train, y_valid = train_test_split(X_train_full,\n",
    "                                                      y_train_full) \n",
    "\n",
    "scaler = StandardScaler()\n",
    "X_train = scaler.fit_transform(X_train)\n",
    "X_valid = scaler.transform(X_valid)\n",
    "X_test = scaler.transform(X_test)"
   ]
  },
  {
   "cell_type": "code",
   "execution_count": 116,
   "metadata": {},
   "outputs": [
    {
     "data": {
      "text/plain": [
       "(11610, 8)"
      ]
     },
     "execution_count": 116,
     "metadata": {},
     "output_type": "execute_result"
    }
   ],
   "source": [
    "X_train.shape"
   ]
  },
  {
   "cell_type": "markdown",
   "metadata": {},
   "source": [
    "Montamos el modelo. Simplemente se compondrá de una hidden layer, a la que le configuramos una capa previa de entrada de 8 neuronas (las features).\n",
    "\n",
    "Se trata de un modelo de regresión, por lo que la capa de salida es una única neurona."
   ]
  },
  {
   "cell_type": "code",
   "execution_count": 117,
   "metadata": {},
   "outputs": [
    {
     "data": {
      "text/plain": [
       "362.8125"
      ]
     },
     "execution_count": 117,
     "metadata": {},
     "output_type": "execute_result"
    }
   ],
   "source": [
    "11610/32"
   ]
  },
  {
   "cell_type": "code",
   "execution_count": 118,
   "metadata": {},
   "outputs": [
    {
     "name": "stdout",
     "output_type": "stream",
     "text": [
      "Epoch 1/20\n",
      "363/363 [==============================] - 2s 4ms/step - loss: 0.8953 - val_loss: 1.6512\n",
      "Epoch 2/20\n",
      "363/363 [==============================] - 1s 3ms/step - loss: 2.0543 - val_loss: 0.4776\n",
      "Epoch 3/20\n",
      "363/363 [==============================] - 1s 4ms/step - loss: 0.4534 - val_loss: 0.4439\n",
      "Epoch 4/20\n",
      "363/363 [==============================] - 2s 7ms/step - loss: 0.4191 - val_loss: 0.4647\n",
      "Epoch 5/20\n",
      "363/363 [==============================] - 1s 3ms/step - loss: 0.4029 - val_loss: 0.3931\n",
      "Epoch 6/20\n",
      "363/363 [==============================] - 1s 3ms/step - loss: 0.3907 - val_loss: 0.3905\n",
      "Epoch 7/20\n",
      "363/363 [==============================] - 1s 3ms/step - loss: 0.3870 - val_loss: 0.3800\n",
      "Epoch 8/20\n",
      "363/363 [==============================] - 1s 4ms/step - loss: 0.3817 - val_loss: 0.3728\n",
      "Epoch 9/20\n",
      "363/363 [==============================] - 1s 3ms/step - loss: 0.3795 - val_loss: 0.3723\n",
      "Epoch 10/20\n",
      "363/363 [==============================] - 1s 2ms/step - loss: 0.3746 - val_loss: 0.3731\n",
      "Epoch 11/20\n",
      "363/363 [==============================] - 1s 2ms/step - loss: 0.3745 - val_loss: 0.5009\n",
      "Epoch 12/20\n",
      "363/363 [==============================] - 1s 4ms/step - loss: 0.3828 - val_loss: 0.3673\n",
      "Epoch 13/20\n",
      "363/363 [==============================] - 1s 3ms/step - loss: 0.3718 - val_loss: 0.3678\n",
      "Epoch 14/20\n",
      "363/363 [==============================] - 1s 2ms/step - loss: 0.3771 - val_loss: 0.5934\n",
      "Epoch 15/20\n",
      "363/363 [==============================] - 1s 2ms/step - loss: 0.3727 - val_loss: 0.3666\n",
      "Epoch 16/20\n",
      "363/363 [==============================] - 1s 3ms/step - loss: 0.3645 - val_loss: 0.3571\n",
      "Epoch 17/20\n",
      "363/363 [==============================] - 1s 2ms/step - loss: 0.3628 - val_loss: 0.3581\n",
      "Epoch 18/20\n",
      "363/363 [==============================] - 1s 2ms/step - loss: 0.3619 - val_loss: 0.3553\n",
      "Epoch 19/20\n",
      "363/363 [==============================] - 1s 3ms/step - loss: 0.3642 - val_loss: 0.3590\n",
      "Epoch 20/20\n",
      "363/363 [==============================] - 1s 4ms/step - loss: 0.3627 - val_loss: 0.3566\n"
     ]
    }
   ],
   "source": [
    "\"\"\"Creates a sequential Keras model with 2 dense layers.\n",
    "\n",
    "The first layer has 30 units and a 'relu' activation, \n",
    "with an input shape matching the training data.\n",
    "\n",
    "The second layer has 1 unit for regression.\"\"\"\n",
    "model = keras.models.Sequential([\n",
    "    keras.layers.Dense(30, activation = 'relu',\n",
    "                      input_shape = X_train.shape[1:]),\n",
    "    keras.layers.Dense(1)\n",
    "])\n",
    "\n",
    "\"\"\"Compiles the model by specifying the loss function \n",
    "and optimizer.\n",
    "\n",
    "Parameters:\n",
    "- loss: Loss function to optimize during training. \n",
    "- optimizer: Optimization algorithm for updating weights.\n",
    "\"\"\"\n",
    "model.compile(loss = \"mean_squared_error\",\n",
    "             optimizer = \"sgd\")\n",
    "\n",
    "\"\"\"Fits the Keras model on the training data.\n",
    "\n",
    "Arguments:\n",
    "- X_train: Training data input features.  \n",
    "- y_train: Training data target values.\n",
    "- epochs: Number of epochs to train for.\n",
    "- validation_data: Validation data to evaluate loss and metrics.\n",
    "\"\"\"\n",
    "history = model.fit(X_train,\n",
    "                   y_train,\n",
    "                   epochs = 20,\n",
    "                   validation_data = (X_valid, y_valid))"
   ]
  },
  {
   "cell_type": "code",
   "execution_count": 53,
   "metadata": {},
   "outputs": [
    {
     "data": {
      "text/plain": [
       "270"
      ]
     },
     "execution_count": 53,
     "metadata": {},
     "output_type": "execute_result"
    }
   ],
   "source": [
    "8*30 + 30 "
   ]
  },
  {
   "cell_type": "code",
   "execution_count": 54,
   "metadata": {},
   "outputs": [
    {
     "name": "stdout",
     "output_type": "stream",
     "text": [
      "Model: \"sequential_3\"\n",
      "_________________________________________________________________\n",
      " Layer (type)                Output Shape              Param #   \n",
      "=================================================================\n",
      " dense_8 (Dense)             (None, 30)                270       \n",
      "                                                                 \n",
      " dense_9 (Dense)             (None, 1)                 31        \n",
      "                                                                 \n",
      "=================================================================\n",
      "Total params: 301 (1.18 KB)\n",
      "Trainable params: 301 (1.18 KB)\n",
      "Non-trainable params: 0 (0.00 Byte)\n",
      "_________________________________________________________________\n"
     ]
    }
   ],
   "source": [
    "model.summary()"
   ]
  },
  {
   "cell_type": "code",
   "execution_count": 120,
   "metadata": {},
   "outputs": [
    {
     "name": "stdout",
     "output_type": "stream",
     "text": [
      " 32/162 [====>.........................] - ETA: 0s - loss: 0.3119"
     ]
    },
    {
     "name": "stdout",
     "output_type": "stream",
     "text": [
      "162/162 [==============================] - 1s 8ms/step - loss: 0.3674\n",
      "MSE: 0.3674147129058838\n"
     ]
    }
   ],
   "source": [
    "\"\"\"\n",
    "Evaluates the MSE loss on the test data.\n",
    "\"\"\"\n",
    "\n",
    "mse_test = model.evaluate(X_test, y_test)\n",
    "print(\"MSE:\", mse_test)"
   ]
  },
  {
   "cell_type": "code",
   "execution_count": 56,
   "metadata": {},
   "outputs": [
    {
     "name": "stdout",
     "output_type": "stream",
     "text": [
      "1/1 [==============================] - 0s 180ms/step\n"
     ]
    },
    {
     "data": {
      "text/plain": [
       "array([[2.4448686],\n",
       "       [1.6384043],\n",
       "       [2.7036328],\n",
       "       [1.1734333],\n",
       "       [4.5801682]], dtype=float32)"
      ]
     },
     "execution_count": 56,
     "metadata": {},
     "output_type": "execute_result"
    }
   ],
   "source": [
    "\n",
    "# Predict class labels for the first 5 samples in X_test\n",
    "y_pred = model.predict(X_test[:5])\n",
    "y_pred"
   ]
  },
  {
   "cell_type": "markdown",
   "metadata": {},
   "source": [
    "### Guardar modelo\n",
    "Para guardar el modelo, en el formato de Keras (HDF5). "
   ]
  },
  {
   "cell_type": "code",
   "execution_count": 121,
   "metadata": {},
   "outputs": [
    {
     "name": "stdout",
     "output_type": "stream",
     "text": [
      "INFO:tensorflow:Assets written to: my_keras_model/assets\n"
     ]
    },
    {
     "name": "stderr",
     "output_type": "stream",
     "text": [
      "INFO:tensorflow:Assets written to: my_keras_model/assets\n"
     ]
    }
   ],
   "source": [
    "model.save(\"my_keras_model\") # save the model   "
   ]
  },
  {
   "cell_type": "code",
   "execution_count": 58,
   "metadata": {},
   "outputs": [],
   "source": [
    "# Lo volvemos a cargar\n",
    "model = keras.models.load_model(\"my_keras_model\")"
   ]
  },
  {
   "cell_type": "markdown",
   "metadata": {},
   "source": [
    "### Parameter: Callbacks\n",
    "Son funciones predefinidas de Keras a aplicar durante el entrenamiento\n",
    "Por ejemplo, `ModelCheckpoint` sirve para que el modelo se vaya guardando tras cada epoch. Así no perdemos el progreso en caso de que decidamos interrumpir el entrenamiento. El callback recibe como argumento el nombre del objeto donde queremos que se guarde el modelo entrenado."
   ]
  },
  {
   "cell_type": "code",
   "execution_count": 59,
   "metadata": {
    "collapsed": true,
    "jupyter": {
     "outputs_hidden": true
    },
    "tags": []
   },
   "outputs": [
    {
     "name": "stdout",
     "output_type": "stream",
     "text": [
      "Epoch 1/30\n",
      "358/363 [============================>.] - ETA: 0s - loss: 0.3440INFO:tensorflow:Assets written to: callback_model/assets\n"
     ]
    },
    {
     "name": "stderr",
     "output_type": "stream",
     "text": [
      "INFO:tensorflow:Assets written to: callback_model/assets\n"
     ]
    },
    {
     "name": "stdout",
     "output_type": "stream",
     "text": [
      "363/363 [==============================] - 4s 8ms/step - loss: 0.3450\n",
      "Epoch 2/30\n",
      "360/363 [============================>.] - ETA: 0s - loss: 0.3441INFO:tensorflow:Assets written to: callback_model/assets\n"
     ]
    },
    {
     "name": "stderr",
     "output_type": "stream",
     "text": [
      "INFO:tensorflow:Assets written to: callback_model/assets\n"
     ]
    },
    {
     "name": "stdout",
     "output_type": "stream",
     "text": [
      "363/363 [==============================] - 3s 8ms/step - loss: 0.3439\n",
      "Epoch 3/30\n",
      "362/363 [============================>.] - ETA: 0s - loss: 0.3421INFO:tensorflow:Assets written to: callback_model/assets\n"
     ]
    },
    {
     "name": "stderr",
     "output_type": "stream",
     "text": [
      "INFO:tensorflow:Assets written to: callback_model/assets\n"
     ]
    },
    {
     "name": "stdout",
     "output_type": "stream",
     "text": [
      "363/363 [==============================] - 3s 8ms/step - loss: 0.3418\n",
      "Epoch 4/30\n",
      "359/363 [============================>.] - ETA: 0s - loss: 0.3481INFO:tensorflow:Assets written to: callback_model/assets\n"
     ]
    },
    {
     "name": "stderr",
     "output_type": "stream",
     "text": [
      "INFO:tensorflow:Assets written to: callback_model/assets\n"
     ]
    },
    {
     "name": "stdout",
     "output_type": "stream",
     "text": [
      "363/363 [==============================] - 2s 7ms/step - loss: 0.3480\n",
      "Epoch 5/30\n",
      "357/363 [============================>.] - ETA: 0s - loss: 0.3400INFO:tensorflow:Assets written to: callback_model/assets\n"
     ]
    },
    {
     "name": "stderr",
     "output_type": "stream",
     "text": [
      "INFO:tensorflow:Assets written to: callback_model/assets\n"
     ]
    },
    {
     "name": "stdout",
     "output_type": "stream",
     "text": [
      "363/363 [==============================] - 4s 12ms/step - loss: 0.3419\n",
      "Epoch 6/30\n",
      "355/363 [============================>.] - ETA: 0s - loss: 0.4331INFO:tensorflow:Assets written to: callback_model/assets\n"
     ]
    },
    {
     "name": "stderr",
     "output_type": "stream",
     "text": [
      "INFO:tensorflow:Assets written to: callback_model/assets\n"
     ]
    },
    {
     "name": "stdout",
     "output_type": "stream",
     "text": [
      "363/363 [==============================] - 3s 9ms/step - loss: 0.4340\n",
      "Epoch 7/30\n",
      "352/363 [============================>.] - ETA: 0s - loss: 0.3775INFO:tensorflow:Assets written to: callback_model/assets\n"
     ]
    },
    {
     "name": "stderr",
     "output_type": "stream",
     "text": [
      "INFO:tensorflow:Assets written to: callback_model/assets\n"
     ]
    },
    {
     "name": "stdout",
     "output_type": "stream",
     "text": [
      "363/363 [==============================] - 2s 5ms/step - loss: 0.3776\n",
      "Epoch 8/30\n",
      "360/363 [============================>.] - ETA: 0s - loss: 0.3611INFO:tensorflow:Assets written to: callback_model/assets\n"
     ]
    },
    {
     "name": "stderr",
     "output_type": "stream",
     "text": [
      "INFO:tensorflow:Assets written to: callback_model/assets\n"
     ]
    },
    {
     "name": "stdout",
     "output_type": "stream",
     "text": [
      "363/363 [==============================] - 3s 8ms/step - loss: 0.3607\n",
      "Epoch 9/30\n",
      "353/363 [============================>.] - ETA: 0s - loss: 0.3523INFO:tensorflow:Assets written to: callback_model/assets\n"
     ]
    },
    {
     "name": "stderr",
     "output_type": "stream",
     "text": [
      "INFO:tensorflow:Assets written to: callback_model/assets\n"
     ]
    },
    {
     "name": "stdout",
     "output_type": "stream",
     "text": [
      "363/363 [==============================] - 3s 8ms/step - loss: 0.3524\n",
      "Epoch 10/30\n",
      "359/363 [============================>.] - ETA: 0s - loss: 0.3467INFO:tensorflow:Assets written to: callback_model/assets\n"
     ]
    },
    {
     "name": "stderr",
     "output_type": "stream",
     "text": [
      "INFO:tensorflow:Assets written to: callback_model/assets\n"
     ]
    },
    {
     "name": "stdout",
     "output_type": "stream",
     "text": [
      "363/363 [==============================] - 3s 8ms/step - loss: 0.3461\n",
      "Epoch 11/30\n",
      "357/363 [============================>.] - ETA: 0s - loss: 0.3428INFO:tensorflow:Assets written to: callback_model/assets\n"
     ]
    },
    {
     "name": "stderr",
     "output_type": "stream",
     "text": [
      "INFO:tensorflow:Assets written to: callback_model/assets\n"
     ]
    },
    {
     "name": "stdout",
     "output_type": "stream",
     "text": [
      "363/363 [==============================] - 3s 8ms/step - loss: 0.3422\n",
      "Epoch 12/30\n",
      "353/363 [============================>.] - ETA: 0s - loss: 0.3407INFO:tensorflow:Assets written to: callback_model/assets\n"
     ]
    },
    {
     "name": "stderr",
     "output_type": "stream",
     "text": [
      "INFO:tensorflow:Assets written to: callback_model/assets\n"
     ]
    },
    {
     "name": "stdout",
     "output_type": "stream",
     "text": [
      "363/363 [==============================] - 4s 11ms/step - loss: 0.3401\n",
      "Epoch 13/30\n",
      "354/363 [============================>.] - ETA: 0s - loss: 0.3545INFO:tensorflow:Assets written to: callback_model/assets\n"
     ]
    },
    {
     "name": "stderr",
     "output_type": "stream",
     "text": [
      "INFO:tensorflow:Assets written to: callback_model/assets\n"
     ]
    },
    {
     "name": "stdout",
     "output_type": "stream",
     "text": [
      "363/363 [==============================] - 4s 12ms/step - loss: 0.3527\n",
      "Epoch 14/30\n",
      "359/363 [============================>.] - ETA: 0s - loss: 0.3374INFO:tensorflow:Assets written to: callback_model/assets\n"
     ]
    },
    {
     "name": "stderr",
     "output_type": "stream",
     "text": [
      "INFO:tensorflow:Assets written to: callback_model/assets\n"
     ]
    },
    {
     "name": "stdout",
     "output_type": "stream",
     "text": [
      "363/363 [==============================] - 5s 13ms/step - loss: 0.3375\n",
      "Epoch 15/30\n",
      "360/363 [============================>.] - ETA: 0s - loss: 0.3342INFO:tensorflow:Assets written to: callback_model/assets\n"
     ]
    },
    {
     "name": "stderr",
     "output_type": "stream",
     "text": [
      "INFO:tensorflow:Assets written to: callback_model/assets\n"
     ]
    },
    {
     "name": "stdout",
     "output_type": "stream",
     "text": [
      "363/363 [==============================] - 3s 8ms/step - loss: 0.3339\n",
      "Epoch 16/30\n",
      "359/363 [============================>.] - ETA: 0s - loss: 0.3319INFO:tensorflow:Assets written to: callback_model/assets\n"
     ]
    },
    {
     "name": "stderr",
     "output_type": "stream",
     "text": [
      "INFO:tensorflow:Assets written to: callback_model/assets\n"
     ]
    },
    {
     "name": "stdout",
     "output_type": "stream",
     "text": [
      "363/363 [==============================] - 3s 7ms/step - loss: 0.3319\n",
      "Epoch 17/30\n",
      "360/363 [============================>.] - ETA: 0s - loss: 0.3302INFO:tensorflow:Assets written to: callback_model/assets\n"
     ]
    },
    {
     "name": "stderr",
     "output_type": "stream",
     "text": [
      "INFO:tensorflow:Assets written to: callback_model/assets\n"
     ]
    },
    {
     "name": "stdout",
     "output_type": "stream",
     "text": [
      "363/363 [==============================] - 4s 10ms/step - loss: 0.3319\n",
      "Epoch 18/30\n",
      "349/363 [===========================>..] - ETA: 0s - loss: 0.3337INFO:tensorflow:Assets written to: callback_model/assets\n"
     ]
    },
    {
     "name": "stderr",
     "output_type": "stream",
     "text": [
      "INFO:tensorflow:Assets written to: callback_model/assets\n"
     ]
    },
    {
     "name": "stdout",
     "output_type": "stream",
     "text": [
      "363/363 [==============================] - 2s 7ms/step - loss: 0.3327\n",
      "Epoch 19/30\n",
      "362/363 [============================>.] - ETA: 0s - loss: 0.3282INFO:tensorflow:Assets written to: callback_model/assets\n"
     ]
    },
    {
     "name": "stderr",
     "output_type": "stream",
     "text": [
      "INFO:tensorflow:Assets written to: callback_model/assets\n"
     ]
    },
    {
     "name": "stdout",
     "output_type": "stream",
     "text": [
      "363/363 [==============================] - 3s 8ms/step - loss: 0.3283\n",
      "Epoch 20/30\n",
      "350/363 [===========================>..] - ETA: 0s - loss: 0.3267INFO:tensorflow:Assets written to: callback_model/assets\n"
     ]
    },
    {
     "name": "stderr",
     "output_type": "stream",
     "text": [
      "INFO:tensorflow:Assets written to: callback_model/assets\n"
     ]
    },
    {
     "name": "stdout",
     "output_type": "stream",
     "text": [
      "363/363 [==============================] - 2s 4ms/step - loss: 0.3257\n",
      "Epoch 21/30\n",
      "359/363 [============================>.] - ETA: 0s - loss: 0.3251INFO:tensorflow:Assets written to: callback_model/assets\n"
     ]
    },
    {
     "name": "stderr",
     "output_type": "stream",
     "text": [
      "INFO:tensorflow:Assets written to: callback_model/assets\n"
     ]
    },
    {
     "name": "stdout",
     "output_type": "stream",
     "text": [
      "363/363 [==============================] - 1s 4ms/step - loss: 0.3245\n",
      "Epoch 22/30\n",
      "358/363 [============================>.] - ETA: 0s - loss: 0.3245INFO:tensorflow:Assets written to: callback_model/assets\n"
     ]
    },
    {
     "name": "stderr",
     "output_type": "stream",
     "text": [
      "INFO:tensorflow:Assets written to: callback_model/assets\n"
     ]
    },
    {
     "name": "stdout",
     "output_type": "stream",
     "text": [
      "363/363 [==============================] - 1s 4ms/step - loss: 0.3248\n",
      "Epoch 23/30\n",
      "349/363 [===========================>..] - ETA: 0s - loss: 0.3429INFO:tensorflow:Assets written to: callback_model/assets\n"
     ]
    },
    {
     "name": "stderr",
     "output_type": "stream",
     "text": [
      "INFO:tensorflow:Assets written to: callback_model/assets\n"
     ]
    },
    {
     "name": "stdout",
     "output_type": "stream",
     "text": [
      "363/363 [==============================] - 2s 5ms/step - loss: 0.3434\n",
      "Epoch 24/30\n",
      "347/363 [===========================>..] - ETA: 0s - loss: 0.3210INFO:tensorflow:Assets written to: callback_model/assets\n"
     ]
    },
    {
     "name": "stderr",
     "output_type": "stream",
     "text": [
      "INFO:tensorflow:Assets written to: callback_model/assets\n"
     ]
    },
    {
     "name": "stdout",
     "output_type": "stream",
     "text": [
      "363/363 [==============================] - 1s 4ms/step - loss: 0.3228\n",
      "Epoch 25/30\n",
      "362/363 [============================>.] - ETA: 0s - loss: 0.3206INFO:tensorflow:Assets written to: callback_model/assets\n"
     ]
    },
    {
     "name": "stderr",
     "output_type": "stream",
     "text": [
      "INFO:tensorflow:Assets written to: callback_model/assets\n"
     ]
    },
    {
     "name": "stdout",
     "output_type": "stream",
     "text": [
      "363/363 [==============================] - 2s 5ms/step - loss: 0.3207\n",
      "Epoch 26/30\n",
      "361/363 [============================>.] - ETA: 0s - loss: 0.3378INFO:tensorflow:Assets written to: callback_model/assets\n"
     ]
    },
    {
     "name": "stderr",
     "output_type": "stream",
     "text": [
      "INFO:tensorflow:Assets written to: callback_model/assets\n"
     ]
    },
    {
     "name": "stdout",
     "output_type": "stream",
     "text": [
      "363/363 [==============================] - 2s 6ms/step - loss: 0.3381\n",
      "Epoch 27/30\n",
      "357/363 [============================>.] - ETA: 0s - loss: 0.3238INFO:tensorflow:Assets written to: callback_model/assets\n"
     ]
    },
    {
     "name": "stderr",
     "output_type": "stream",
     "text": [
      "INFO:tensorflow:Assets written to: callback_model/assets\n"
     ]
    },
    {
     "name": "stdout",
     "output_type": "stream",
     "text": [
      "363/363 [==============================] - 2s 5ms/step - loss: 0.3221\n",
      "Epoch 28/30\n",
      "347/363 [===========================>..] - ETA: 0s - loss: 0.3211INFO:tensorflow:Assets written to: callback_model/assets\n"
     ]
    },
    {
     "name": "stderr",
     "output_type": "stream",
     "text": [
      "INFO:tensorflow:Assets written to: callback_model/assets\n"
     ]
    },
    {
     "name": "stdout",
     "output_type": "stream",
     "text": [
      "363/363 [==============================] - 2s 4ms/step - loss: 0.3213\n",
      "Epoch 29/30\n",
      "354/363 [============================>.] - ETA: 0s - loss: 0.3189INFO:tensorflow:Assets written to: callback_model/assets\n"
     ]
    },
    {
     "name": "stderr",
     "output_type": "stream",
     "text": [
      "INFO:tensorflow:Assets written to: callback_model/assets\n"
     ]
    },
    {
     "name": "stdout",
     "output_type": "stream",
     "text": [
      "363/363 [==============================] - 2s 5ms/step - loss: 0.3190\n",
      "Epoch 30/30\n",
      "361/363 [============================>.] - ETA: 0s - loss: 0.3184INFO:tensorflow:Assets written to: callback_model/assets\n"
     ]
    },
    {
     "name": "stderr",
     "output_type": "stream",
     "text": [
      "INFO:tensorflow:Assets written to: callback_model/assets\n"
     ]
    },
    {
     "name": "stdout",
     "output_type": "stream",
     "text": [
      "363/363 [==============================] - 2s 7ms/step - loss: 0.3178\n"
     ]
    }
   ],
   "source": [
    "checkpoint_cb = keras.callbacks.ModelCheckpoint\n",
    "\"\"\"\n",
    "Fits the model on the training data for a given number of epochs, \n",
    "saving the best checkpoint to a callback.\n",
    "\"\"\"\n",
    "\n",
    "history = model.fit(X_train,\n",
    "                   y_train,\n",
    "                   epochs=30,\n",
    "                   callbacks = [checkpoint_cb])"
   ]
  },
  {
   "cell_type": "code",
   "execution_count": null,
   "metadata": {},
   "outputs": [],
   "source": []
  },
  {
   "cell_type": "markdown",
   "metadata": {},
   "source": [
    "### Early Stopping\n",
    "Interrumpe el entrenamiento cuando no ve progreso en el set de validación. Para ello tiene en cuenta un numero de epochs llamado `patience`. Se puede combinar con el callback"
   ]
  },
  {
   "cell_type": "code",
   "execution_count": 60,
   "metadata": {},
   "outputs": [
    {
     "name": "stdout",
     "output_type": "stream",
     "text": [
      "Epoch 1/20\n",
      "363/363 [==============================] - 2s 6ms/step - loss: 0.3177 - val_loss: 0.3402\n",
      "Epoch 2/20\n",
      "363/363 [==============================] - 2s 7ms/step - loss: 0.3195 - val_loss: 0.7006\n",
      "Epoch 3/20\n",
      "363/363 [==============================] - 3s 7ms/step - loss: 0.3188 - val_loss: 0.6079\n",
      "Epoch 4/20\n",
      "363/363 [==============================] - 2s 6ms/step - loss: 0.3450 - val_loss: 0.7966\n",
      "Epoch 5/20\n",
      "363/363 [==============================] - 3s 7ms/step - loss: 0.3286 - val_loss: 0.4387\n",
      "Epoch 6/20\n",
      "363/363 [==============================] - 3s 7ms/step - loss: 0.3221 - val_loss: 0.3420\n"
     ]
    }
   ],
   "source": [
    "\"\"\"\n",
    "early_stopping_cb: Callback to stop training early if validation loss stops improving.\n",
    "\n",
    "patience: Number of epochs with no improvement after which training will be stopped.\n",
    "\n",
    "history: Training history returned by model.fit.\n",
    "\n",
    "X_train, y_train: Training data and labels. \n",
    "\n",
    "epochs: Number of training epochs.\n",
    "\n",
    "validation_data: Validation data tuple (X_valid, y_valid).\n",
    "\n",
    "Fit the model on the training data for a given number of epochs, validating after each epoch. \n",
    "Stop early if validation loss doesn't improve for patience epochs.\n",
    "\"\"\"\n",
    "\n",
    "\n",
    "early_stopping_cb = keras.callbacks.EarlyStopping(patience=5)\n",
    "history = model.fit(X_train,\n",
    "                   y_train,\n",
    "                   epochs=20,\n",
    "                    validation_data = (X_valid, y_valid),\n",
    "                   callbacks = [early_stopping_cb])"
   ]
  },
  {
   "cell_type": "code",
   "execution_count": null,
   "metadata": {},
   "outputs": [],
   "source": []
  },
  {
   "cell_type": "code",
   "execution_count": null,
   "metadata": {},
   "outputs": [],
   "source": []
  }
 ],
 "metadata": {
  "kernelspec": {
   "display_name": "Python 3",
   "language": "python",
   "name": "python3"
  },
  "language_info": {
   "codemirror_mode": {
    "name": "ipython",
    "version": 3
   },
   "file_extension": ".py",
   "mimetype": "text/x-python",
   "name": "python",
   "nbconvert_exporter": "python",
   "pygments_lexer": "ipython3",
   "version": "3.11.4"
  },
  "vscode": {
   "interpreter": {
    "hash": "31f2aee4e71d21fbe5cf8b01ff0e069b9275f58929596ceb00d14d90e3e16cd6"
   }
  }
 },
 "nbformat": 4,
 "nbformat_minor": 4
}
