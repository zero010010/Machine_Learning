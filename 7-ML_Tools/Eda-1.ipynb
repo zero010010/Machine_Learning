{
 "cells": [
  {
   "cell_type": "code",
   "execution_count": 1,
   "metadata": {},
   "outputs": [],
   "source": [
    "import pandas as pd\n",
    "import numpy as np\n",
    "import matplotlib.pyplot as plt\n",
    "\n",
    "  "
   ]
  },
  {
   "cell_type": "code",
   "execution_count": null,
   "metadata": {},
   "outputs": [],
   "source": [
    "df = pd.read_csv(\"\")"
   ]
  },
  {
   "cell_type": "code",
   "execution_count": null,
   "metadata": {},
   "outputs": [],
   "source": [
    "def EDA(df):\n",
    "  \"\"\"Performs exploratory data analysis on a pandas DataFrame.\"\"\"\n",
    "  \n",
    "  \n",
    "  print(df.shape)\n",
    "  \n",
    "  print(df.dtypes)\n",
    "  \n",
    "  print(df.head())\n",
    "  \n",
    "  print(df.tail())\n",
    "  \n",
    "  print(df.info())\n",
    "  \n",
    "  print(df.describe().T)\n",
    "  \n",
    "  df.hist(bins=50, figsize=(20,15))\n",
    "  plt.show()\n",
    "  \n",
    "  for col in df.columns:\n",
    "    print(col)\n",
    "    print(df[col].unique())\n",
    "    print(\"\")\n"
   ]
  }
 ],
 "metadata": {
  "kernelspec": {
   "display_name": "Python 3",
   "language": "python",
   "name": "python3"
  },
  "language_info": {
   "codemirror_mode": {
    "name": "ipython",
    "version": 3
   },
   "file_extension": ".py",
   "mimetype": "text/x-python",
   "name": "python",
   "nbconvert_exporter": "python",
   "pygments_lexer": "ipython3",
   "version": "3.11.4"
  }
 },
 "nbformat": 4,
 "nbformat_minor": 2
}
