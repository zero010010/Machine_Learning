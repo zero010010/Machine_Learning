{
 "cells": [
  {
   "cell_type": "code",
   "execution_count": 21,
   "id": "9c71d421",
   "metadata": {},
   "outputs": [
    {
     "name": "stdout",
     "output_type": "stream",
     "text": [
      "4.9.0\n"
     ]
    }
   ],
   "source": [
    "import cv2\n",
    "print(cv2.__version__)"
   ]
  },
  {
   "cell_type": "code",
   "execution_count": 23,
   "id": "366b90ab",
   "metadata": {},
   "outputs": [],
   "source": [
    "import os\n",
    "import time\n",
    "import cv2\n",
    "import numpy as np\n",
    "from model.yolo_model import YOLO\n",
    "import matplotlib.pyplot as plt"
   ]
  },
  {
   "cell_type": "code",
   "execution_count": null,
   "id": "4b42565f",
   "metadata": {},
   "outputs": [],
   "source": [
    "'''resizes the image to a standard size,\n",
    " converts to numerical format, \n",
    " normalizes the values, \n",
    " and expands the dimensions. \n",
    " This standardizes the input image before\n",
    "   feeding into the neural network.'''\n",
    "\n",
    "\n",
    "def process_image(img):\n",
    "    \"\"\"Resize, reduce and expand image.\n",
    "\n",
    "    # Argument:\n",
    "        img: original image.\n",
    "\n",
    "    # Returns\n",
    "        image: ndarray(64, 64, 3), processed image.\n",
    "    \"\"\"\n",
    "    image = cv2.resize(img, (416, 416),\n",
    "                       interpolation=cv2.INTER_CUBIC) # Interpolación es un método utilizado \n",
    "                                                        # para estimar valores de píxeles desconocidos \n",
    "                                                        # cuando realizo cambio de tamaño\n",
    "    image = np.array(image, dtype='float32') # Convierto la imagen previamente procesada en un np.array\n",
    "    image /= 255. # Normalizo la imagen, es decir, la llevo a un rango de 0 a 1\n",
    "    image = np.expand_dims(image, axis=0) # Añado una dimensión extra al array, para que sea de 4 dimensiones, me lo pedirá la red neuronal\n",
    "\n",
    "    return image\n",
    "print(process_image(img))\n"
   ]
  },
  {
   "cell_type": "markdown",
   "id": "925973ff",
   "metadata": {},
   "source": [
    "The function takes in an image (img) and processes it through several steps:\n",
    "\n",
    "Resize the image to 416 x 416 pixels using cubic interpolation. This interpolation method estimates the unknown pixel values when resizing to maintain image quality.\n",
    "\n",
    "Convert the resized image to a numpy array of float32 data type. This formats the image into a numerical array for easier processing.\n",
    "\n",
    "Normalize the pixel values to be between 0 and 1 by dividing the entire image by 255. This scales the values to a range that is more manageable for the neural network.\n",
    "\n",
    "Expand the dimensions of the array by adding a new axis at index 0. This makes the array 4D instead of 3D, which is required as input for the neural network model.\n",
    "\n"
   ]
  },
  {
   "cell_type": "code",
   "execution_count": 4,
   "id": "1aee4680",
   "metadata": {},
   "outputs": [],
   "source": [
    "'''This provides the list of class name strings \n",
    "that will be used to identify classes \n",
    "in the neural network model. \n",
    "The returned list contains the class names\n",
    " with no extra whitespace.'''\n",
    "\n",
    "\n",
    "def get_classes(file):\n",
    "    \"\"\"Get classes name.\n",
    "\n",
    "    # Argument:\n",
    "        file: classes name for database.\n",
    "\n",
    "    # Returns\n",
    "        class_names: List, classes name.\n",
    "\n",
    "    \"\"\"\n",
    "    with open(file) as f:\n",
    "        class_names = f.readlines() # Leo el archivo que contiene los nombres de las clases y los guardo en una lista\n",
    "    class_names = [c.strip() for c in class_names] # Elimino los espacios en blanco al ppio y al final de cada línea\n",
    "\n",
    "    return class_names"
   ]
  },
  {
   "cell_type": "markdown",
   "id": "e117a9ef",
   "metadata": {},
   "source": [
    "The function takes in a file path for a file that contains class names (file). It then:\n",
    "\n",
    "Opens the file and reads all the lines, storing them in a list called class_names. This reads the class name strings from the file.\n",
    "\n",
    "Strips any whitespace characters (spaces, newlines) from the beginning and end of each class name string in the list. This cleans up the strings.\n",
    "\n",
    "Returns the class_names list.\n",
    "\n",
    "So in simple terms, it:\n",
    "\n",
    "Opens the class name file\n",
    "Reads the lines into a list\n",
    "Removes extra whitespace from the strings\n",
    "Returns the list of clean class name strings"
   ]
  },
  {
   "cell_type": "code",
   "execution_count": 5,
   "id": "5d5067e1",
   "metadata": {},
   "outputs": [],
   "source": [
    "'''Takes the raw detection results, \n",
    "calculates nice box coordinates, \n",
    "draws boxes and text onto the image,\n",
    " and prints some info to the console. \n",
    " This creates a nice visual detection\n",
    "   output.\n",
    "'''\n",
    "\n",
    "\n",
    "def draw(image, boxes, scores, classes, all_classes): # Boxes y Scores son los resultados de la red neuronal, me lo dará yolo.predict\n",
    "                                                        #all_classes es la lista con los nombres de las clases, lo cojo de get_classes(file) más adelante \n",
    "    \"\"\"Draw the boxes on the image.\n",
    "\n",
    "    # Argument:\n",
    "        image: original image.\n",
    "        boxes: ndarray, boxes of objects.\n",
    "        classes: ndarray, classes of objects.\n",
    "        scores: ndarray, scores of objects.\n",
    "        all_classes: all classes name.\n",
    "    \"\"\"\n",
    "    for box, score, cl in zip(boxes, scores, classes):\n",
    "        x, y, w, h = box\n",
    "\n",
    "        top = max(0, np.floor(x + 0.5).astype(int))\n",
    "        left = max(0, np.floor(y + 0.5).astype(int))\n",
    "        right = min(image.shape[1], np.floor(x + w + 0.5).astype(int))\n",
    "        bottom = min(image.shape[0], np.floor(y + h + 0.5).astype(int))\n",
    "\n",
    "        cv2.rectangle(image, (top, left), (right, bottom), (255, 0, 0), 2)\n",
    "        cv2.putText(image, '{0} {1:.2f}'.format(all_classes[cl], score),\n",
    "                    (top, left - 6),\n",
    "                    cv2.FONT_HERSHEY_SIMPLEX,\n",
    "                    0.6, (0, 0, 255), 1,\n",
    "                    cv2.LINE_AA)\n",
    "\n",
    "        print('class: {0}, score: {1:.2f}'.format(all_classes[cl], score))\n",
    "        print('box coordinate x,y,w,h: {0}'.format(box))\n",
    "\n",
    "    print()"
   ]
  },
  {
   "cell_type": "markdown",
   "id": "65bd5be0",
   "metadata": {},
   "source": [
    "The goal of this function is to take the results from the neural network prediction (boxes, scores, classes) and draw them on the original image to visualize the detections.\n",
    "\n",
    "It takes in:\n",
    "\n",
    "The original image\n",
    "The bounding box coordinates for each detected object\n",
    "The confidence scores for each detection\n",
    "The class IDs for each detection\n",
    "A list of class name strings\n",
    "Then it loops through each detection and:\n",
    "\n",
    "Extracts the box coordinates, score, and class ID\n",
    "\n",
    "Calculates the top, left, right, and bottom pixel coordinates for the box based on the x, y, width, and height\n",
    "\n",
    "Draws a rectangle on the image using those box coordinates and a color\n",
    "\n",
    "Writes the class name and score on the image next to the box\n",
    "\n",
    "Prints the class name, score, and box coordinates to the console\n",
    "\n"
   ]
  },
  {
   "cell_type": "code",
   "execution_count": 6,
   "id": "83ede7da",
   "metadata": {},
   "outputs": [],
   "source": [
    "'''it preprocesses the image, \n",
    "runs object detection using the YOLO model,\n",
    " draws the detections on the image,\n",
    "  and returns the final output image. \n",
    "  This provides the full pipeline \n",
    "  from input image to processed output \n",
    "  image with object detection results.\n",
    "'''\n",
    "\n",
    "def detect_image(image, yolo, all_classes):\n",
    "    \"\"\"Use yolo v3 to detect images.\n",
    "\n",
    "    # Argument:\n",
    "        image: original image.\n",
    "        yolo: YOLO, yolo model.\n",
    "        all_classes: all classes name.\n",
    "\n",
    "    # Returns:\n",
    "        image: processed image.\n",
    "    \"\"\"\n",
    "    pimage = process_image(image)\n",
    "\n",
    "    start = time.time()\n",
    "    boxes, classes, scores = yolo.predict(pimage, image.shape)\n",
    "    end = time.time()\n",
    "\n",
    "    print('time: {0:.2f}s'.format(end - start))\n",
    "\n",
    "    if boxes is not None:\n",
    "        draw(image, boxes, scores, classes, all_classes)\n",
    "\n",
    "    return image"
   ]
  },
  {
   "cell_type": "markdown",
   "id": "9faac04d",
   "metadata": {},
   "source": [
    "The goal is to run a YOLO object detection model on an input image and draw the detections on the image.\n",
    "\n",
    "It takes as input:\n",
    "\n",
    "The original image\n",
    "The YOLO model object\n",
    "A list of all class name strings\n",
    "It then:\n",
    "\n",
    "Preprocesses the image using the process_image function to resize, format, and normalize it for the model.\n",
    "\n",
    "Runs the YOLO model to get the predicted boxes, class IDs, and confidence scores. It times how long this takes.\n",
    "\n",
    "If there are any detected boxes, it calls the draw function to draw the boxes, class names, and scores on the original input image.\n",
    "\n",
    "Returns the image with the detections drawn on it."
   ]
  },
  {
   "cell_type": "code",
   "execution_count": 7,
   "id": "aa2c54fc",
   "metadata": {},
   "outputs": [],
   "source": [
    "'''It opens the video\n",
    "Loops through frames\n",
    "Runs object detection on each frame\n",
    "Displays and saves the detected frames\n",
    "Closes the video and cleanup\n",
    "This provides a full pipeline\n",
    " to run object detection on a video\n",
    "  and save the output.\n",
    "\n",
    "'''\n",
    "def detect_video(video, yolo, all_classes):\n",
    "    \"\"\"Use yolo v3 to detect video.\n",
    "\n",
    "    # Argument:\n",
    "        video: video file.\n",
    "        yolo: YOLO, yolo model.\n",
    "        all_classes: all classes name.\n",
    "    \"\"\"\n",
    "    video_path = os.path.join(\"videos\", \"test\", video)\n",
    "    if not os.path.exists(video_path):\n",
    "        os.makedirs(video_path)\n",
    "    camera = cv2.VideoCapture(video_path)\n",
    "    \n",
    "    if not camera.isOpened():\n",
    "        print(\"Failed to open input video!\")\n",
    "        return\n",
    "    \n",
    "    cv2.namedWindow(\"detection\", cv2.WINDOW_AUTOSIZE)\n",
    "\n",
    "    # Prepare for saving the detected video\n",
    "    sz = (int(camera.get(cv2.CAP_PROP_FRAME_WIDTH)),\n",
    "        int(camera.get(cv2.CAP_PROP_FRAME_HEIGHT)))\n",
    "    fourcc = cv2.VideoWriter_fourcc(*'MP4V')\n",
    "\n",
    "    \n",
    "    vout = cv2.VideoWriter()\n",
    "    vout.open(os.path.join(\"videos\", \"res\", video), fourcc, 10, sz, True)\n",
    "\n",
    "    if vout.isOpened():\n",
    "        print(\"Video writer is open!\")\n",
    "    else:\n",
    "        print(\"Failed to open video writer!\")\n",
    "\n",
    "    while True:\n",
    "        res, frame = camera.read()\n",
    "\n",
    "        if not res:\n",
    "            break\n",
    "\n",
    "        image = detect_image(frame, yolo, all_classes)\n",
    "        cv2.imshow(\"detection\", image)\n",
    "\n",
    "        # Save the video frame by frame\n",
    "        vout.write(image)\n",
    "\n",
    "        if cv2.waitKey(110) & 0xff == 27:\n",
    "                break\n",
    "\n",
    "    vout.release()\n",
    "    camera.release()\n",
    "    "
   ]
  },
  {
   "cell_type": "markdown",
   "id": "048e7ee0",
   "metadata": {},
   "source": [
    "The goal is to run object detection on a video file using a trained YOLO model.\n",
    "\n",
    "It takes as input:\n",
    "\n",
    "The video file path\n",
    "The YOLO model\n",
    "List of class name strings\n",
    "It then:\n",
    "\n",
    "Opens the video file using OpenCV\n",
    "\n",
    "Checks if the video opened successfully\n",
    "\n",
    "Creates a window to display the video\n",
    "\n",
    "Initializes a VideoWriter to save the output video\n",
    "\n",
    "Loops through each frame of the video:\n",
    "\n",
    "Runs object detection on the frame using detect_image()\n",
    "Displays the detected frame in the window\n",
    "Writes the detected frame to the output video\n",
    "Closes the video writer and releases the camera"
   ]
  },
  {
   "cell_type": "code",
   "execution_count": 8,
   "id": "80255238",
   "metadata": {},
   "outputs": [
    {
     "name": "stdout",
     "output_type": "stream",
     "text": [
      "WARNING:tensorflow:No training configuration found in the save file, so the model was *not* compiled. Compile it manually.\n"
     ]
    }
   ],
   "source": [
    "'''Create a YOLO model instance\n",
    "Get path to class name file\n",
    "Extract class names from file into a list\n",
    "Store the list of class names in all_classes\n",
    "This provides the YOLO model object and list \n",
    "of class names that will be used\n",
    " for detecting objects in images/video.\n",
    "'''\n",
    "yolo = YOLO(0.3, 0.5)\n",
    "file = 'data/coco_classes.txt'\n",
    "all_classes = get_classes(file)"
   ]
  },
  {
   "cell_type": "markdown",
   "id": "1da039ff",
   "metadata": {},
   "source": [
    "Create a YOLO object detection model instance, with confidence threshold of 0.3 and IOU threshold of 0.5.\n",
    "\n",
    "Get the path to the coco_classes.txt file which contains the list of class names.\n",
    "\n",
    "Call the get_classes() function, passing the file path.\n",
    "\n",
    "get_classes() reads the class name strings from the file and returns a list of all the classes.\n",
    "\n",
    "Store this list of classes in the all_classes variable."
   ]
  },
  {
   "cell_type": "code",
   "execution_count": 9,
   "id": "10ef1b9c",
   "metadata": {},
   "outputs": [
    {
     "data": {
      "text/plain": [
       "'Defines the input image file\\nConstructs the full path\\nReads in the image\\nRuns object detection\\nSaves the detected image to an output file\\nThis loads an image, runs detection on it using YOLO,\\n and saves the output image with bounding boxes drawn.'"
      ]
     },
     "execution_count": 9,
     "metadata": {},
     "output_type": "execute_result"
    }
   ],
   "source": [
    "'''Defines the input image file\n",
    "Constructs the full path\n",
    "Reads in the image\n",
    "Runs object detection\n",
    "Saves the detected image to an output file\n",
    "This loads an image, runs detection on it using YOLO,\n",
    " and saves the output image with bounding boxes drawn.'''\n",
    "\n",
    "# # SI QUEREMOS DETECTAR UNA IMAGEN GUARDADA:\n",
    "\n",
    "# f = 'perro.jpg'\n",
    "# path = 'imagenes/'+f\n",
    "# image = cv2.imread(path)\n",
    "# image = detect_image(image, yolo, all_classes)\n",
    "# cv2.imwrite('imagenes/res/' + f, image) "
   ]
  },
  {
   "cell_type": "markdown",
   "id": "126a747b",
   "metadata": {},
   "source": [
    "Define the filename of the image to detect as 'perro.jpg' and store in variable f.\n",
    "\n",
    "Construct the full path to the image file by concatenating 'imagenes/' and the filename f. Store this path in variable path.\n",
    "\n",
    "Use cv2.imread() to read the image from the path and load it into a numpy array. Store this in variable image.\n",
    "\n",
    "Call the detect_image() function, passing the image, yolo model, and all_classes list. This runs detection on the image.\n",
    "\n",
    "Save the detected image to 'imagenes/res/perro.jpg' by concatenating the path and filename f."
   ]
  },
  {
   "cell_type": "code",
   "execution_count": 10,
   "id": "eaef5790",
   "metadata": {},
   "outputs": [
    {
     "name": "stdout",
     "output_type": "stream",
     "text": [
      "Failed to open input video!\n"
     ]
    },
    {
     "name": "stderr",
     "output_type": "stream",
     "text": [
      "OpenCV: Couldn't read video stream from file \"videos/test/prueba.mp4\"\n"
     ]
    }
   ],
   "source": [
    "'''Calls detect_video(), passing the video file, \n",
    "model, and classes detect_video() handles opening the video,\n",
    " detecting objects, and saving the output\n",
    "This runs YOLO object detection on each frame of the input video and saves a new video with detections drawn on it.\n",
    "\n",
    "So with one line we can easily process a full video for object detection using the YOLO model.'''\n",
    "\n",
    "# SI QUEREMOS DETECTAR UN VIDEO GUARDADO:\n",
    "detect_video('prueba.mp4',yolo,all_classes)"
   ]
  },
  {
   "cell_type": "markdown",
   "id": "a03df032",
   "metadata": {},
   "source": [
    "Call the detect_video() function, passing:\n",
    "\n",
    "The filename of the video to detect ('prueba.mp4')\n",
    "The yolo model object\n",
    "The all_classes list of class names\n",
    "detect_video() will then:\n",
    "\n",
    "Open the video file\n",
    "Loop through each frame\n",
    "Run object detection on each frame using yolo and all_classes\n",
    "Display and save the detected frames to an output video\n"
   ]
  }
 ],
 "metadata": {
  "kernelspec": {
   "display_name": "Python 3 (ipykernel)",
   "language": "python",
   "name": "python3"
  },
  "language_info": {
   "codemirror_mode": {
    "name": "ipython",
    "version": 3
   },
   "file_extension": ".py",
   "mimetype": "text/x-python",
   "name": "python",
   "nbconvert_exporter": "python",
   "pygments_lexer": "ipython3",
   "version": "3.11.4"
  }
 },
 "nbformat": 4,
 "nbformat_minor": 5
}
